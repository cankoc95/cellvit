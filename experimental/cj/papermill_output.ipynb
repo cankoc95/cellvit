{
 "cells": [
  {
   "attachments": {},
   "cell_type": "markdown",
   "id": "fabc3370",
   "metadata": {
    "papermill": {
     "duration": 0.004294,
     "end_time": "2023-04-02T19:23:35.634525",
     "exception": false,
     "start_time": "2023-04-02T19:23:35.630231",
     "status": "completed"
    },
    "tags": []
   },
   "source": [
    "# init"
   ]
  },
  {
   "cell_type": "code",
   "execution_count": 1,
   "id": "025be989",
   "metadata": {
    "execution": {
     "iopub.execute_input": "2023-04-02T19:23:35.644149Z",
     "iopub.status.busy": "2023-04-02T19:23:35.643647Z",
     "iopub.status.idle": "2023-04-02T19:23:37.701845Z",
     "shell.execute_reply": "2023-04-02T19:23:37.701279Z"
    },
    "papermill": {
     "duration": 2.065149,
     "end_time": "2023-04-02T19:23:37.703409",
     "exception": false,
     "start_time": "2023-04-02T19:23:35.638260",
     "status": "completed"
    },
    "tags": []
   },
   "outputs": [],
   "source": [
    "import os\n",
    "import random\n",
    "import shutil\n",
    "import time\n",
    "import warnings\n",
    "from datetime import date\n",
    "from collections import Counter\n",
    "import numpy as np\n",
    "import matplotlib.pyplot as plt\n",
    "import gc\n",
    "import wandb\n",
    "import uuid\n",
    "import tempfile\n",
    "\n",
    "import torch\n",
    "import torch.nn as nn\n",
    "import torch.backends.cudnn as cudnn\n",
    "import torch.optim\n",
    "\n",
    "import torch.utils.data as data\n",
    "import torchvision.transforms as transforms\n",
    "import torchvision.datasets as datasets\n",
    "from torch.cuda.amp import GradScaler\n",
    "# from torchmetrics.classification import MulticlassAccuracy, F1\n",
    "\n",
    "import timm\n",
    "from tqdm import tqdm, trange\n",
    "\n",
    "from IPython.display import Image "
   ]
  },
  {
   "cell_type": "code",
   "execution_count": 2,
   "id": "403a42f6",
   "metadata": {
    "execution": {
     "iopub.execute_input": "2023-04-02T19:23:37.711877Z",
     "iopub.status.busy": "2023-04-02T19:23:37.711589Z",
     "iopub.status.idle": "2023-04-02T19:23:37.715553Z",
     "shell.execute_reply": "2023-04-02T19:23:37.715079Z"
    },
    "papermill": {
     "duration": 0.009461,
     "end_time": "2023-04-02T19:23:37.716682",
     "exception": false,
     "start_time": "2023-04-02T19:23:37.707221",
     "status": "completed"
    },
    "tags": []
   },
   "outputs": [],
   "source": [
    "GPU=0\n",
    "SEED=1\n",
    "\n",
    "random.seed(SEED)\n",
    "torch.manual_seed(SEED)\n",
    "cudnn.deterministic = True"
   ]
  },
  {
   "cell_type": "code",
   "execution_count": 3,
   "id": "d414d7bd",
   "metadata": {
    "execution": {
     "iopub.execute_input": "2023-04-02T19:23:37.724618Z",
     "iopub.status.busy": "2023-04-02T19:23:37.724323Z",
     "iopub.status.idle": "2023-04-02T19:23:37.837535Z",
     "shell.execute_reply": "2023-04-02T19:23:37.836885Z"
    },
    "papermill": {
     "duration": 0.118493,
     "end_time": "2023-04-02T19:23:37.838657",
     "exception": false,
     "start_time": "2023-04-02T19:23:37.720164",
     "status": "completed"
    },
    "tags": []
   },
   "outputs": [
    {
     "name": "stdout",
     "output_type": "stream",
     "text": [
      "GPU(s) available: 1\n",
      "Device: cuda:0\n"
     ]
    }
   ],
   "source": [
    "# Print num GPUs available\n",
    "print(f\"GPU(s) available: {torch.cuda.device_count()}\") \n",
    "# Set device\n",
    "device = torch.device(\"cuda:0\" if torch.cuda.is_available() else \"cpu\")\n",
    "print(f\"Device: {device}\")"
   ]
  },
  {
   "attachments": {},
   "cell_type": "markdown",
   "id": "3b2e1203",
   "metadata": {
    "papermill": {
     "duration": 0.003621,
     "end_time": "2023-04-02T19:23:37.846186",
     "exception": false,
     "start_time": "2023-04-02T19:23:37.842565",
     "status": "completed"
    },
    "tags": []
   },
   "source": [
    "## Config"
   ]
  },
  {
   "cell_type": "code",
   "execution_count": 4,
   "id": "a1a929c3",
   "metadata": {
    "execution": {
     "iopub.execute_input": "2023-04-02T19:23:37.854496Z",
     "iopub.status.busy": "2023-04-02T19:23:37.854174Z",
     "iopub.status.idle": "2023-04-02T19:23:37.859286Z",
     "shell.execute_reply": "2023-04-02T19:23:37.858802Z"
    },
    "papermill": {
     "duration": 0.010784,
     "end_time": "2023-04-02T19:23:37.860574",
     "exception": false,
     "start_time": "2023-04-02T19:23:37.849790",
     "status": "completed"
    },
    "tags": []
   },
   "outputs": [],
   "source": [
    "class CFG:\n",
    "  ARCH = 'maxvit_large_tf_224'\n",
    "  START_EPOCH = 0\n",
    "  EPOCHS = 20\n",
    "  LR = 0.1\n",
    "  MOMENTUM = 0.9\n",
    "  WEIGHT_DECAY = 1e-4\n",
    "  ADAM_EPSILON = 1e-6\n",
    "  PRINT_FREQ = 200\n",
    "  TRAIN_BATCH = 22\n",
    "  VAL_BATCH = 22\n",
    "  WORKERS = 4\n",
    "  DATADIR = \"/data/home/ec2-user/broad/training_images/BBBC037/\"\n",
    "  TRAINDIR = DATADIR+\"train\"\n",
    "  VALDIR = DATADIR+\"val\"\n",
    "  TESTDIR = DATADIR+\"test\"\n",
    "\n",
    "  PRETRAINED = False\n",
    "  IMAGE_SIZE = 224\n",
    "  IN_CHANS = 5\n",
    "  NUM_CLASSES = 46\n",
    "\n",
    "  LEARNING_RATE = 0.1\n",
    "  ADAM_EPSILON = 1e-6\n",
    "  # WEIGHT_DECAY = 0.01 # for adamw\n",
    "  L2_PENALTY = 0.01 # for RMSprop\n",
    "  RMS_MOMENTEM = 0 # for RMSprop\n",
    "\n",
    "  ### learning rate scheduler (LRS)\n",
    "  # scheduler = 'ReduceLROnPlateau' # []\n",
    "  # scheduler = 'CosineAnnealingLR'\n",
    "  PLATEAU_FACTOR = 0.5\n",
    "  PLATEAU_PATIENCE = 3\n",
    "\n",
    "  RANDOM_SEED = 42\n",
    "\n",
    "  OUTPUT_DIR = '/home/ubuntu' + '/saved_models/' + str(date.today())\n",
    "  CHECKPOINT_LAST = OUTPUT_DIR + '/' + ARCH + '/checkpoint-last'\n",
    "  CHECKPOINT_BEST = OUTPUT_DIR + '/' + ARCH + '/checkpoint-best'\n",
    "\n",
    "  WANDB_NOTEBOOK_NAME = str(date.today()) + '_' + ARCH + '_cjdonahoe'\n"
   ]
  },
  {
   "attachments": {},
   "cell_type": "markdown",
   "id": "aa414e69",
   "metadata": {
    "papermill": {
     "duration": 0.00349,
     "end_time": "2023-04-02T19:23:37.867658",
     "exception": false,
     "start_time": "2023-04-02T19:23:37.864168",
     "status": "completed"
    },
    "tags": []
   },
   "source": [
    "## W&B"
   ]
  },
  {
   "cell_type": "code",
   "execution_count": 5,
   "id": "af6e2889",
   "metadata": {
    "execution": {
     "iopub.execute_input": "2023-04-02T19:23:37.876208Z",
     "iopub.status.busy": "2023-04-02T19:23:37.875822Z",
     "iopub.status.idle": "2023-04-02T19:23:42.881924Z",
     "shell.execute_reply": "2023-04-02T19:23:42.881357Z"
    },
    "papermill": {
     "duration": 5.01187,
     "end_time": "2023-04-02T19:23:42.883179",
     "exception": false,
     "start_time": "2023-04-02T19:23:37.871309",
     "status": "completed"
    },
    "tags": []
   },
   "outputs": [
    {
     "name": "stderr",
     "output_type": "stream",
     "text": [
      "Failed to detect the name of this notebook, you can set it manually with the WANDB_NOTEBOOK_NAME environment variable to enable code saving.\n"
     ]
    },
    {
     "name": "stderr",
     "output_type": "stream",
     "text": [
      "\u001b[34m\u001b[1mwandb\u001b[0m: Currently logged in as: \u001b[33mcjdonahoe\u001b[0m (\u001b[33mcellvit\u001b[0m). Use \u001b[1m`wandb login --relogin`\u001b[0m to force relogin\n"
     ]
    },
    {
     "data": {
      "text/html": [
       "Tracking run with wandb version 0.14.0"
      ],
      "text/plain": [
       "<IPython.core.display.HTML object>"
      ]
     },
     "metadata": {},
     "output_type": "display_data"
    },
    {
     "data": {
      "text/html": [
       "Run data is saved locally in <code>/tmp/tmp2zj2x7ru/wandb/run-20230402_192338-ca821db79405460e8fd29aa44effa01d</code>"
      ],
      "text/plain": [
       "<IPython.core.display.HTML object>"
      ]
     },
     "metadata": {},
     "output_type": "display_data"
    },
    {
     "data": {
      "text/html": [
       "Syncing run <strong><a href='https://wandb.ai/cellvit/cjdonahoe--cellvit/runs/ca821db79405460e8fd29aa44effa01d' target=\"_blank\">ca821db79405460e8fd29aa44effa01d</a></strong> to <a href='https://wandb.ai/cellvit/cjdonahoe--cellvit' target=\"_blank\">Weights & Biases</a> (<a href='https://wandb.me/run' target=\"_blank\">docs</a>)<br/>"
      ],
      "text/plain": [
       "<IPython.core.display.HTML object>"
      ]
     },
     "metadata": {},
     "output_type": "display_data"
    },
    {
     "data": {
      "text/html": [
       " View project at <a href='https://wandb.ai/cellvit/cjdonahoe--cellvit' target=\"_blank\">https://wandb.ai/cellvit/cjdonahoe--cellvit</a>"
      ],
      "text/plain": [
       "<IPython.core.display.HTML object>"
      ]
     },
     "metadata": {},
     "output_type": "display_data"
    },
    {
     "data": {
      "text/html": [
       " View run at <a href='https://wandb.ai/cellvit/cjdonahoe--cellvit/runs/ca821db79405460e8fd29aa44effa01d' target=\"_blank\">https://wandb.ai/cellvit/cjdonahoe--cellvit/runs/ca821db79405460e8fd29aa44effa01d</a>"
      ],
      "text/plain": [
       "<IPython.core.display.HTML object>"
      ]
     },
     "metadata": {},
     "output_type": "display_data"
    }
   ],
   "source": [
    "os.environ['WANDB_API_KEY']='0f110ed76bb0d63c6552597f89bfc99bf2469e43'\n",
    "\n",
    "class WandBLogger(object):\n",
    "    def __init__(self, variant, project, prefix=''):\n",
    "      \"\"\"\n",
    "      Args:\n",
    "        variant: dictionary of hyperparameters\n",
    "        project: name of project\n",
    "      \"\"\"\n",
    "      log_dir = tempfile.mkdtemp()\n",
    "      if prefix != '':\n",
    "          project = '{}--{}'.format(prefix, project)\n",
    "\n",
    "      wandb.init(\n",
    "          config=variant,\n",
    "          project=project,\n",
    "          dir=log_dir,\n",
    "          id=uuid.uuid4().hex,\n",
    "      )\n",
    "\n",
    "    def log(self, *args, **kwargs):\n",
    "      wandb.log(*args, **kwargs)\n",
    "\n",
    "wblogger = WandBLogger(\n",
    "    variant={\n",
    "      'initial_learning_rate': CFG.LR,\n",
    "      'adam_epsilon': CFG.ADAM_EPSILON,\n",
    "      'num_epochs': CFG.EPOCHS,\n",
    "      'batch_size': CFG.TRAIN_BATCH,\n",
    "      'weight_decay': CFG.WEIGHT_DECAY,\n",
    "      'architecture': CFG.ARCH,\n",
    "      'pretrained': CFG.PRETRAINED,\n",
    "    },\n",
    "    project=f'cellvit',\n",
    "    prefix='cjdonahoe'\n",
    ")\n"
   ]
  },
  {
   "attachments": {},
   "cell_type": "markdown",
   "id": "6673abcd",
   "metadata": {
    "papermill": {
     "duration": 0.004192,
     "end_time": "2023-04-02T19:23:42.891946",
     "exception": false,
     "start_time": "2023-04-02T19:23:42.887754",
     "status": "completed"
    },
    "tags": []
   },
   "source": [
    "# Functions"
   ]
  },
  {
   "cell_type": "code",
   "execution_count": 6,
   "id": "7e4d0572",
   "metadata": {
    "execution": {
     "iopub.execute_input": "2023-04-02T19:23:42.901568Z",
     "iopub.status.busy": "2023-04-02T19:23:42.901155Z",
     "iopub.status.idle": "2023-04-02T19:23:42.905445Z",
     "shell.execute_reply": "2023-04-02T19:23:42.904884Z"
    },
    "papermill": {
     "duration": 0.010537,
     "end_time": "2023-04-02T19:23:42.906624",
     "exception": false,
     "start_time": "2023-04-02T19:23:42.896087",
     "status": "completed"
    },
    "tags": []
   },
   "outputs": [],
   "source": [
    "def save_checkpoint(state, is_best, filename='checkpoint.pth.tar'):\n",
    "    torch.save(state, filename)\n",
    "    if is_best:\n",
    "        shutil.copyfile(filename, 'model_best.pth.tar')"
   ]
  },
  {
   "cell_type": "code",
   "execution_count": 7,
   "id": "f3b10c24",
   "metadata": {
    "execution": {
     "iopub.execute_input": "2023-04-02T19:23:42.916185Z",
     "iopub.status.busy": "2023-04-02T19:23:42.915702Z",
     "iopub.status.idle": "2023-04-02T19:23:42.920937Z",
     "shell.execute_reply": "2023-04-02T19:23:42.920444Z"
    },
    "papermill": {
     "duration": 0.011316,
     "end_time": "2023-04-02T19:23:42.922168",
     "exception": false,
     "start_time": "2023-04-02T19:23:42.910852",
     "status": "completed"
    },
    "tags": []
   },
   "outputs": [],
   "source": [
    "class AverageMeter(object):\n",
    "    \"\"\"Computes and stores the average and current value\"\"\"\n",
    "    def __init__(self, name, fmt=':f'):\n",
    "        self.name = name\n",
    "        self.fmt = fmt\n",
    "        self.reset()\n",
    "\n",
    "    def reset(self):\n",
    "        self.val = 0\n",
    "        self.avg = 0\n",
    "        self.sum = 0\n",
    "        self.count = 0\n",
    "\n",
    "    def update(self, val, n=1):\n",
    "        self.val = val\n",
    "        self.sum += val * n\n",
    "        self.count += n\n",
    "        self.avg = self.sum / self.count\n",
    "\n",
    "    def __str__(self):\n",
    "        fmtstr = '{name} {val' + self.fmt + '} ({avg' + self.fmt + '})'\n",
    "        return fmtstr.format(**self.__dict__)"
   ]
  },
  {
   "cell_type": "code",
   "execution_count": 8,
   "id": "d22cf894",
   "metadata": {
    "execution": {
     "iopub.execute_input": "2023-04-02T19:23:42.931397Z",
     "iopub.status.busy": "2023-04-02T19:23:42.931046Z",
     "iopub.status.idle": "2023-04-02T19:23:42.936011Z",
     "shell.execute_reply": "2023-04-02T19:23:42.935464Z"
    },
    "papermill": {
     "duration": 0.010828,
     "end_time": "2023-04-02T19:23:42.937174",
     "exception": false,
     "start_time": "2023-04-02T19:23:42.926346",
     "status": "completed"
    },
    "tags": []
   },
   "outputs": [],
   "source": [
    "class ProgressMeter(object):\n",
    "    def __init__(self, num_batches, meters, prefix=\"\"):\n",
    "        self.batch_fmtstr = self._get_batch_fmtstr(num_batches)\n",
    "        self.meters = meters\n",
    "        self.prefix = prefix\n",
    "\n",
    "    def display(self, batch):\n",
    "        entries = [self.prefix + self.batch_fmtstr.format(batch)]\n",
    "        entries += [str(meter) for meter in self.meters]\n",
    "        print('\\t'.join(entries))\n",
    "\n",
    "    def _get_batch_fmtstr(self, num_batches):\n",
    "        num_digits = len(str(num_batches // 1))\n",
    "        fmt = '{:' + str(num_digits) + 'd}'\n",
    "        return '[' + fmt + '/' + fmt.format(num_batches) + ']'"
   ]
  },
  {
   "cell_type": "code",
   "execution_count": 9,
   "id": "e4c785d5",
   "metadata": {
    "execution": {
     "iopub.execute_input": "2023-04-02T19:23:42.946804Z",
     "iopub.status.busy": "2023-04-02T19:23:42.946341Z",
     "iopub.status.idle": "2023-04-02T19:23:42.951189Z",
     "shell.execute_reply": "2023-04-02T19:23:42.950706Z"
    },
    "papermill": {
     "duration": 0.010813,
     "end_time": "2023-04-02T19:23:42.952313",
     "exception": false,
     "start_time": "2023-04-02T19:23:42.941500",
     "status": "completed"
    },
    "tags": []
   },
   "outputs": [],
   "source": [
    "def accuracy(output, target, topk=(1,)):\n",
    "    \"\"\"Computes the accuracy over the k top predictions for the specified values of k\"\"\"\n",
    "    with torch.no_grad():\n",
    "        maxk = max(topk)\n",
    "        batch_size = target.size(0)\n",
    "\n",
    "        _, pred = output.topk(maxk, 1, True, True)\n",
    "        pred = pred.t()\n",
    "        correct = pred.eq(target.view(1, -1).expand_as(pred))\n",
    "\n",
    "        res = []\n",
    "        for k in topk:\n",
    "            correct_k = correct[:k].reshape(-1).float().sum(0, keepdim=True)\n",
    "            res.append(correct_k.mul_(100.0 / batch_size))\n",
    "        return res"
   ]
  },
  {
   "cell_type": "code",
   "execution_count": 10,
   "id": "5cb5c211",
   "metadata": {
    "execution": {
     "iopub.execute_input": "2023-04-02T19:23:42.961944Z",
     "iopub.status.busy": "2023-04-02T19:23:42.961492Z",
     "iopub.status.idle": "2023-04-02T19:23:42.965827Z",
     "shell.execute_reply": "2023-04-02T19:23:42.965323Z"
    },
    "papermill": {
     "duration": 0.010368,
     "end_time": "2023-04-02T19:23:42.966947",
     "exception": false,
     "start_time": "2023-04-02T19:23:42.956579",
     "status": "completed"
    },
    "tags": []
   },
   "outputs": [],
   "source": [
    "def get_class_weights(dataset):\n",
    "    ''' Get class weights for a dataset\n",
    "    Args:\n",
    "        dataset: torch.utils.data.Dataset\n",
    "    Returns:\n",
    "        class_weights: torch.FloatTensor\n",
    "    '''\n",
    "    \n",
    "    class_counts = Counter(dataset.targets)\n",
    "    n_classes = len(class_counts.keys())\n",
    "    total_count = len(dataset.targets)\n",
    "    class_weights = list({class_id: total_count/(n_classes * class_counts) for class_id, class_counts in class_counts.items()}.values())\n",
    "    class_weights = torch.FloatTensor(class_weights).cuda()\n",
    "    return class_weights"
   ]
  },
  {
   "cell_type": "code",
   "execution_count": 11,
   "id": "57bb07b0",
   "metadata": {
    "execution": {
     "iopub.execute_input": "2023-04-02T19:23:42.976255Z",
     "iopub.status.busy": "2023-04-02T19:23:42.975987Z",
     "iopub.status.idle": "2023-04-02T19:23:42.980147Z",
     "shell.execute_reply": "2023-04-02T19:23:42.979609Z"
    },
    "papermill": {
     "duration": 0.010136,
     "end_time": "2023-04-02T19:23:42.981337",
     "exception": false,
     "start_time": "2023-04-02T19:23:42.971201",
     "status": "completed"
    },
    "tags": []
   },
   "outputs": [],
   "source": [
    "class SplitTensorToFiveChannels(object):\n",
    "    \"\"\"Convert images in Pytorch Dataset to Tensors with one channel\n",
    "    for each discrete fluerecent image in a Cell Painting sample.\"\"\"\n",
    "\n",
    "    def __call__(self, img):\n",
    "        # select the first channel since the image is grayscale\n",
    "        img = img[0,:,:]\n",
    "        # split the image into the 6 channels and remove the last channel\n",
    "        img = torch.tensor_split(img,6,dim=1)[:-1]\n",
    "        # concatenate the 5 channels into a single tensor\n",
    "        img = torch.stack(img, dim=0)\n",
    "        return img\n"
   ]
  },
  {
   "attachments": {},
   "cell_type": "markdown",
   "id": "6666eb42",
   "metadata": {
    "papermill": {
     "duration": 0.004281,
     "end_time": "2023-04-02T19:23:42.989939",
     "exception": false,
     "start_time": "2023-04-02T19:23:42.985658",
     "status": "completed"
    },
    "tags": []
   },
   "source": [
    "## MaxVitClassifier"
   ]
  },
  {
   "cell_type": "code",
   "execution_count": 12,
   "id": "4c6404ac",
   "metadata": {
    "execution": {
     "iopub.execute_input": "2023-04-02T19:23:42.999904Z",
     "iopub.status.busy": "2023-04-02T19:23:42.999691Z",
     "iopub.status.idle": "2023-04-02T19:23:43.006090Z",
     "shell.execute_reply": "2023-04-02T19:23:43.005513Z"
    },
    "papermill": {
     "duration": 0.012958,
     "end_time": "2023-04-02T19:23:43.007235",
     "exception": false,
     "start_time": "2023-04-02T19:23:42.994277",
     "status": "completed"
    },
    "tags": []
   },
   "outputs": [],
   "source": [
    "class MaxVitClassifier(nn.Module):\n",
    "    def __init__(self, checkpoint=None):\n",
    "        super().__init__()\n",
    "        self.model_name = CFG.ARCH\n",
    "        self.model = timm.create_model(\n",
    "            CFG.ARCH,\n",
    "            in_chans=CFG.IN_CHANS,\n",
    "            pretrained=CFG.PRETRAINED, \n",
    "            num_classes=CFG.NUM_CLASSES)\n",
    "        # n_features = self.model.head.in_features\n",
    "        # self.model.head = nn.Linear(n_features, num_classes)\n",
    "        # self.model.fc = nn.Linear(n_features, num_classes)\n",
    "        # if checkpoint:\n",
    "        #   self.model.load_state_dict(torch.load(checkpoint), strict=False)\n",
    "\n",
    "    def forward(self, x):\n",
    "        x = self.model(x)\n",
    "        return x\n",
    "    \n",
    "    def freeze(self):\n",
    "        # To freeze the residual layers\n",
    "        for param in self.model.parameters():\n",
    "            param.requires_grad = False\n",
    "\n",
    "        for param in self.model.head.parameters():\n",
    "            param.requires_grad = True\n",
    "    \n",
    "    def unfreeze(self):\n",
    "        # Unfreeze all layers\n",
    "        for param in self.model.parameters():\n",
    "            param.requires_grad = True"
   ]
  },
  {
   "attachments": {},
   "cell_type": "markdown",
   "id": "66ea5e9c",
   "metadata": {
    "papermill": {
     "duration": 0.004207,
     "end_time": "2023-04-02T19:23:43.015885",
     "exception": false,
     "start_time": "2023-04-02T19:23:43.011678",
     "status": "completed"
    },
    "tags": []
   },
   "source": [
    "# Train & Validation Functions"
   ]
  },
  {
   "cell_type": "code",
   "execution_count": 13,
   "id": "d4ca40d4",
   "metadata": {
    "execution": {
     "iopub.execute_input": "2023-04-02T19:23:43.025722Z",
     "iopub.status.busy": "2023-04-02T19:23:43.025361Z",
     "iopub.status.idle": "2023-04-02T19:23:43.034727Z",
     "shell.execute_reply": "2023-04-02T19:23:43.034182Z"
    },
    "papermill": {
     "duration": 0.015708,
     "end_time": "2023-04-02T19:23:43.035936",
     "exception": false,
     "start_time": "2023-04-02T19:23:43.020228",
     "status": "completed"
    },
    "tags": []
   },
   "outputs": [],
   "source": [
    "def train(train_loader, model, criterion, optimizer, epoch):\n",
    "    batch_time = AverageMeter('Time', ':6.3f')\n",
    "    data_time = AverageMeter('Data', ':6.3f')\n",
    "    losses = AverageMeter('Loss', ':.4e')\n",
    "    top1 = AverageMeter('Acc@1', ':6.2f')\n",
    "    top5 = AverageMeter('Acc@5', ':6.2f')\n",
    "    progress = ProgressMeter(\n",
    "        len(train_loader),\n",
    "        [batch_time, data_time, losses, top1, top5],\n",
    "        prefix=\"Epoch: [{}]\".format(epoch))\n",
    "\n",
    "    # Grad Scaler\n",
    "    scaler = GradScaler()\n",
    "    # switch to train mode\n",
    "    model.train()\n",
    "\n",
    "    running_loss = 0.0\n",
    "    running_corrects = 0\n",
    "\n",
    "    end = time.time()\n",
    "    for i, (images, target) in enumerate(train_loader):\n",
    "        # measure data loading time\n",
    "        data_time.update(time.time() - end)\n",
    "\n",
    "        # move data to GPU\n",
    "        if GPU is not None:\n",
    "            images = images.cuda(GPU, non_blocking=True)\n",
    "        if torch.cuda.is_available():\n",
    "            target = target.cuda(GPU, non_blocking=True)\n",
    "\n",
    "        # compute output\n",
    "        with torch.autocast(device_type='cuda'):\n",
    "            output = model(images)\n",
    "            loss = criterion(output, target)\n",
    "\n",
    "            _, preds = torch.max(output, 1)\n",
    "        \n",
    "        running_loss += loss.item() * images.size(0)\n",
    "        running_corrects += torch.sum(preds == target.data)\n",
    "\n",
    "        # measure accuracy and record loss\n",
    "        acc1, acc5 = accuracy(output, target, topk=(1, 5))\n",
    "        losses.update(loss.item(), images.size(0))\n",
    "        top1.update(acc1[0], images.size(0))\n",
    "        top5.update(acc5[0], images.size(0))\n",
    "        \n",
    "        # compute gradient and do SGD step\n",
    "        # use the scaler\n",
    "        scaler.scale(loss).backward()\n",
    "        scaler.step(optimizer)\n",
    "        scaler.update()\n",
    "\n",
    "        # measure elapsed time\n",
    "        batch_time.update(time.time() - end)\n",
    "        end = time.time()\n",
    "\n",
    "        if i % CFG.PRINT_FREQ == 0:\n",
    "            progress.display(i)\n",
    "\n",
    "    epoch_loss = running_loss / len(train_loader.dataset)\n",
    "    epoch_acc = running_corrects.double() / len(train_loader.dataset)\n",
    "    \n",
    "    # print('{} Loss: {:.4f} Acc: {:.4f}'.format(\"train\", epoch_loss, epoch_acc))\n",
    "    wandb.log({\"train/loss\": losses.avg, 'train/acc1': top1.avg, 'train/acc5': top5.avg})\n",
    "\n",
    "    wblogdict[f'{\"train\"}/loss'] = np.round(epoch_loss, 4)\n",
    "    wblogdict[f'{\"train\"}/acc'] = np.round(epoch_acc.cpu(), 3)\n",
    "    wblogdict['train/learning_rate'] = CFG.LEARNING_RATE"
   ]
  },
  {
   "cell_type": "code",
   "execution_count": 14,
   "id": "5e1ae670",
   "metadata": {
    "execution": {
     "iopub.execute_input": "2023-04-02T19:23:43.070178Z",
     "iopub.status.busy": "2023-04-02T19:23:43.069742Z",
     "iopub.status.idle": "2023-04-02T19:23:43.078583Z",
     "shell.execute_reply": "2023-04-02T19:23:43.077955Z"
    },
    "papermill": {
     "duration": 0.039447,
     "end_time": "2023-04-02T19:23:43.079791",
     "exception": false,
     "start_time": "2023-04-02T19:23:43.040344",
     "status": "completed"
    },
    "tags": []
   },
   "outputs": [],
   "source": [
    "def validate(val_loader, model, criterion):\n",
    "    batch_time = AverageMeter('Time', ':6.3f')\n",
    "    losses = AverageMeter('Loss', ':.4e')\n",
    "    top1 = AverageMeter('Acc@1', ':6.2f')\n",
    "    top5 = AverageMeter('Acc@5', ':6.2f')\n",
    "    progress = ProgressMeter(\n",
    "        len(val_loader),\n",
    "        [batch_time, losses, top1, top5],\n",
    "        prefix='Validation: ')\n",
    "\n",
    "    # switch to evaluate mode\n",
    "    model.eval()\n",
    "\n",
    "    running_loss = 0.0\n",
    "    running_corrects = 0\n",
    "\n",
    "    with torch.no_grad():\n",
    "        end = time.time()\n",
    "        for i, (images, target) in enumerate(val_loader):\n",
    "            if GPU is not None:\n",
    "                images = images.cuda(GPU, non_blocking=True)\n",
    "            if torch.cuda.is_available():\n",
    "                target = target.cuda(GPU, non_blocking=True)\n",
    "\n",
    "            # compute output\n",
    "            output = model(images)\n",
    "            loss = criterion(output, target)\n",
    "\n",
    "            _, preds = torch.max(output, 1)\n",
    "\n",
    "            # measure accuracy and record loss\n",
    "            acc1, acc5 = accuracy(output, target, topk=(1, 5))\n",
    "            losses.update(loss.item(), images.size(0))\n",
    "            top1.update(acc1[0], images.size(0))\n",
    "            top5.update(acc5[0], images.size(0))\n",
    "\n",
    "            # measure elapsed time\n",
    "            batch_time.update(time.time() - end)\n",
    "            end = time.time()\n",
    "\n",
    "            if i % CFG.PRINT_FREQ == 0:\n",
    "                progress.display(i)\n",
    "\n",
    "        # TODO: this should also be done with the ProgressMeter\n",
    "        print(' * Acc@1 {top1.avg:.3f} Acc@5 {top5.avg:.3f}'\n",
    "              .format(top1=top1, top5=top5))\n",
    "        \n",
    "        running_loss += loss.item() * images.size(0)\n",
    "        running_corrects += torch.sum(preds == target.data)\n",
    "\n",
    "    epoch_loss = running_loss / len(val_loader.dataset)\n",
    "    epoch_acc = running_corrects.double() / len(val_loader.dataset)\n",
    "    \n",
    "    print('{} Loss: {:.4f} Acc: {:.4f}'.format(\"Validation\", epoch_loss, epoch_acc))\n",
    "\n",
    "    wblogdict[f'{\"val\"}/loss'] = np.round(epoch_loss, 4)\n",
    "    wblogdict[f'{\"val\"}/acc'] = np.round(epoch_acc.cpu(), 3)\n",
    "\n",
    "    scheduler.step(epoch_loss)\n",
    "\n",
    "    wandb.log({\"val/loss\": losses.avg, 'val/acc1': top1.avg, 'val/acc5': top5.avg})\n",
    "    # wandb.log({'lr': scheduler.get_last_lr()[0]})\n",
    "    return top1.avg, top5.avg"
   ]
  },
  {
   "attachments": {},
   "cell_type": "markdown",
   "id": "934500c9",
   "metadata": {
    "papermill": {
     "duration": 0.004343,
     "end_time": "2023-04-02T19:23:43.088592",
     "exception": false,
     "start_time": "2023-04-02T19:23:43.084249",
     "status": "completed"
    },
    "tags": []
   },
   "source": [
    "# Transformations, Datasets, & Dataloaders"
   ]
  },
  {
   "cell_type": "code",
   "execution_count": 15,
   "id": "ee6846f2",
   "metadata": {
    "execution": {
     "iopub.execute_input": "2023-04-02T19:23:43.098368Z",
     "iopub.status.busy": "2023-04-02T19:23:43.098019Z",
     "iopub.status.idle": "2023-04-02T19:23:43.103352Z",
     "shell.execute_reply": "2023-04-02T19:23:43.102763Z"
    },
    "papermill": {
     "duration": 0.011916,
     "end_time": "2023-04-02T19:23:43.104796",
     "exception": false,
     "start_time": "2023-04-02T19:23:43.092880",
     "status": "completed"
    },
    "tags": []
   },
   "outputs": [],
   "source": [
    "transform_train = transforms.Compose([\n",
    "    transforms.RandomVerticalFlip(),\n",
    "    transforms.Resize((CFG.IMAGE_SIZE, CFG.IMAGE_SIZE*6)),\n",
    "    transforms.ToTensor(),\n",
    "    SplitTensorToFiveChannels(),\n",
    "    transforms.Normalize(mean=[0.5, 0.5, 0.5, 0.5, 0.5], std=[0.225, 0.225, 0.225, 0.225, 0.225]),\n",
    "])\n",
    "\n",
    "transform_val = transforms.Compose([\n",
    "    transforms.Resize((CFG.IMAGE_SIZE, CFG.IMAGE_SIZE*6)),\n",
    "    transforms.ToTensor(),\n",
    "    SplitTensorToFiveChannels(),\n",
    "    transforms.Normalize(mean=[0.5, 0.5, 0.5, 0.5, 0.5], std=[0.225, 0.225, 0.225, 0.225, 0.225]),\n",
    "])\n"
   ]
  },
  {
   "cell_type": "code",
   "execution_count": 16,
   "id": "1b521b62",
   "metadata": {
    "execution": {
     "iopub.execute_input": "2023-04-02T19:23:43.114739Z",
     "iopub.status.busy": "2023-04-02T19:23:43.114534Z",
     "iopub.status.idle": "2023-04-02T19:23:43.356451Z",
     "shell.execute_reply": "2023-04-02T19:23:43.355856Z"
    },
    "papermill": {
     "duration": 0.248367,
     "end_time": "2023-04-02T19:23:43.357774",
     "exception": false,
     "start_time": "2023-04-02T19:23:43.109407",
     "status": "completed"
    },
    "tags": []
   },
   "outputs": [],
   "source": [
    "train_dataset = datasets.ImageFolder(\n",
    "    CFG.TRAINDIR, transform=transform_train)\n",
    "\n",
    "val_dataset = datasets.ImageFolder(\n",
    "    CFG.VALDIR, transform=transform_val)"
   ]
  },
  {
   "cell_type": "code",
   "execution_count": 17,
   "id": "af8f40a5",
   "metadata": {
    "execution": {
     "iopub.execute_input": "2023-04-02T19:23:43.369456Z",
     "iopub.status.busy": "2023-04-02T19:23:43.369062Z",
     "iopub.status.idle": "2023-04-02T19:23:43.373146Z",
     "shell.execute_reply": "2023-04-02T19:23:43.372411Z"
    },
    "papermill": {
     "duration": 0.012283,
     "end_time": "2023-04-02T19:23:43.374670",
     "exception": false,
     "start_time": "2023-04-02T19:23:43.362387",
     "status": "completed"
    },
    "tags": []
   },
   "outputs": [],
   "source": [
    "# sample_weight = get_class_weights(train_dataset)\n",
    "# # sampler = data.WeightedRandomSampler(sample_weight, len(train_dataset))\n",
    "# sampler = data.WeightedRandomSampler(sample_weight, 1000*CFG.BATCH_SIZE)"
   ]
  },
  {
   "cell_type": "code",
   "execution_count": 18,
   "id": "d04ed7f7",
   "metadata": {
    "execution": {
     "iopub.execute_input": "2023-04-02T19:23:43.386904Z",
     "iopub.status.busy": "2023-04-02T19:23:43.386513Z",
     "iopub.status.idle": "2023-04-02T19:23:43.390993Z",
     "shell.execute_reply": "2023-04-02T19:23:43.390344Z"
    },
    "papermill": {
     "duration": 0.011583,
     "end_time": "2023-04-02T19:23:43.392302",
     "exception": false,
     "start_time": "2023-04-02T19:23:43.380719",
     "status": "completed"
    },
    "tags": []
   },
   "outputs": [],
   "source": [
    "train_loader = torch.utils.data.DataLoader(\n",
    "        train_dataset, batch_size=CFG.TRAIN_BATCH, shuffle=True,\n",
    "        num_workers=CFG.WORKERS, pin_memory=True, sampler=None)"
   ]
  },
  {
   "cell_type": "code",
   "execution_count": 19,
   "id": "66c8c859",
   "metadata": {
    "execution": {
     "iopub.execute_input": "2023-04-02T19:23:43.402524Z",
     "iopub.status.busy": "2023-04-02T19:23:43.402013Z",
     "iopub.status.idle": "2023-04-02T19:23:43.405971Z",
     "shell.execute_reply": "2023-04-02T19:23:43.405373Z"
    },
    "papermill": {
     "duration": 0.010287,
     "end_time": "2023-04-02T19:23:43.407164",
     "exception": false,
     "start_time": "2023-04-02T19:23:43.396877",
     "status": "completed"
    },
    "tags": []
   },
   "outputs": [],
   "source": [
    "val_loader = torch.utils.data.DataLoader(\n",
    "        val_dataset, batch_size=CFG.VAL_BATCH, shuffle=True,\n",
    "        num_workers=CFG.WORKERS, pin_memory=True, sampler=None)"
   ]
  },
  {
   "attachments": {},
   "cell_type": "markdown",
   "id": "57de8c54",
   "metadata": {
    "papermill": {
     "duration": 0.00455,
     "end_time": "2023-04-02T19:23:43.416709",
     "exception": false,
     "start_time": "2023-04-02T19:23:43.412159",
     "status": "completed"
    },
    "tags": []
   },
   "source": [
    "# Training Loop"
   ]
  },
  {
   "cell_type": "code",
   "execution_count": 20,
   "id": "9ee152f2",
   "metadata": {
    "execution": {
     "iopub.execute_input": "2023-04-02T19:23:43.426826Z",
     "iopub.status.busy": "2023-04-02T19:23:43.426495Z",
     "iopub.status.idle": "2023-04-02T19:23:47.256538Z",
     "shell.execute_reply": "2023-04-02T19:23:47.255866Z"
    },
    "papermill": {
     "duration": 3.836773,
     "end_time": "2023-04-02T19:23:47.258041",
     "exception": false,
     "start_time": "2023-04-02T19:23:43.421268",
     "status": "completed"
    },
    "tags": []
   },
   "outputs": [],
   "source": [
    "model = torch.compile(MaxVitClassifier(CFG))\n",
    "model = model.cuda(GPU)\n"
   ]
  },
  {
   "cell_type": "code",
   "execution_count": 21,
   "id": "c3c9b4b9",
   "metadata": {
    "execution": {
     "iopub.execute_input": "2023-04-02T19:23:47.268397Z",
     "iopub.status.busy": "2023-04-02T19:23:47.268021Z",
     "iopub.status.idle": "2023-04-02T19:23:47.280705Z",
     "shell.execute_reply": "2023-04-02T19:23:47.280055Z"
    },
    "papermill": {
     "duration": 0.018962,
     "end_time": "2023-04-02T19:23:47.281761",
     "exception": false,
     "start_time": "2023-04-02T19:23:47.262799",
     "status": "completed"
    },
    "tags": []
   },
   "outputs": [],
   "source": [
    "# define loss function (criterion) and optimizer\n",
    "# get the class weights from the validation set weight=get_class_weights(train_dataset)\n",
    "criterion = nn.CrossEntropyLoss(weight=get_class_weights(train_dataset)).cuda(GPU)\n",
    "\n",
    "# optimizer = torch.optim.Adam(\n",
    "#   model.parameters(), \n",
    "#   lr=CFG.LR, \n",
    "#   # momentum=MOMENTUM, \n",
    "#   weight_decay=CFG.WEIGHT_DECAY\n",
    "#   )\n",
    "\n",
    "# scheduler = torch.optim.lr_scheduler.CosineAnnealingLR(optimizer, T_max=CFG.EPOCHS)\n",
    "# optimizer = torch.optim.Adam(model.parameters(), lr=CFG.LEARNING_RATE, weight_decay=CFG.WEIGHT_DECAY)\n",
    "optimizer = torch.optim.SGD(\n",
    "    model.parameters(),\n",
    "    lr=CFG.LEARNING_RATE,\n",
    "    momentum=CFG.MOMENTUM,\n",
    "    weight_decay=CFG.WEIGHT_DECAY\n",
    "    )\n",
    "scheduler = torch.optim.lr_scheduler.CosineAnnealingLR(\n",
    "    optimizer, T_max = CFG.EPOCHS, eta_min = 1e-4)\n",
    "    # T_0 = 8,# Number of iterations for the first restart\n",
    "    # T_mult = 1, # A factor increases TiTi​ after a restart\n",
    "    # eta_min = 1e-4) # Minimum learning rate\n",
    "\n",
    "torch.set_float32_matmul_precision('high')"
   ]
  },
  {
   "cell_type": "code",
   "execution_count": 22,
   "id": "46f3c3a2",
   "metadata": {
    "execution": {
     "iopub.execute_input": "2023-04-02T19:23:47.292714Z",
     "iopub.status.busy": "2023-04-02T19:23:47.292398Z",
     "iopub.status.idle": "2023-04-02T19:23:47.296043Z",
     "shell.execute_reply": "2023-04-02T19:23:47.295354Z"
    },
    "papermill": {
     "duration": 0.010588,
     "end_time": "2023-04-02T19:23:47.297345",
     "exception": false,
     "start_time": "2023-04-02T19:23:47.286757",
     "status": "completed"
    },
    "tags": []
   },
   "outputs": [],
   "source": [
    "best_acc1 = 0"
   ]
  },
  {
   "cell_type": "code",
   "execution_count": 23,
   "id": "e2a8e51c",
   "metadata": {
    "execution": {
     "iopub.execute_input": "2023-04-02T19:23:47.307966Z",
     "iopub.status.busy": "2023-04-02T19:23:47.307490Z"
    },
    "papermill": {
     "duration": 12657.297972,
     "end_time": "2023-04-02T22:54:44.600282",
     "exception": false,
     "start_time": "2023-04-02T19:23:47.302310",
     "status": "completed"
    },
    "tags": [
     "parameters"
    ]
   },
   "outputs": [
    {
     "name": "stdout",
     "output_type": "stream",
     "text": [
      "Epoch 0/19\n",
      "--------------------\n"
     ]
    },
    {
     "name": "stdout",
     "output_type": "stream",
     "text": [
      "Epoch: [0][   0/4325]\tTime 134.993 (134.993)\tData  0.779 ( 0.779)\tLoss 3.8426e+00 (3.8426e+00)\tAcc@1   4.55 (  4.55)\tAcc@5  18.18 ( 18.18)\n"
     ]
    },
    {
     "name": "stdout",
     "output_type": "stream",
     "text": [
      "Epoch: [0][ 200/4325]\tTime  0.341 ( 1.012)\tData  0.000 ( 0.004)\tLoss 4.9780e+01 (2.5287e+01)\tAcc@1   0.00 (  0.59)\tAcc@5   4.55 (  7.10)\n"
     ]
    },
    {
     "name": "stdout",
     "output_type": "stream",
     "text": [
      "Epoch: [0][ 400/4325]\tTime  0.342 ( 0.682)\tData  0.000 ( 0.002)\tLoss 2.7126e+01 (2.5557e+01)\tAcc@1   0.00 (  0.66)\tAcc@5   0.00 (  7.01)\n"
     ]
    },
    {
     "name": "stdout",
     "output_type": "stream",
     "text": [
      "Epoch: [0][ 600/4325]\tTime  0.342 ( 0.569)\tData  0.000 ( 0.002)\tLoss 2.6228e+01 (2.5554e+01)\tAcc@1   0.00 (  0.64)\tAcc@5   4.55 (  7.00)\n"
     ]
    },
    {
     "name": "stdout",
     "output_type": "stream",
     "text": [
      "Epoch: [0][ 800/4325]\tTime  0.342 ( 0.512)\tData  0.000 ( 0.001)\tLoss 5.1038e+01 (2.5842e+01)\tAcc@1   0.00 (  0.58)\tAcc@5   0.00 (  6.94)\n"
     ]
    },
    {
     "name": "stdout",
     "output_type": "stream",
     "text": [
      "Epoch: [0][1000/4325]\tTime  0.342 ( 0.479)\tData  0.000 ( 0.001)\tLoss 2.6874e+01 (2.5910e+01)\tAcc@1   0.00 (  0.60)\tAcc@5   0.00 (  6.97)\n"
     ]
    },
    {
     "name": "stdout",
     "output_type": "stream",
     "text": [
      "Epoch: [0][1200/4325]\tTime  0.342 ( 0.456)\tData  0.000 ( 0.001)\tLoss 2.5755e+01 (2.5905e+01)\tAcc@1   0.00 (  0.61)\tAcc@5   0.00 (  7.03)\n"
     ]
    },
    {
     "name": "stdout",
     "output_type": "stream",
     "text": [
      "Epoch: [0][1400/4325]\tTime  0.342 ( 0.440)\tData  0.000 ( 0.001)\tLoss 2.6217e+01 (2.5935e+01)\tAcc@1   0.00 (  0.61)\tAcc@5   9.09 (  6.93)\n"
     ]
    },
    {
     "name": "stdout",
     "output_type": "stream",
     "text": [
      "Epoch: [0][1600/4325]\tTime  0.342 ( 0.428)\tData  0.000 ( 0.001)\tLoss 5.1245e+01 (2.5967e+01)\tAcc@1   0.00 (  0.61)\tAcc@5   4.55 (  6.90)\n"
     ]
    },
    {
     "name": "stdout",
     "output_type": "stream",
     "text": [
      "Epoch: [0][1800/4325]\tTime  0.342 ( 0.419)\tData  0.000 ( 0.001)\tLoss 2.0699e+01 (2.5946e+01)\tAcc@1   4.55 (  0.61)\tAcc@5  18.18 (  6.88)\n"
     ]
    },
    {
     "name": "stdout",
     "output_type": "stream",
     "text": [
      "Epoch: [0][2000/4325]\tTime  0.342 ( 0.411)\tData  0.000 ( 0.001)\tLoss 2.5953e+01 (2.5916e+01)\tAcc@1   0.00 (  0.63)\tAcc@5   4.55 (  6.91)\n"
     ]
    },
    {
     "name": "stdout",
     "output_type": "stream",
     "text": [
      "Epoch: [0][2200/4325]\tTime  0.342 ( 0.405)\tData  0.000 ( 0.001)\tLoss 2.5667e+01 (2.5934e+01)\tAcc@1   0.00 (  0.63)\tAcc@5   0.00 (  6.91)\n"
     ]
    },
    {
     "name": "stdout",
     "output_type": "stream",
     "text": [
      "Epoch: [0][2400/4325]\tTime  0.342 ( 0.399)\tData  0.000 ( 0.001)\tLoss 2.5288e+01 (2.5926e+01)\tAcc@1   0.00 (  0.63)\tAcc@5   0.00 (  6.93)\n"
     ]
    },
    {
     "name": "stdout",
     "output_type": "stream",
     "text": [
      "Epoch: [0][2600/4325]\tTime  0.342 ( 0.395)\tData  0.000 ( 0.001)\tLoss 2.5203e+01 (2.5907e+01)\tAcc@1   0.00 (  0.63)\tAcc@5   9.09 (  6.96)\n"
     ]
    },
    {
     "name": "stdout",
     "output_type": "stream",
     "text": [
      "Epoch: [0][2800/4325]\tTime  0.342 ( 0.391)\tData  0.000 ( 0.001)\tLoss 2.6610e+01 (2.5906e+01)\tAcc@1   0.00 (  0.63)\tAcc@5   4.55 (  6.96)\n"
     ]
    },
    {
     "name": "stdout",
     "output_type": "stream",
     "text": [
      "Epoch: [0][3000/4325]\tTime  0.342 ( 0.388)\tData  0.000 ( 0.000)\tLoss 2.6320e+01 (2.5905e+01)\tAcc@1   0.00 (  0.63)\tAcc@5   0.00 (  6.98)\n"
     ]
    },
    {
     "name": "stdout",
     "output_type": "stream",
     "text": [
      "Epoch: [0][3200/4325]\tTime  0.342 ( 0.385)\tData  0.000 ( 0.000)\tLoss 2.7283e+01 (2.5918e+01)\tAcc@1   0.00 (  0.62)\tAcc@5   4.55 (  6.97)\n"
     ]
    },
    {
     "name": "stdout",
     "output_type": "stream",
     "text": [
      "Epoch: [0][3400/4325]\tTime  0.342 ( 0.383)\tData  0.001 ( 0.000)\tLoss 1.7388e+01 (2.5920e+01)\tAcc@1   9.09 (  0.62)\tAcc@5  31.82 (  7.00)\n"
     ]
    },
    {
     "name": "stdout",
     "output_type": "stream",
     "text": [
      "Epoch: [0][3600/4325]\tTime  0.342 ( 0.380)\tData  0.000 ( 0.000)\tLoss 2.1851e+01 (2.5921e+01)\tAcc@1   4.55 (  0.62)\tAcc@5   4.55 (  7.01)\n"
     ]
    },
    {
     "name": "stdout",
     "output_type": "stream",
     "text": [
      "Epoch: [0][3800/4325]\tTime  0.342 ( 0.379)\tData  0.000 ( 0.000)\tLoss 2.6118e+01 (2.5930e+01)\tAcc@1   0.00 (  0.62)\tAcc@5   4.55 (  7.00)\n"
     ]
    },
    {
     "name": "stdout",
     "output_type": "stream",
     "text": [
      "Epoch: [0][4000/4325]\tTime  0.342 ( 0.377)\tData  0.000 ( 0.000)\tLoss 2.4502e+01 (2.5963e+01)\tAcc@1   0.00 (  0.61)\tAcc@5  18.18 (  7.00)\n"
     ]
    },
    {
     "name": "stdout",
     "output_type": "stream",
     "text": [
      "Epoch: [0][4200/4325]\tTime  0.342 ( 0.375)\tData  0.000 ( 0.000)\tLoss 2.6430e+01 (2.6012e+01)\tAcc@1   0.00 (  0.61)\tAcc@5   4.55 (  6.97)\n"
     ]
    },
    {
     "name": "stdout",
     "output_type": "stream",
     "text": [
      "Validation: [   0/1235]\tTime 151.227 (151.227)\tLoss 2.6782e+01 (2.6782e+01)\tAcc@1   0.00 (  0.00)\tAcc@5   0.00 (  0.00)\n"
     ]
    },
    {
     "name": "stdout",
     "output_type": "stream",
     "text": [
      "Validation: [ 200/1235]\tTime  0.184 ( 0.936)\tLoss 2.6166e+01 (2.6340e+01)\tAcc@1   0.00 (  0.57)\tAcc@5   0.00 (  6.49)\n"
     ]
    },
    {
     "name": "stdout",
     "output_type": "stream",
     "text": [
      "Validation: [ 400/1235]\tTime  0.184 ( 0.561)\tLoss 2.6325e+01 (2.6057e+01)\tAcc@1   0.00 (  0.54)\tAcc@5   0.00 (  6.56)\n"
     ]
    },
    {
     "name": "stdout",
     "output_type": "stream",
     "text": [
      "Validation: [ 600/1235]\tTime  0.184 ( 0.436)\tLoss 2.0340e+01 (2.6007e+01)\tAcc@1   4.55 (  0.65)\tAcc@5  18.18 (  7.01)\n"
     ]
    },
    {
     "name": "stdout",
     "output_type": "stream",
     "text": [
      "Validation: [ 800/1235]\tTime  0.184 ( 0.373)\tLoss 2.6615e+01 (2.6081e+01)\tAcc@1   0.00 (  0.61)\tAcc@5   9.09 (  7.08)\n"
     ]
    },
    {
     "name": "stdout",
     "output_type": "stream",
     "text": [
      "Validation: [1000/1235]\tTime  0.184 ( 0.335)\tLoss 2.5293e+01 (2.6113e+01)\tAcc@1   0.00 (  0.59)\tAcc@5   9.09 (  7.12)\n"
     ]
    },
    {
     "name": "stdout",
     "output_type": "stream",
     "text": [
      "Validation: [1200/1235]\tTime  0.184 ( 0.310)\tLoss 2.6098e+01 (2.6074e+01)\tAcc@1   0.00 (  0.61)\tAcc@5   4.55 (  7.02)\n"
     ]
    },
    {
     "name": "stdout",
     "output_type": "stream",
     "text": [
      " * Acc@1 0.615 Acc@5 6.986\n",
      "Validation Loss: 0.0210 Acc: 0.0000\n"
     ]
    },
    {
     "name": "stderr",
     "output_type": "stream",
     "text": [
      "/opt/conda/envs/torch/lib/python3.9/site-packages/torch/optim/lr_scheduler.py:152: UserWarning: The epoch parameter in `scheduler.step()` was not necessary and is being deprecated where possible. Please use `scheduler.step()` to step the scheduler. During the deprecation, if epoch is different from None, the closed form is used instead of the new chainable form, where available. Please open an issue if you are unable to replicate your use case: https://github.com/pytorch/pytorch/issues/new/choose.\n",
      "  warnings.warn(EPOCH_DEPRECATION_WARNING, UserWarning)\n"
     ]
    },
    {
     "name": "stdout",
     "output_type": "stream",
     "text": [
      "lr: 0.09935900782652786\n",
      "Epoch 1/19\n",
      "--------------------\n"
     ]
    },
    {
     "name": "stdout",
     "output_type": "stream",
     "text": [
      "Epoch: [1][   0/4325]\tTime  1.168 ( 1.168)\tData  0.816 ( 0.816)\tLoss 2.6465e+01 (2.6465e+01)\tAcc@1   0.00 (  0.00)\tAcc@5   4.55 (  4.55)\n"
     ]
    },
    {
     "name": "stdout",
     "output_type": "stream",
     "text": [
      "Epoch: [1][ 200/4325]\tTime  0.342 ( 0.346)\tData  0.000 ( 0.004)\tLoss 2.6279e+01 (2.6269e+01)\tAcc@1   0.00 (  0.43)\tAcc@5   9.09 (  6.54)\n"
     ]
    },
    {
     "name": "stdout",
     "output_type": "stream",
     "text": [
      "Epoch: [1][ 400/4325]\tTime  0.342 ( 0.344)\tData  0.000 ( 0.002)\tLoss 2.0472e+01 (2.6099e+01)\tAcc@1   4.55 (  0.52)\tAcc@5  13.64 (  6.48)\n"
     ]
    },
    {
     "name": "stdout",
     "output_type": "stream",
     "text": [
      "Epoch: [1][ 600/4325]\tTime  0.342 ( 0.345)\tData  0.000 ( 0.002)\tLoss 2.5022e+01 (2.5941e+01)\tAcc@1   0.00 (  0.58)\tAcc@5   9.09 (  6.76)\n"
     ]
    },
    {
     "name": "stdout",
     "output_type": "stream",
     "text": [
      "Epoch: [1][ 800/4325]\tTime  0.342 ( 0.344)\tData  0.000 ( 0.001)\tLoss 2.5252e+01 (2.5963e+01)\tAcc@1   0.00 (  0.57)\tAcc@5   4.55 (  6.74)\n"
     ]
    },
    {
     "name": "stdout",
     "output_type": "stream",
     "text": [
      "Epoch: [1][1000/4325]\tTime  0.342 ( 0.344)\tData  0.000 ( 0.001)\tLoss 2.4874e+01 (2.6002e+01)\tAcc@1   0.00 (  0.57)\tAcc@5   4.55 (  6.83)\n"
     ]
    },
    {
     "name": "stdout",
     "output_type": "stream",
     "text": [
      "Epoch: [1][1200/4325]\tTime  0.342 ( 0.344)\tData  0.000 ( 0.001)\tLoss 2.6584e+01 (2.6051e+01)\tAcc@1   0.00 (  0.54)\tAcc@5   4.55 (  6.88)\n"
     ]
    },
    {
     "name": "stdout",
     "output_type": "stream",
     "text": [
      "Epoch: [1][1400/4325]\tTime  0.342 ( 0.344)\tData  0.000 ( 0.001)\tLoss 2.2349e+01 (2.6097e+01)\tAcc@1   4.55 (  0.52)\tAcc@5   9.09 (  6.85)\n"
     ]
    },
    {
     "name": "stdout",
     "output_type": "stream",
     "text": [
      "Epoch: [1][1600/4325]\tTime  0.342 ( 0.344)\tData  0.000 ( 0.001)\tLoss 2.7142e+01 (2.6220e+01)\tAcc@1   0.00 (  0.52)\tAcc@5   0.00 (  6.87)\n"
     ]
    },
    {
     "name": "stdout",
     "output_type": "stream",
     "text": [
      "Epoch: [1][1800/4325]\tTime  0.342 ( 0.343)\tData  0.000 ( 0.001)\tLoss 2.4762e+01 (2.6194e+01)\tAcc@1   0.00 (  0.52)\tAcc@5   9.09 (  6.81)\n"
     ]
    },
    {
     "name": "stdout",
     "output_type": "stream",
     "text": [
      "Epoch: [1][2000/4325]\tTime  0.342 ( 0.343)\tData  0.000 ( 0.001)\tLoss 2.5713e+01 (2.6137e+01)\tAcc@1   0.00 (  0.54)\tAcc@5   9.09 (  6.87)\n"
     ]
    },
    {
     "name": "stdout",
     "output_type": "stream",
     "text": [
      "Epoch: [1][2200/4325]\tTime  0.342 ( 0.343)\tData  0.000 ( 0.001)\tLoss 2.5024e+01 (2.6140e+01)\tAcc@1   0.00 (  0.55)\tAcc@5   4.55 (  6.89)\n"
     ]
    },
    {
     "name": "stdout",
     "output_type": "stream",
     "text": [
      "Epoch: [1][2400/4325]\tTime  0.342 ( 0.343)\tData  0.000 ( 0.001)\tLoss 2.7872e+01 (2.6129e+01)\tAcc@1   0.00 (  0.55)\tAcc@5   0.00 (  6.89)\n"
     ]
    },
    {
     "name": "stdout",
     "output_type": "stream",
     "text": [
      "Epoch: [1][2600/4325]\tTime  0.342 ( 0.343)\tData  0.000 ( 0.001)\tLoss 2.5807e+01 (2.6147e+01)\tAcc@1   0.00 (  0.54)\tAcc@5   4.55 (  6.94)\n"
     ]
    },
    {
     "name": "stdout",
     "output_type": "stream",
     "text": [
      "Epoch: [1][2800/4325]\tTime  0.342 ( 0.343)\tData  0.000 ( 0.001)\tLoss 2.6625e+01 (2.6143e+01)\tAcc@1   0.00 (  0.54)\tAcc@5   4.55 (  6.99)\n"
     ]
    },
    {
     "name": "stdout",
     "output_type": "stream",
     "text": [
      "Epoch: [1][3000/4325]\tTime  0.342 ( 0.343)\tData  0.000 ( 0.001)\tLoss 2.2548e+01 (2.6140e+01)\tAcc@1   0.00 (  0.55)\tAcc@5  13.64 (  6.98)\n"
     ]
    },
    {
     "name": "stdout",
     "output_type": "stream",
     "text": [
      "Epoch: [1][3200/4325]\tTime  0.342 ( 0.343)\tData  0.000 ( 0.001)\tLoss 2.3815e+01 (2.6119e+01)\tAcc@1   0.00 (  0.57)\tAcc@5  13.64 (  6.98)\n"
     ]
    },
    {
     "name": "stdout",
     "output_type": "stream",
     "text": [
      "Epoch: [1][3400/4325]\tTime  0.342 ( 0.343)\tData  0.000 ( 0.001)\tLoss 2.1719e+01 (2.6086e+01)\tAcc@1   4.55 (  0.58)\tAcc@5  13.64 (  6.97)\n"
     ]
    },
    {
     "name": "stdout",
     "output_type": "stream",
     "text": [
      "Epoch: [1][3600/4325]\tTime  0.342 ( 0.343)\tData  0.000 ( 0.000)\tLoss 2.6297e+01 (2.6104e+01)\tAcc@1   0.00 (  0.58)\tAcc@5   4.55 (  6.98)\n"
     ]
    },
    {
     "name": "stdout",
     "output_type": "stream",
     "text": [
      "Epoch: [1][3800/4325]\tTime  0.342 ( 0.343)\tData  0.000 ( 0.000)\tLoss 2.2691e+01 (2.6083e+01)\tAcc@1   4.55 (  0.60)\tAcc@5   4.55 (  6.96)\n"
     ]
    },
    {
     "name": "stdout",
     "output_type": "stream",
     "text": [
      "Epoch: [1][4000/4325]\tTime  0.342 ( 0.343)\tData  0.000 ( 0.000)\tLoss 2.2401e+01 (2.6074e+01)\tAcc@1   4.55 (  0.61)\tAcc@5   9.09 (  6.96)\n"
     ]
    },
    {
     "name": "stdout",
     "output_type": "stream",
     "text": [
      "Epoch: [1][4200/4325]\tTime  0.342 ( 0.343)\tData  0.000 ( 0.000)\tLoss 2.6520e+01 (2.6057e+01)\tAcc@1   0.00 (  0.62)\tAcc@5   0.00 (  6.98)\n"
     ]
    },
    {
     "name": "stdout",
     "output_type": "stream",
     "text": [
      "Validation: [   0/1235]\tTime  1.037 ( 1.037)\tLoss 2.6488e+01 (2.6488e+01)\tAcc@1   0.00 (  0.00)\tAcc@5   0.00 (  0.00)\n"
     ]
    },
    {
     "name": "stdout",
     "output_type": "stream",
     "text": [
      "Validation: [ 200/1235]\tTime  0.184 ( 0.189)\tLoss 2.6424e+01 (2.6147e+01)\tAcc@1   0.00 (  0.54)\tAcc@5   4.55 (  7.17)\n"
     ]
    },
    {
     "name": "stdout",
     "output_type": "stream",
     "text": [
      "Validation: [ 400/1235]\tTime  0.184 ( 0.186)\tLoss 2.2744e+01 (2.6263e+01)\tAcc@1   4.55 (  0.65)\tAcc@5   9.09 (  7.12)\n"
     ]
    },
    {
     "name": "stdout",
     "output_type": "stream",
     "text": [
      "Validation: [ 600/1235]\tTime  0.184 ( 0.186)\tLoss 2.5529e+01 (2.6123e+01)\tAcc@1   0.00 (  0.62)\tAcc@5  13.64 (  7.12)\n"
     ]
    },
    {
     "name": "stdout",
     "output_type": "stream",
     "text": [
      "Validation: [ 800/1235]\tTime  0.184 ( 0.185)\tLoss 2.2134e+01 (2.6219e+01)\tAcc@1   4.55 (  0.64)\tAcc@5   9.09 (  7.09)\n"
     ]
    },
    {
     "name": "stdout",
     "output_type": "stream",
     "text": [
      "Validation: [1000/1235]\tTime  0.184 ( 0.185)\tLoss 2.5650e+01 (2.6112e+01)\tAcc@1   0.00 (  0.63)\tAcc@5  13.64 (  7.11)\n"
     ]
    },
    {
     "name": "stdout",
     "output_type": "stream",
     "text": [
      "Validation: [1200/1235]\tTime  0.185 ( 0.185)\tLoss 2.3199e+01 (2.6065e+01)\tAcc@1   0.00 (  0.62)\tAcc@5   9.09 (  6.98)\n"
     ]
    },
    {
     "name": "stdout",
     "output_type": "stream",
     "text": [
      " * Acc@1 0.615 Acc@5 6.993\n",
      "Validation Loss: 0.0205 Acc: 0.0000\n"
     ]
    },
    {
     "name": "stdout",
     "output_type": "stream",
     "text": [
      "lr: 0.09935962720065465\n",
      "Epoch 2/19\n",
      "--------------------\n"
     ]
    },
    {
     "name": "stdout",
     "output_type": "stream",
     "text": [
      "Epoch: [2][   0/4325]\tTime  1.197 ( 1.197)\tData  0.846 ( 0.846)\tLoss 2.5184e+01 (2.5184e+01)\tAcc@1   0.00 (  0.00)\tAcc@5   0.00 (  0.00)\n"
     ]
    },
    {
     "name": "stdout",
     "output_type": "stream",
     "text": [
      "Epoch: [2][ 200/4325]\tTime  0.342 ( 0.350)\tData  0.000 ( 0.004)\tLoss 2.5552e+01 (2.6327e+01)\tAcc@1   0.00 (  0.68)\tAcc@5   9.09 (  6.92)\n"
     ]
    },
    {
     "name": "stdout",
     "output_type": "stream",
     "text": [
      "Epoch: [2][ 400/4325]\tTime  0.342 ( 0.346)\tData  0.000 ( 0.002)\tLoss 2.4602e+01 (2.5868e+01)\tAcc@1   0.00 (  0.71)\tAcc@5   9.09 (  7.13)\n"
     ]
    },
    {
     "name": "stdout",
     "output_type": "stream",
     "text": [
      "Epoch: [2][ 600/4325]\tTime  0.342 ( 0.345)\tData  0.000 ( 0.002)\tLoss 2.4355e+01 (2.6023e+01)\tAcc@1   0.00 (  0.69)\tAcc@5   9.09 (  7.10)\n"
     ]
    },
    {
     "name": "stdout",
     "output_type": "stream",
     "text": [
      "Epoch: [2][ 800/4325]\tTime  0.342 ( 0.344)\tData  0.000 ( 0.001)\tLoss 2.4444e+01 (2.6049e+01)\tAcc@1   0.00 (  0.72)\tAcc@5   9.09 (  7.11)\n"
     ]
    },
    {
     "name": "stdout",
     "output_type": "stream",
     "text": [
      "Epoch: [2][1000/4325]\tTime  0.342 ( 0.344)\tData  0.000 ( 0.001)\tLoss 2.5475e+01 (2.5962e+01)\tAcc@1   0.00 (  0.71)\tAcc@5   9.09 (  7.10)\n"
     ]
    },
    {
     "name": "stdout",
     "output_type": "stream",
     "text": [
      "Epoch: [2][1200/4325]\tTime  0.342 ( 0.343)\tData  0.000 ( 0.001)\tLoss 2.4369e+01 (2.5964e+01)\tAcc@1   0.00 (  0.69)\tAcc@5  13.64 (  7.06)\n"
     ]
    },
    {
     "name": "stdout",
     "output_type": "stream",
     "text": [
      "Epoch: [2][1400/4325]\tTime  0.342 ( 0.343)\tData  0.000 ( 0.001)\tLoss 2.6360e+01 (2.5986e+01)\tAcc@1   0.00 (  0.67)\tAcc@5   0.00 (  7.08)\n"
     ]
    },
    {
     "name": "stdout",
     "output_type": "stream",
     "text": [
      "Epoch: [2][1600/4325]\tTime  0.342 ( 0.343)\tData  0.000 ( 0.001)\tLoss 1.9633e+01 (2.6035e+01)\tAcc@1   9.09 (  0.69)\tAcc@5  13.64 (  7.13)\n"
     ]
    },
    {
     "name": "stdout",
     "output_type": "stream",
     "text": [
      "Epoch: [2][1800/4325]\tTime  0.342 ( 0.343)\tData  0.000 ( 0.001)\tLoss 5.2364e+01 (2.6060e+01)\tAcc@1   0.00 (  0.69)\tAcc@5   0.00 (  7.15)\n"
     ]
    },
    {
     "name": "stdout",
     "output_type": "stream",
     "text": [
      "Epoch: [2][2000/4325]\tTime  0.342 ( 0.343)\tData  0.000 ( 0.001)\tLoss 2.5568e+01 (2.6073e+01)\tAcc@1   0.00 (  0.69)\tAcc@5   9.09 (  7.14)\n"
     ]
    },
    {
     "name": "stdout",
     "output_type": "stream",
     "text": [
      "Epoch: [2][2200/4325]\tTime  0.342 ( 0.343)\tData  0.000 ( 0.001)\tLoss 2.6076e+01 (2.6069e+01)\tAcc@1   0.00 (  0.69)\tAcc@5   0.00 (  7.07)\n"
     ]
    },
    {
     "name": "stdout",
     "output_type": "stream",
     "text": [
      "Epoch: [2][2400/4325]\tTime  0.342 ( 0.343)\tData  0.000 ( 0.001)\tLoss 2.6891e+01 (2.6057e+01)\tAcc@1   0.00 (  0.67)\tAcc@5   4.55 (  7.02)\n"
     ]
    },
    {
     "name": "stdout",
     "output_type": "stream",
     "text": [
      "Epoch: [2][2600/4325]\tTime  0.342 ( 0.343)\tData  0.000 ( 0.001)\tLoss 4.8162e+01 (2.6070e+01)\tAcc@1   0.00 (  0.65)\tAcc@5  13.64 (  7.02)\n"
     ]
    },
    {
     "name": "stdout",
     "output_type": "stream",
     "text": [
      "Epoch: [2][2800/4325]\tTime  0.342 ( 0.343)\tData  0.000 ( 0.001)\tLoss 2.6805e+01 (2.6063e+01)\tAcc@1   0.00 (  0.64)\tAcc@5   0.00 (  7.01)\n"
     ]
    },
    {
     "name": "stdout",
     "output_type": "stream",
     "text": [
      "Epoch: [2][3000/4325]\tTime  0.342 ( 0.343)\tData  0.000 ( 0.001)\tLoss 2.5212e+01 (2.6049e+01)\tAcc@1   0.00 (  0.64)\tAcc@5   4.55 (  6.98)\n"
     ]
    },
    {
     "name": "stdout",
     "output_type": "stream",
     "text": [
      "Epoch: [2][3200/4325]\tTime  0.342 ( 0.343)\tData  0.000 ( 0.001)\tLoss 2.6298e+01 (2.6058e+01)\tAcc@1   0.00 (  0.63)\tAcc@5   4.55 (  6.95)\n"
     ]
    },
    {
     "name": "stdout",
     "output_type": "stream",
     "text": [
      "Epoch: [2][3400/4325]\tTime  0.342 ( 0.343)\tData  0.000 ( 0.000)\tLoss 2.4543e+01 (2.6054e+01)\tAcc@1   0.00 (  0.63)\tAcc@5   4.55 (  6.97)\n"
     ]
    },
    {
     "name": "stdout",
     "output_type": "stream",
     "text": [
      "Epoch: [2][3600/4325]\tTime  0.342 ( 0.343)\tData  0.000 ( 0.000)\tLoss 2.3583e+01 (2.6085e+01)\tAcc@1   0.00 (  0.62)\tAcc@5   9.09 (  6.94)\n"
     ]
    },
    {
     "name": "stdout",
     "output_type": "stream",
     "text": [
      "Epoch: [2][3800/4325]\tTime  0.342 ( 0.343)\tData  0.000 ( 0.000)\tLoss 2.5240e+01 (2.6072e+01)\tAcc@1   0.00 (  0.62)\tAcc@5   4.55 (  6.96)\n"
     ]
    },
    {
     "name": "stdout",
     "output_type": "stream",
     "text": [
      "Epoch: [2][4000/4325]\tTime  0.342 ( 0.343)\tData  0.000 ( 0.000)\tLoss 2.7880e+01 (2.6073e+01)\tAcc@1   0.00 (  0.61)\tAcc@5   9.09 (  6.97)\n"
     ]
    },
    {
     "name": "stdout",
     "output_type": "stream",
     "text": [
      "Epoch: [2][4200/4325]\tTime  0.342 ( 0.343)\tData  0.000 ( 0.000)\tLoss 2.6023e+01 (2.6068e+01)\tAcc@1   0.00 (  0.61)\tAcc@5   4.55 (  6.95)\n"
     ]
    },
    {
     "name": "stdout",
     "output_type": "stream",
     "text": [
      "Validation: [   0/1235]\tTime  1.068 ( 1.068)\tLoss 2.6103e+01 (2.6103e+01)\tAcc@1   0.00 (  0.00)\tAcc@5   0.00 (  0.00)\n"
     ]
    },
    {
     "name": "stdout",
     "output_type": "stream",
     "text": [
      "Validation: [ 200/1235]\tTime  0.184 ( 0.189)\tLoss 2.5626e+01 (2.5897e+01)\tAcc@1   0.00 (  0.61)\tAcc@5   9.09 (  6.97)\n"
     ]
    },
    {
     "name": "stdout",
     "output_type": "stream",
     "text": [
      "Validation: [ 400/1235]\tTime  0.184 ( 0.187)\tLoss 2.6182e+01 (2.6226e+01)\tAcc@1   0.00 (  0.63)\tAcc@5   0.00 (  6.96)\n"
     ]
    },
    {
     "name": "stdout",
     "output_type": "stream",
     "text": [
      "Validation: [ 600/1235]\tTime  0.184 ( 0.186)\tLoss 2.4095e+01 (2.6103e+01)\tAcc@1   0.00 (  0.65)\tAcc@5  18.18 (  6.84)\n"
     ]
    },
    {
     "name": "stdout",
     "output_type": "stream",
     "text": [
      "Validation: [ 800/1235]\tTime  0.184 ( 0.186)\tLoss 2.6297e+01 (2.6074e+01)\tAcc@1   0.00 (  0.60)\tAcc@5   4.55 (  6.91)\n"
     ]
    },
    {
     "name": "stdout",
     "output_type": "stream",
     "text": [
      "Validation: [1000/1235]\tTime  0.184 ( 0.185)\tLoss 2.6124e+01 (2.6005e+01)\tAcc@1   0.00 (  0.60)\tAcc@5   4.55 (  6.95)\n"
     ]
    },
    {
     "name": "stdout",
     "output_type": "stream",
     "text": [
      "Validation: [1200/1235]\tTime  0.185 ( 0.185)\tLoss 2.6621e+01 (2.6045e+01)\tAcc@1   0.00 (  0.62)\tAcc@5   9.09 (  6.98)\n"
     ]
    },
    {
     "name": "stdout",
     "output_type": "stream",
     "text": [
      " * Acc@1 0.615 Acc@5 7.004\n",
      "Validation Loss: 0.0225 Acc: 0.0000\n"
     ]
    },
    {
     "name": "stdout",
     "output_type": "stream",
     "text": [
      "lr: 0.0993571203687846\n",
      "Epoch 3/19\n",
      "--------------------\n"
     ]
    },
    {
     "name": "stdout",
     "output_type": "stream",
     "text": [
      "Epoch: [3][   0/4325]\tTime  1.218 ( 1.218)\tData  0.869 ( 0.869)\tLoss 2.6715e+01 (2.6715e+01)\tAcc@1   0.00 (  0.00)\tAcc@5   4.55 (  4.55)\n"
     ]
    },
    {
     "name": "stdout",
     "output_type": "stream",
     "text": [
      "Epoch: [3][ 200/4325]\tTime  0.342 ( 0.351)\tData  0.000 ( 0.005)\tLoss 2.5402e+01 (2.5979e+01)\tAcc@1   0.00 (  0.66)\tAcc@5   9.09 (  7.08)\n"
     ]
    },
    {
     "name": "stdout",
     "output_type": "stream",
     "text": [
      "Epoch: [3][ 400/4325]\tTime  0.342 ( 0.346)\tData  0.000 ( 0.002)\tLoss 2.4251e+01 (2.6051e+01)\tAcc@1   0.00 (  0.59)\tAcc@5   9.09 (  6.78)\n"
     ]
    },
    {
     "name": "stdout",
     "output_type": "stream",
     "text": [
      "Epoch: [3][ 600/4325]\tTime  0.342 ( 0.345)\tData  0.000 ( 0.002)\tLoss 2.6082e+01 (2.6232e+01)\tAcc@1   0.00 (  0.56)\tAcc@5   4.55 (  6.47)\n"
     ]
    },
    {
     "name": "stdout",
     "output_type": "stream",
     "text": [
      "Epoch: [3][ 800/4325]\tTime  0.342 ( 0.344)\tData  0.000 ( 0.001)\tLoss 2.1936e+01 (2.6192e+01)\tAcc@1   4.55 (  0.55)\tAcc@5   4.55 (  6.45)\n"
     ]
    },
    {
     "name": "stdout",
     "output_type": "stream",
     "text": [
      "Epoch: [3][1000/4325]\tTime  0.342 ( 0.344)\tData  0.000 ( 0.001)\tLoss 1.9518e+01 (2.6117e+01)\tAcc@1   4.55 (  0.59)\tAcc@5   9.09 (  6.54)\n"
     ]
    },
    {
     "name": "stdout",
     "output_type": "stream",
     "text": [
      "Epoch: [3][1200/4325]\tTime  0.342 ( 0.343)\tData  0.000 ( 0.001)\tLoss 2.6791e+01 (2.6112e+01)\tAcc@1   0.00 (  0.57)\tAcc@5   0.00 (  6.60)\n"
     ]
    },
    {
     "name": "stdout",
     "output_type": "stream",
     "text": [
      "Epoch: [3][1400/4325]\tTime  0.342 ( 0.343)\tData  0.000 ( 0.001)\tLoss 2.4994e+01 (2.6122e+01)\tAcc@1   0.00 (  0.56)\tAcc@5   9.09 (  6.71)\n"
     ]
    },
    {
     "name": "stdout",
     "output_type": "stream",
     "text": [
      "Epoch: [3][1600/4325]\tTime  0.342 ( 0.344)\tData  0.000 ( 0.001)\tLoss 2.5714e+01 (2.6098e+01)\tAcc@1   0.00 (  0.60)\tAcc@5   4.55 (  6.79)\n"
     ]
    },
    {
     "name": "stdout",
     "output_type": "stream",
     "text": [
      "Epoch: [3][1800/4325]\tTime  0.342 ( 0.343)\tData  0.000 ( 0.001)\tLoss 2.7254e+01 (2.6103e+01)\tAcc@1   0.00 (  0.61)\tAcc@5   0.00 (  6.81)\n"
     ]
    },
    {
     "name": "stdout",
     "output_type": "stream",
     "text": [
      "Epoch: [3][2000/4325]\tTime  0.343 ( 0.343)\tData  0.000 ( 0.001)\tLoss 2.6348e+01 (2.6086e+01)\tAcc@1   0.00 (  0.59)\tAcc@5   0.00 (  6.82)\n"
     ]
    },
    {
     "name": "stdout",
     "output_type": "stream",
     "text": [
      "Epoch: [3][2200/4325]\tTime  0.342 ( 0.343)\tData  0.000 ( 0.001)\tLoss 2.5216e+01 (2.6078e+01)\tAcc@1   0.00 (  0.59)\tAcc@5   4.55 (  6.88)\n"
     ]
    },
    {
     "name": "stdout",
     "output_type": "stream",
     "text": [
      "Epoch: [3][2400/4325]\tTime  0.342 ( 0.343)\tData  0.000 ( 0.001)\tLoss 2.1043e+01 (2.6049e+01)\tAcc@1   4.55 (  0.59)\tAcc@5  22.73 (  6.87)\n"
     ]
    },
    {
     "name": "stdout",
     "output_type": "stream",
     "text": [
      "Epoch: [3][2600/4325]\tTime  0.342 ( 0.343)\tData  0.000 ( 0.001)\tLoss 2.5895e+01 (2.6021e+01)\tAcc@1   0.00 (  0.61)\tAcc@5   4.55 (  6.87)\n"
     ]
    },
    {
     "name": "stdout",
     "output_type": "stream",
     "text": [
      "Epoch: [3][2800/4325]\tTime  0.342 ( 0.343)\tData  0.000 ( 0.001)\tLoss 2.4633e+01 (2.6011e+01)\tAcc@1   0.00 (  0.61)\tAcc@5  13.64 (  6.90)\n"
     ]
    },
    {
     "name": "stdout",
     "output_type": "stream",
     "text": [
      "Epoch: [3][3000/4325]\tTime  0.342 ( 0.343)\tData  0.000 ( 0.001)\tLoss 2.1420e+01 (2.5993e+01)\tAcc@1   4.55 (  0.61)\tAcc@5   9.09 (  6.91)\n"
     ]
    },
    {
     "name": "stdout",
     "output_type": "stream",
     "text": [
      "Epoch: [3][3200/4325]\tTime  0.342 ( 0.343)\tData  0.000 ( 0.001)\tLoss 2.5131e+01 (2.6015e+01)\tAcc@1   0.00 (  0.62)\tAcc@5   0.00 (  6.93)\n"
     ]
    },
    {
     "name": "stdout",
     "output_type": "stream",
     "text": [
      "Epoch: [3][3400/4325]\tTime  0.342 ( 0.343)\tData  0.000 ( 0.000)\tLoss 2.3328e+01 (2.5994e+01)\tAcc@1   0.00 (  0.61)\tAcc@5   9.09 (  6.95)\n"
     ]
    },
    {
     "name": "stdout",
     "output_type": "stream",
     "text": [
      "Epoch: [3][3600/4325]\tTime  0.342 ( 0.343)\tData  0.000 ( 0.000)\tLoss 2.0848e+01 (2.6025e+01)\tAcc@1   4.55 (  0.61)\tAcc@5  18.18 (  6.96)\n"
     ]
    },
    {
     "name": "stdout",
     "output_type": "stream",
     "text": [
      "Epoch: [3][3800/4325]\tTime  0.342 ( 0.343)\tData  0.000 ( 0.000)\tLoss 2.4672e+01 (2.6028e+01)\tAcc@1   0.00 (  0.61)\tAcc@5  22.73 (  6.96)\n"
     ]
    },
    {
     "name": "stdout",
     "output_type": "stream",
     "text": [
      "Epoch: [3][4000/4325]\tTime  0.342 ( 0.343)\tData  0.000 ( 0.000)\tLoss 2.6840e+01 (2.6050e+01)\tAcc@1   0.00 (  0.61)\tAcc@5   4.55 (  6.98)\n"
     ]
    },
    {
     "name": "stdout",
     "output_type": "stream",
     "text": [
      "Epoch: [3][4200/4325]\tTime  0.342 ( 0.343)\tData  0.000 ( 0.000)\tLoss 2.6178e+01 (2.6039e+01)\tAcc@1   0.00 (  0.62)\tAcc@5   4.55 (  6.98)\n"
     ]
    },
    {
     "name": "stdout",
     "output_type": "stream",
     "text": [
      "Validation: [   0/1235]\tTime  1.095 ( 1.095)\tLoss 2.4314e+01 (2.4314e+01)\tAcc@1   0.00 (  0.00)\tAcc@5   9.09 (  9.09)\n"
     ]
    },
    {
     "name": "stdout",
     "output_type": "stream",
     "text": [
      "Validation: [ 200/1235]\tTime  0.185 ( 0.189)\tLoss 2.3181e+01 (2.5990e+01)\tAcc@1   4.55 (  0.66)\tAcc@5  13.64 (  6.83)\n"
     ]
    },
    {
     "name": "stdout",
     "output_type": "stream",
     "text": [
      "Validation: [ 400/1235]\tTime  0.185 ( 0.187)\tLoss 4.7866e+01 (2.6177e+01)\tAcc@1   0.00 (  0.70)\tAcc@5   9.09 (  6.97)\n"
     ]
    },
    {
     "name": "stdout",
     "output_type": "stream",
     "text": [
      "Validation: [ 600/1235]\tTime  0.184 ( 0.186)\tLoss 2.6226e+01 (2.6107e+01)\tAcc@1   0.00 (  0.63)\tAcc@5  13.64 (  7.22)\n"
     ]
    },
    {
     "name": "stdout",
     "output_type": "stream",
     "text": [
      "Validation: [ 800/1235]\tTime  0.184 ( 0.186)\tLoss 2.7800e+01 (2.5985e+01)\tAcc@1   0.00 (  0.61)\tAcc@5   0.00 (  7.09)\n"
     ]
    },
    {
     "name": "stdout",
     "output_type": "stream",
     "text": [
      "Validation: [1000/1235]\tTime  0.184 ( 0.185)\tLoss 2.2385e+01 (2.6050e+01)\tAcc@1   4.55 (  0.62)\tAcc@5   9.09 (  7.08)\n"
     ]
    },
    {
     "name": "stdout",
     "output_type": "stream",
     "text": [
      "Validation: [1200/1235]\tTime  0.185 ( 0.185)\tLoss 2.1902e+01 (2.6110e+01)\tAcc@1   4.55 (  0.62)\tAcc@5   4.55 (  6.96)\n"
     ]
    },
    {
     "name": "stdout",
     "output_type": "stream",
     "text": [
      " * Acc@1 0.615 Acc@5 7.000\n",
      "Validation Loss: 0.0197 Acc: 0.0000\n"
     ]
    },
    {
     "name": "stdout",
     "output_type": "stream",
     "text": [
      "lr: 0.09936055570701147\n",
      "Epoch 4/19\n",
      "--------------------\n"
     ]
    },
    {
     "name": "stdout",
     "output_type": "stream",
     "text": [
      "Epoch: [4][   0/4325]\tTime  1.284 ( 1.284)\tData  0.935 ( 0.935)\tLoss 5.0533e+01 (5.0533e+01)\tAcc@1   0.00 (  0.00)\tAcc@5   0.00 (  0.00)\n"
     ]
    },
    {
     "name": "stdout",
     "output_type": "stream",
     "text": [
      "Epoch: [4][ 200/4325]\tTime  0.342 ( 0.351)\tData  0.000 ( 0.005)\tLoss 2.4487e+01 (2.6541e+01)\tAcc@1   0.00 (  0.50)\tAcc@5  13.64 (  6.78)\n"
     ]
    },
    {
     "name": "stdout",
     "output_type": "stream",
     "text": [
      "Epoch: [4][ 400/4325]\tTime  0.342 ( 0.346)\tData  0.000 ( 0.003)\tLoss 5.0751e+01 (2.6228e+01)\tAcc@1   0.00 (  0.52)\tAcc@5   4.55 (  6.70)\n"
     ]
    },
    {
     "name": "stdout",
     "output_type": "stream",
     "text": [
      "Epoch: [4][ 600/4325]\tTime  0.342 ( 0.345)\tData  0.000 ( 0.002)\tLoss 2.5466e+01 (2.6055e+01)\tAcc@1   0.00 (  0.57)\tAcc@5   0.00 (  6.85)\n"
     ]
    },
    {
     "name": "stdout",
     "output_type": "stream",
     "text": [
      "Epoch: [4][ 800/4325]\tTime  0.342 ( 0.344)\tData  0.000 ( 0.001)\tLoss 2.6213e+01 (2.6042e+01)\tAcc@1   0.00 (  0.56)\tAcc@5   0.00 (  6.80)\n"
     ]
    },
    {
     "name": "stdout",
     "output_type": "stream",
     "text": [
      "Epoch: [4][1000/4325]\tTime  0.342 ( 0.344)\tData  0.000 ( 0.001)\tLoss 2.5419e+01 (2.6156e+01)\tAcc@1   0.00 (  0.55)\tAcc@5   4.55 (  6.79)\n"
     ]
    },
    {
     "name": "stdout",
     "output_type": "stream",
     "text": [
      "Epoch: [4][1200/4325]\tTime  0.342 ( 0.343)\tData  0.000 ( 0.001)\tLoss 2.6994e+01 (2.6090e+01)\tAcc@1   0.00 (  0.59)\tAcc@5   4.55 (  6.85)\n"
     ]
    },
    {
     "name": "stdout",
     "output_type": "stream",
     "text": [
      "Epoch: [4][1400/4325]\tTime  0.342 ( 0.343)\tData  0.000 ( 0.001)\tLoss 2.5931e+01 (2.6166e+01)\tAcc@1   0.00 (  0.60)\tAcc@5   9.09 (  6.91)\n"
     ]
    },
    {
     "name": "stdout",
     "output_type": "stream",
     "text": [
      "Epoch: [4][1600/4325]\tTime  0.342 ( 0.344)\tData  0.000 ( 0.001)\tLoss 2.1081e+01 (2.6179e+01)\tAcc@1   4.55 (  0.60)\tAcc@5  13.64 (  7.02)\n"
     ]
    },
    {
     "name": "stdout",
     "output_type": "stream",
     "text": [
      "Epoch: [4][1800/4325]\tTime  0.342 ( 0.343)\tData  0.000 ( 0.001)\tLoss 2.6029e+01 (2.6153e+01)\tAcc@1   0.00 (  0.61)\tAcc@5   4.55 (  6.96)\n"
     ]
    },
    {
     "name": "stdout",
     "output_type": "stream",
     "text": [
      "Epoch: [4][2000/4325]\tTime  0.342 ( 0.343)\tData  0.000 ( 0.001)\tLoss 2.6991e+01 (2.6094e+01)\tAcc@1   0.00 (  0.61)\tAcc@5   0.00 (  6.96)\n"
     ]
    },
    {
     "name": "stdout",
     "output_type": "stream",
     "text": [
      "Epoch: [4][2200/4325]\tTime  0.342 ( 0.343)\tData  0.000 ( 0.001)\tLoss 2.2620e+01 (2.6130e+01)\tAcc@1   4.55 (  0.59)\tAcc@5   4.55 (  6.93)\n"
     ]
    },
    {
     "name": "stdout",
     "output_type": "stream",
     "text": [
      "Epoch: [4][2400/4325]\tTime  0.342 ( 0.343)\tData  0.000 ( 0.001)\tLoss 2.3645e+01 (2.6066e+01)\tAcc@1   0.00 (  0.60)\tAcc@5  13.64 (  6.93)\n"
     ]
    },
    {
     "name": "stdout",
     "output_type": "stream",
     "text": [
      "Epoch: [4][2600/4325]\tTime  0.342 ( 0.343)\tData  0.000 ( 0.001)\tLoss 2.6617e+01 (2.6029e+01)\tAcc@1   0.00 (  0.61)\tAcc@5   0.00 (  6.94)\n"
     ]
    },
    {
     "name": "stdout",
     "output_type": "stream",
     "text": [
      "Epoch: [4][2800/4325]\tTime  0.342 ( 0.343)\tData  0.000 ( 0.001)\tLoss 2.6526e+01 (2.6022e+01)\tAcc@1   0.00 (  0.61)\tAcc@5   0.00 (  6.90)\n"
     ]
    },
    {
     "name": "stdout",
     "output_type": "stream",
     "text": [
      "Epoch: [4][3000/4325]\tTime  0.342 ( 0.343)\tData  0.000 ( 0.001)\tLoss 2.5919e+01 (2.6050e+01)\tAcc@1   0.00 (  0.61)\tAcc@5  13.64 (  6.91)\n"
     ]
    },
    {
     "name": "stdout",
     "output_type": "stream",
     "text": [
      "Epoch: [4][3200/4325]\tTime  0.342 ( 0.343)\tData  0.000 ( 0.001)\tLoss 2.6148e+01 (2.6086e+01)\tAcc@1   0.00 (  0.61)\tAcc@5   4.55 (  6.93)\n"
     ]
    },
    {
     "name": "stdout",
     "output_type": "stream",
     "text": [
      "Epoch: [4][3400/4325]\tTime  0.342 ( 0.343)\tData  0.000 ( 0.001)\tLoss 2.6357e+01 (2.6073e+01)\tAcc@1   0.00 (  0.61)\tAcc@5   4.55 (  6.97)\n"
     ]
    },
    {
     "name": "stdout",
     "output_type": "stream",
     "text": [
      "Epoch: [4][3600/4325]\tTime  0.342 ( 0.343)\tData  0.000 ( 0.001)\tLoss 2.4188e+01 (2.6063e+01)\tAcc@1   0.00 (  0.62)\tAcc@5   9.09 (  6.93)\n"
     ]
    },
    {
     "name": "stdout",
     "output_type": "stream",
     "text": [
      "Epoch: [4][3800/4325]\tTime  0.342 ( 0.343)\tData  0.000 ( 0.000)\tLoss 2.6659e+01 (2.6086e+01)\tAcc@1   0.00 (  0.61)\tAcc@5   0.00 (  6.92)\n"
     ]
    },
    {
     "name": "stdout",
     "output_type": "stream",
     "text": [
      "Epoch: [4][4000/4325]\tTime  0.343 ( 0.343)\tData  0.000 ( 0.000)\tLoss 2.5151e+01 (2.6103e+01)\tAcc@1   0.00 (  0.61)\tAcc@5   9.09 (  6.94)\n"
     ]
    },
    {
     "name": "stdout",
     "output_type": "stream",
     "text": [
      "Epoch: [4][4200/4325]\tTime  0.342 ( 0.343)\tData  0.000 ( 0.000)\tLoss 2.5401e+01 (2.6088e+01)\tAcc@1   0.00 (  0.61)\tAcc@5  13.64 (  6.97)\n"
     ]
    },
    {
     "name": "stdout",
     "output_type": "stream",
     "text": [
      "Validation: [   0/1235]\tTime  1.136 ( 1.136)\tLoss 2.4099e+01 (2.4099e+01)\tAcc@1   0.00 (  0.00)\tAcc@5  13.64 ( 13.64)\n"
     ]
    },
    {
     "name": "stdout",
     "output_type": "stream",
     "text": [
      "Validation: [ 200/1235]\tTime  0.184 ( 0.189)\tLoss 2.6185e+01 (2.6061e+01)\tAcc@1   0.00 (  0.52)\tAcc@5   9.09 (  7.12)\n"
     ]
    },
    {
     "name": "stdout",
     "output_type": "stream",
     "text": [
      "Validation: [ 400/1235]\tTime  0.184 ( 0.187)\tLoss 2.5197e+01 (2.5958e+01)\tAcc@1   0.00 (  0.61)\tAcc@5   4.55 (  7.33)\n"
     ]
    },
    {
     "name": "stdout",
     "output_type": "stream",
     "text": [
      "Validation: [ 600/1235]\tTime  0.184 ( 0.186)\tLoss 2.4243e+01 (2.5947e+01)\tAcc@1   0.00 (  0.58)\tAcc@5  13.64 (  7.11)\n"
     ]
    },
    {
     "name": "stdout",
     "output_type": "stream",
     "text": [
      "Validation: [ 800/1235]\tTime  0.184 ( 0.186)\tLoss 5.0563e+01 (2.6011e+01)\tAcc@1   0.00 (  0.57)\tAcc@5   0.00 (  7.03)\n"
     ]
    },
    {
     "name": "stdout",
     "output_type": "stream",
     "text": [
      "Validation: [1000/1235]\tTime  0.184 ( 0.185)\tLoss 2.5491e+01 (2.6070e+01)\tAcc@1   0.00 (  0.60)\tAcc@5   0.00 (  7.02)\n"
     ]
    },
    {
     "name": "stdout",
     "output_type": "stream",
     "text": [
      "Validation: [1200/1235]\tTime  0.184 ( 0.185)\tLoss 2.5005e+01 (2.6051e+01)\tAcc@1   0.00 (  0.61)\tAcc@5   9.09 (  7.01)\n"
     ]
    },
    {
     "name": "stdout",
     "output_type": "stream",
     "text": [
      " * Acc@1 0.615 Acc@5 7.000\n",
      "Validation Loss: 0.0216 Acc: 0.0000\n"
     ]
    },
    {
     "name": "stdout",
     "output_type": "stream",
     "text": [
      "lr: 0.09935826852273608\n",
      "Epoch 5/19\n",
      "--------------------\n"
     ]
    },
    {
     "name": "stdout",
     "output_type": "stream",
     "text": [
      "Epoch: [5][   0/4325]\tTime  1.302 ( 1.302)\tData  0.953 ( 0.953)\tLoss 2.5139e+01 (2.5139e+01)\tAcc@1   0.00 (  0.00)\tAcc@5   9.09 (  9.09)\n"
     ]
    },
    {
     "name": "stdout",
     "output_type": "stream",
     "text": [
      "Epoch: [5][ 200/4325]\tTime  0.342 ( 0.351)\tData  0.000 ( 0.005)\tLoss 2.5283e+01 (2.6252e+01)\tAcc@1   0.00 (  0.70)\tAcc@5   4.55 (  7.19)\n"
     ]
    },
    {
     "name": "stdout",
     "output_type": "stream",
     "text": [
      "Epoch: [5][ 400/4325]\tTime  0.342 ( 0.346)\tData  0.000 ( 0.003)\tLoss 2.4213e+01 (2.6155e+01)\tAcc@1   0.00 (  0.62)\tAcc@5   4.55 (  6.98)\n"
     ]
    },
    {
     "name": "stdout",
     "output_type": "stream",
     "text": [
      "Epoch: [5][ 600/4325]\tTime  0.342 ( 0.345)\tData  0.000 ( 0.002)\tLoss 2.5238e+01 (2.6174e+01)\tAcc@1   0.00 (  0.60)\tAcc@5   4.55 (  7.09)\n"
     ]
    },
    {
     "name": "stdout",
     "output_type": "stream",
     "text": [
      "Epoch: [5][ 800/4325]\tTime  0.342 ( 0.344)\tData  0.000 ( 0.001)\tLoss 2.4675e+01 (2.6123e+01)\tAcc@1   0.00 (  0.58)\tAcc@5   4.55 (  7.14)\n"
     ]
    },
    {
     "name": "stdout",
     "output_type": "stream",
     "text": [
      "Epoch: [5][1000/4325]\tTime  0.342 ( 0.344)\tData  0.000 ( 0.001)\tLoss 2.7710e+01 (2.6165e+01)\tAcc@1   0.00 (  0.56)\tAcc@5   0.00 (  7.05)\n"
     ]
    },
    {
     "name": "stdout",
     "output_type": "stream",
     "text": [
      "Epoch: [5][1200/4325]\tTime  0.342 ( 0.343)\tData  0.000 ( 0.001)\tLoss 2.5244e+01 (2.6201e+01)\tAcc@1   0.00 (  0.55)\tAcc@5  13.64 (  6.98)\n"
     ]
    },
    {
     "name": "stdout",
     "output_type": "stream",
     "text": [
      "Epoch: [5][1400/4325]\tTime  0.342 ( 0.343)\tData  0.000 ( 0.001)\tLoss 2.5328e+01 (2.6206e+01)\tAcc@1   0.00 (  0.56)\tAcc@5   9.09 (  6.91)\n"
     ]
    },
    {
     "name": "stdout",
     "output_type": "stream",
     "text": [
      "Epoch: [5][1600/4325]\tTime  0.342 ( 0.344)\tData  0.000 ( 0.001)\tLoss 2.7761e+01 (2.6137e+01)\tAcc@1   0.00 (  0.58)\tAcc@5  13.64 (  6.93)\n"
     ]
    },
    {
     "name": "stdout",
     "output_type": "stream",
     "text": [
      "Epoch: [5][1800/4325]\tTime  0.342 ( 0.343)\tData  0.000 ( 0.001)\tLoss 2.6871e+01 (2.6168e+01)\tAcc@1   0.00 (  0.59)\tAcc@5   0.00 (  7.00)\n"
     ]
    },
    {
     "name": "stdout",
     "output_type": "stream",
     "text": [
      "Epoch: [5][2000/4325]\tTime  0.342 ( 0.343)\tData  0.000 ( 0.001)\tLoss 2.5276e+01 (2.6155e+01)\tAcc@1   0.00 (  0.59)\tAcc@5   4.55 (  6.93)\n"
     ]
    },
    {
     "name": "stdout",
     "output_type": "stream",
     "text": [
      "Epoch: [5][2200/4325]\tTime  0.342 ( 0.343)\tData  0.000 ( 0.001)\tLoss 2.5840e+01 (2.6114e+01)\tAcc@1   0.00 (  0.59)\tAcc@5  13.64 (  7.00)\n"
     ]
    },
    {
     "name": "stdout",
     "output_type": "stream",
     "text": [
      "Epoch: [5][2400/4325]\tTime  0.342 ( 0.343)\tData  0.000 ( 0.001)\tLoss 2.6311e+01 (2.6064e+01)\tAcc@1   0.00 (  0.61)\tAcc@5   4.55 (  6.99)\n"
     ]
    },
    {
     "name": "stdout",
     "output_type": "stream",
     "text": [
      "Epoch: [5][2600/4325]\tTime  0.342 ( 0.343)\tData  0.000 ( 0.001)\tLoss 2.3753e+01 (2.6085e+01)\tAcc@1   0.00 (  0.60)\tAcc@5  13.64 (  6.93)\n"
     ]
    },
    {
     "name": "stdout",
     "output_type": "stream",
     "text": [
      "Epoch: [5][2800/4325]\tTime  0.342 ( 0.343)\tData  0.000 ( 0.001)\tLoss 4.8867e+01 (2.6114e+01)\tAcc@1   0.00 (  0.59)\tAcc@5  13.64 (  6.89)\n"
     ]
    },
    {
     "name": "stdout",
     "output_type": "stream",
     "text": [
      "Epoch: [5][3000/4325]\tTime  0.342 ( 0.343)\tData  0.000 ( 0.001)\tLoss 2.3979e+01 (2.6097e+01)\tAcc@1   0.00 (  0.60)\tAcc@5  18.18 (  6.89)\n"
     ]
    },
    {
     "name": "stdout",
     "output_type": "stream",
     "text": [
      "Epoch: [5][3200/4325]\tTime  0.342 ( 0.344)\tData  0.000 ( 0.001)\tLoss 2.3541e+01 (2.6067e+01)\tAcc@1   0.00 (  0.59)\tAcc@5  13.64 (  6.92)\n"
     ]
    },
    {
     "name": "stdout",
     "output_type": "stream",
     "text": [
      "Epoch: [5][3400/4325]\tTime  0.342 ( 0.343)\tData  0.000 ( 0.001)\tLoss 2.4795e+01 (2.6076e+01)\tAcc@1   0.00 (  0.59)\tAcc@5   4.55 (  6.93)\n"
     ]
    },
    {
     "name": "stdout",
     "output_type": "stream",
     "text": [
      "Epoch: [5][3600/4325]\tTime  0.342 ( 0.343)\tData  0.000 ( 0.001)\tLoss 2.5636e+01 (2.6073e+01)\tAcc@1   0.00 (  0.59)\tAcc@5   4.55 (  6.92)\n"
     ]
    },
    {
     "name": "stdout",
     "output_type": "stream",
     "text": [
      "Epoch: [5][3800/4325]\tTime  0.342 ( 0.343)\tData  0.000 ( 0.001)\tLoss 2.5368e+01 (2.6054e+01)\tAcc@1   0.00 (  0.60)\tAcc@5  13.64 (  6.93)\n"
     ]
    },
    {
     "name": "stdout",
     "output_type": "stream",
     "text": [
      "Epoch: [5][4000/4325]\tTime  0.342 ( 0.343)\tData  0.000 ( 0.000)\tLoss 2.5348e+01 (2.6037e+01)\tAcc@1   0.00 (  0.61)\tAcc@5   4.55 (  6.95)\n"
     ]
    },
    {
     "name": "stdout",
     "output_type": "stream",
     "text": [
      "Epoch: [5][4200/4325]\tTime  0.342 ( 0.343)\tData  0.000 ( 0.000)\tLoss 2.4694e+01 (2.6058e+01)\tAcc@1   0.00 (  0.61)\tAcc@5   9.09 (  6.96)\n"
     ]
    },
    {
     "name": "stdout",
     "output_type": "stream",
     "text": [
      "Validation: [   0/1235]\tTime  1.224 ( 1.224)\tLoss 2.4794e+01 (2.4794e+01)\tAcc@1   0.00 (  0.00)\tAcc@5   4.55 (  4.55)\n"
     ]
    },
    {
     "name": "stdout",
     "output_type": "stream",
     "text": [
      "Validation: [ 200/1235]\tTime  0.184 ( 0.190)\tLoss 2.5426e+01 (2.5994e+01)\tAcc@1   0.00 (  0.50)\tAcc@5   0.00 (  6.72)\n"
     ]
    },
    {
     "name": "stdout",
     "output_type": "stream",
     "text": [
      "Validation: [ 400/1235]\tTime  0.185 ( 0.187)\tLoss 2.5510e+01 (2.6017e+01)\tAcc@1   0.00 (  0.52)\tAcc@5   0.00 (  6.72)\n"
     ]
    },
    {
     "name": "stdout",
     "output_type": "stream",
     "text": [
      "Validation: [ 600/1235]\tTime  0.184 ( 0.186)\tLoss 2.4965e+01 (2.5842e+01)\tAcc@1   0.00 (  0.62)\tAcc@5   0.00 (  6.91)\n"
     ]
    },
    {
     "name": "stdout",
     "output_type": "stream",
     "text": [
      "Validation: [ 800/1235]\tTime  0.184 ( 0.186)\tLoss 2.2703e+01 (2.5954e+01)\tAcc@1   4.55 (  0.64)\tAcc@5   4.55 (  6.95)\n"
     ]
    },
    {
     "name": "stdout",
     "output_type": "stream",
     "text": [
      "Validation: [1000/1235]\tTime  0.184 ( 0.185)\tLoss 2.3538e+01 (2.5946e+01)\tAcc@1   0.00 (  0.63)\tAcc@5  18.18 (  6.94)\n"
     ]
    },
    {
     "name": "stdout",
     "output_type": "stream",
     "text": [
      "Validation: [1200/1235]\tTime  0.184 ( 0.185)\tLoss 2.6485e+01 (2.6046e+01)\tAcc@1   0.00 (  0.61)\tAcc@5   4.55 (  6.98)\n"
     ]
    },
    {
     "name": "stdout",
     "output_type": "stream",
     "text": [
      " * Acc@1 0.615 Acc@5 7.000\n",
      "Validation Loss: 0.0176 Acc: 0.0000\n"
     ]
    },
    {
     "name": "stdout",
     "output_type": "stream",
     "text": [
      "lr: 0.09936328844966599\n",
      "Epoch 6/19\n",
      "--------------------\n"
     ]
    },
    {
     "name": "stdout",
     "output_type": "stream",
     "text": [
      "Epoch: [6][   0/4325]\tTime  1.337 ( 1.337)\tData  0.981 ( 0.981)\tLoss 2.4744e+01 (2.4744e+01)\tAcc@1   0.00 (  0.00)\tAcc@5   9.09 (  9.09)\n"
     ]
    },
    {
     "name": "stdout",
     "output_type": "stream",
     "text": [
      "Epoch: [6][ 200/4325]\tTime  0.342 ( 0.347)\tData  0.000 ( 0.005)\tLoss 2.5036e+01 (2.6094e+01)\tAcc@1   0.00 (  0.57)\tAcc@5   0.00 (  7.06)\n"
     ]
    },
    {
     "name": "stdout",
     "output_type": "stream",
     "text": [
      "Epoch: [6][ 400/4325]\tTime  0.342 ( 0.347)\tData  0.000 ( 0.003)\tLoss 2.4892e+01 (2.5877e+01)\tAcc@1   0.00 (  0.62)\tAcc@5   4.55 (  7.28)\n"
     ]
    },
    {
     "name": "stdout",
     "output_type": "stream",
     "text": [
      "Epoch: [6][ 600/4325]\tTime  0.342 ( 0.345)\tData  0.000 ( 0.002)\tLoss 2.6059e+01 (2.6038e+01)\tAcc@1   0.00 (  0.67)\tAcc@5   4.55 (  7.29)\n"
     ]
    },
    {
     "name": "stdout",
     "output_type": "stream",
     "text": [
      "Epoch: [6][ 800/4325]\tTime  0.342 ( 0.344)\tData  0.000 ( 0.001)\tLoss 2.5857e+01 (2.6090e+01)\tAcc@1   0.00 (  0.63)\tAcc@5   0.00 (  7.17)\n"
     ]
    },
    {
     "name": "stdout",
     "output_type": "stream",
     "text": [
      "Epoch: [6][1000/4325]\tTime  0.342 ( 0.345)\tData  0.000 ( 0.001)\tLoss 2.5828e+01 (2.6085e+01)\tAcc@1   0.00 (  0.60)\tAcc@5   4.55 (  7.05)\n"
     ]
    },
    {
     "name": "stdout",
     "output_type": "stream",
     "text": [
      "Epoch: [6][1200/4325]\tTime  0.342 ( 0.344)\tData  0.000 ( 0.001)\tLoss 2.5417e+01 (2.6033e+01)\tAcc@1   0.00 (  0.62)\tAcc@5   0.00 (  6.99)\n"
     ]
    },
    {
     "name": "stdout",
     "output_type": "stream",
     "text": [
      "Epoch: [6][1400/4325]\tTime  0.342 ( 0.344)\tData  0.000 ( 0.001)\tLoss 2.4838e+01 (2.6088e+01)\tAcc@1   0.00 (  0.60)\tAcc@5  22.73 (  7.00)\n"
     ]
    },
    {
     "name": "stdout",
     "output_type": "stream",
     "text": [
      "Epoch: [6][1600/4325]\tTime  0.342 ( 0.344)\tData  0.000 ( 0.001)\tLoss 2.5105e+01 (2.6055e+01)\tAcc@1   0.00 (  0.61)\tAcc@5   4.55 (  6.99)\n"
     ]
    },
    {
     "name": "stdout",
     "output_type": "stream",
     "text": [
      "Epoch: [6][1800/4325]\tTime  0.342 ( 0.344)\tData  0.000 ( 0.001)\tLoss 2.5281e+01 (2.6028e+01)\tAcc@1   0.00 (  0.61)\tAcc@5   4.55 (  6.99)\n"
     ]
    },
    {
     "name": "stdout",
     "output_type": "stream",
     "text": [
      "Epoch: [6][2000/4325]\tTime  0.342 ( 0.344)\tData  0.000 ( 0.001)\tLoss 2.5074e+01 (2.6059e+01)\tAcc@1   0.00 (  0.61)\tAcc@5   9.09 (  7.03)\n"
     ]
    },
    {
     "name": "stdout",
     "output_type": "stream",
     "text": [
      "Epoch: [6][2200/4325]\tTime  0.342 ( 0.344)\tData  0.000 ( 0.001)\tLoss 2.4754e+01 (2.6075e+01)\tAcc@1   0.00 (  0.61)\tAcc@5   4.55 (  7.11)\n"
     ]
    },
    {
     "name": "stdout",
     "output_type": "stream",
     "text": [
      "Epoch: [6][2400/4325]\tTime  0.342 ( 0.344)\tData  0.000 ( 0.001)\tLoss 2.5903e+01 (2.6025e+01)\tAcc@1   0.00 (  0.63)\tAcc@5   4.55 (  7.12)\n"
     ]
    },
    {
     "name": "stdout",
     "output_type": "stream",
     "text": [
      "Epoch: [6][2600/4325]\tTime  0.342 ( 0.344)\tData  0.000 ( 0.001)\tLoss 2.5405e+01 (2.6033e+01)\tAcc@1   0.00 (  0.62)\tAcc@5   9.09 (  7.12)\n"
     ]
    },
    {
     "name": "stdout",
     "output_type": "stream",
     "text": [
      "Epoch: [6][2800/4325]\tTime  0.342 ( 0.343)\tData  0.000 ( 0.001)\tLoss 2.1703e+01 (2.6011e+01)\tAcc@1   4.55 (  0.62)\tAcc@5   4.55 (  7.09)\n"
     ]
    },
    {
     "name": "stdout",
     "output_type": "stream",
     "text": [
      "Epoch: [6][3000/4325]\tTime  0.342 ( 0.343)\tData  0.000 ( 0.001)\tLoss 2.3393e+01 (2.6022e+01)\tAcc@1   0.00 (  0.60)\tAcc@5   9.09 (  7.05)\n"
     ]
    },
    {
     "name": "stdout",
     "output_type": "stream",
     "text": [
      "Epoch: [6][3200/4325]\tTime  0.342 ( 0.343)\tData  0.000 ( 0.001)\tLoss 2.6108e+01 (2.6009e+01)\tAcc@1   0.00 (  0.62)\tAcc@5   9.09 (  7.08)\n"
     ]
    },
    {
     "name": "stdout",
     "output_type": "stream",
     "text": [
      "Epoch: [6][3400/4325]\tTime  0.342 ( 0.343)\tData  0.000 ( 0.001)\tLoss 2.5680e+01 (2.6040e+01)\tAcc@1   0.00 (  0.61)\tAcc@5   0.00 (  7.02)\n"
     ]
    },
    {
     "name": "stdout",
     "output_type": "stream",
     "text": [
      "Epoch: [6][3600/4325]\tTime  0.342 ( 0.343)\tData  0.000 ( 0.001)\tLoss 2.6058e+01 (2.6067e+01)\tAcc@1   0.00 (  0.60)\tAcc@5   4.55 (  7.01)\n"
     ]
    },
    {
     "name": "stdout",
     "output_type": "stream",
     "text": [
      "Epoch: [6][3800/4325]\tTime  0.342 ( 0.343)\tData  0.000 ( 0.001)\tLoss 2.3761e+01 (2.6066e+01)\tAcc@1   0.00 (  0.61)\tAcc@5  13.64 (  7.01)\n"
     ]
    },
    {
     "name": "stdout",
     "output_type": "stream",
     "text": [
      "Epoch: [6][4000/4325]\tTime  0.342 ( 0.343)\tData  0.000 ( 0.000)\tLoss 2.7169e+01 (2.6059e+01)\tAcc@1   0.00 (  0.61)\tAcc@5   4.55 (  6.99)\n"
     ]
    },
    {
     "name": "stdout",
     "output_type": "stream",
     "text": [
      "Epoch: [6][4200/4325]\tTime  0.342 ( 0.343)\tData  0.000 ( 0.000)\tLoss 2.6788e+01 (2.6058e+01)\tAcc@1   0.00 (  0.61)\tAcc@5   4.55 (  6.99)\n"
     ]
    },
    {
     "name": "stdout",
     "output_type": "stream",
     "text": [
      "Validation: [   0/1235]\tTime  1.289 ( 1.289)\tLoss 2.6862e+01 (2.6862e+01)\tAcc@1   0.00 (  0.00)\tAcc@5   0.00 (  0.00)\n"
     ]
    },
    {
     "name": "stdout",
     "output_type": "stream",
     "text": [
      "Validation: [ 200/1235]\tTime  0.185 ( 0.190)\tLoss 2.5319e+01 (2.6369e+01)\tAcc@1   0.00 (  0.50)\tAcc@5   4.55 (  6.74)\n"
     ]
    },
    {
     "name": "stdout",
     "output_type": "stream",
     "text": [
      "Validation: [ 400/1235]\tTime  0.184 ( 0.187)\tLoss 2.4534e+01 (2.6015e+01)\tAcc@1   0.00 (  0.63)\tAcc@5   9.09 (  6.95)\n"
     ]
    },
    {
     "name": "stdout",
     "output_type": "stream",
     "text": [
      "Validation: [ 600/1235]\tTime  0.184 ( 0.186)\tLoss 2.5733e+01 (2.5904e+01)\tAcc@1   0.00 (  0.61)\tAcc@5   4.55 (  6.90)\n"
     ]
    },
    {
     "name": "stdout",
     "output_type": "stream",
     "text": [
      "Validation: [ 800/1235]\tTime  0.184 ( 0.186)\tLoss 2.2202e+01 (2.5930e+01)\tAcc@1   4.55 (  0.62)\tAcc@5  13.64 (  7.04)\n"
     ]
    },
    {
     "name": "stderr",
     "output_type": "stream",
     "text": [
      "Process ForkProcess-10:\n"
     ]
    },
    {
     "name": "stderr",
     "output_type": "stream",
     "text": [
      "Process ForkProcess-11:\n"
     ]
    },
    {
     "name": "stderr",
     "output_type": "stream",
     "text": [
      "Process ForkProcess-5:\n"
     ]
    },
    {
     "name": "stderr",
     "output_type": "stream",
     "text": [
      "Process ForkProcess-7:\n"
     ]
    },
    {
     "name": "stderr",
     "output_type": "stream",
     "text": [
      "Traceback (most recent call last):\n"
     ]
    },
    {
     "name": "stderr",
     "output_type": "stream",
     "text": [
      "Traceback (most recent call last):\n"
     ]
    },
    {
     "name": "stderr",
     "output_type": "stream",
     "text": [
      "Traceback (most recent call last):\n"
     ]
    },
    {
     "name": "stderr",
     "output_type": "stream",
     "text": [
      "  File \"/opt/conda/envs/torch/lib/python3.9/multiprocessing/process.py\", line 315, in _bootstrap\n",
      "    self.run()\n"
     ]
    },
    {
     "name": "stderr",
     "output_type": "stream",
     "text": [
      "  File \"/opt/conda/envs/torch/lib/python3.9/multiprocessing/process.py\", line 315, in _bootstrap\n",
      "    self.run()\n"
     ]
    }
   ],
   "source": [
    "%%time\n",
    "for epoch in range(CFG.START_EPOCH, CFG.EPOCHS):\n",
    "    print('Epoch {}/{}'.format(epoch, CFG.EPOCHS - 1))\n",
    "    print('-' * 20)\n",
    "    \n",
    "    wblogdict = {}\n",
    "    # train for one epoch\n",
    "    train(train_loader, model, criterion, optimizer, epoch)\n",
    "\n",
    "    # evaluate on validation set\n",
    "    acc1, acc5 = validate(val_loader, model, criterion)\n",
    "\n",
    "    # remember best acc@1 and save checkpoint\n",
    "    is_best = acc1 > best_acc1\n",
    "    best_acc1 = max(acc1, best_acc1)\n",
    "\n",
    "    save_checkpoint({\n",
    "        'epoch': epoch + 1,\n",
    "        'arch': CFG.ARCH,\n",
    "        'state_dict': model.state_dict(),\n",
    "        'best_acc1': best_acc1,\n",
    "        'acc5': acc5,\n",
    "        'optimizer' : optimizer.state_dict(),\n",
    "    }, is_best)\n",
    "\n",
    "    wblogger.log(wblogdict, step=epoch)\n",
    "\n",
    "    scheduler.step()\n",
    "    print('lr: ' + str(scheduler.get_last_lr()[0]))\n",
    "    wandb.log({'lr': scheduler.get_last_lr()[0]})\n",
    "    \n",
    "    # scheduler.step(epoch_loss)\n",
    "    # print('lr: ' + str(scheduler.get_last_lr()[0]))"
   ]
  }
 ],
 "metadata": {
  "kernelspec": {
   "display_name": "cell-painting",
   "language": "python",
   "name": "python3"
  },
  "language_info": {
   "codemirror_mode": {
    "name": "ipython",
    "version": 3
   },
   "file_extension": ".py",
   "mimetype": "text/x-python",
   "name": "python",
   "nbconvert_exporter": "python",
   "pygments_lexer": "ipython3",
   "version": "3.9.16"
  },
  "papermill": {
   "default_parameters": {},
   "duration": 12673.34602,
   "end_time": "2023-04-02T22:54:48.060792",
   "environment_variables": {},
   "exception": null,
   "input_path": "from_scratch.ipynb",
   "output_path": "papermill_output.ipynb",
   "parameters": {},
   "start_time": "2023-04-02T19:23:34.714772",
   "version": "2.3.4"
  }
 },
 "nbformat": 4,
 "nbformat_minor": 5
}