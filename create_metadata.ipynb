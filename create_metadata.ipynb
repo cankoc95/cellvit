{
 "cells": [
  {
   "cell_type": "code",
   "execution_count": 2,
   "metadata": {},
   "outputs": [
    {
     "name": "stdout",
     "output_type": "stream",
     "text": [
      "Collecting datasets\n",
      "  Downloading datasets-2.10.1-py3-none-any.whl (469 kB)\n",
      "\u001b[2K     \u001b[90m━━━━━━━━━━━━━━━━━━━━━━━━━━━━━━━━━━━━━━━\u001b[0m \u001b[32m469.0/469.0 kB\u001b[0m \u001b[31m9.6 MB/s\u001b[0m eta \u001b[36m0:00:00\u001b[0ma \u001b[36m0:00:01\u001b[0m\n",
      "\u001b[?25hRequirement already satisfied: tqdm>=4.62.1 in /opt/conda/envs/pytorch/lib/python3.9/site-packages (from datasets) (4.63.2)\n",
      "Collecting xxhash\n",
      "  Downloading xxhash-3.2.0-cp39-cp39-manylinux_2_17_x86_64.manylinux2014_x86_64.whl (212 kB)\n",
      "\u001b[2K     \u001b[90m━━━━━━━━━━━━━━━━━━━━━━━━━━━━━━━━━━━━━━\u001b[0m \u001b[32m212.2/212.2 kB\u001b[0m \u001b[31m41.2 MB/s\u001b[0m eta \u001b[36m0:00:00\u001b[0m\n",
      "\u001b[?25hRequirement already satisfied: dill<0.3.7,>=0.3.0 in /opt/conda/envs/pytorch/lib/python3.9/site-packages (from datasets) (0.3.6)\n",
      "Requirement already satisfied: requests>=2.19.0 in /opt/conda/envs/pytorch/lib/python3.9/site-packages (from datasets) (2.28.2)\n",
      "Requirement already satisfied: fsspec[http]>=2021.11.1 in /opt/conda/envs/pytorch/lib/python3.9/site-packages (from datasets) (2023.3.0)\n",
      "Requirement already satisfied: numpy>=1.17 in /opt/conda/envs/pytorch/lib/python3.9/site-packages (from datasets) (1.23.5)\n",
      "Collecting aiohttp\n",
      "  Downloading aiohttp-3.8.4-cp39-cp39-manylinux_2_17_x86_64.manylinux2014_x86_64.whl (1.0 MB)\n",
      "\u001b[2K     \u001b[90m━━━━━━━━━━━━━━━━━━━━━━━━━━━━━━━━━━━━━━━━\u001b[0m \u001b[32m1.0/1.0 MB\u001b[0m \u001b[31m12.4 MB/s\u001b[0m eta \u001b[36m0:00:00\u001b[0m00:01\u001b[0m\n",
      "\u001b[?25hRequirement already satisfied: pyyaml>=5.1 in /opt/conda/envs/pytorch/lib/python3.9/site-packages (from datasets) (5.4.1)\n",
      "Requirement already satisfied: pandas in /opt/conda/envs/pytorch/lib/python3.9/site-packages (from datasets) (1.4.4)\n",
      "Requirement already satisfied: multiprocess in /opt/conda/envs/pytorch/lib/python3.9/site-packages (from datasets) (0.70.14)\n",
      "Requirement already satisfied: packaging in /opt/conda/envs/pytorch/lib/python3.9/site-packages (from datasets) (21.3)\n",
      "Collecting responses<0.19\n",
      "  Downloading responses-0.18.0-py3-none-any.whl (38 kB)\n",
      "Requirement already satisfied: pyarrow>=6.0.0 in /opt/conda/envs/pytorch/lib/python3.9/site-packages (from datasets) (11.0.0)\n",
      "Collecting huggingface-hub<1.0.0,>=0.2.0\n",
      "  Downloading huggingface_hub-0.13.3-py3-none-any.whl (199 kB)\n",
      "\u001b[2K     \u001b[90m━━━━━━━━━━━━━━━━━━━━━━━━━━━━━━━━━━━━━━\u001b[0m \u001b[32m199.8/199.8 kB\u001b[0m \u001b[31m39.4 MB/s\u001b[0m eta \u001b[36m0:00:00\u001b[0m\n",
      "\u001b[?25hRequirement already satisfied: attrs>=17.3.0 in /opt/conda/envs/pytorch/lib/python3.9/site-packages (from aiohttp->datasets) (22.2.0)\n",
      "Collecting frozenlist>=1.1.1\n",
      "  Downloading frozenlist-1.3.3-cp39-cp39-manylinux_2_5_x86_64.manylinux1_x86_64.manylinux_2_17_x86_64.manylinux2014_x86_64.whl (158 kB)\n",
      "\u001b[2K     \u001b[90m━━━━━━━━━━━━━━━━━━━━━━━━━━━━━━━━━━━━━━\u001b[0m \u001b[32m158.8/158.8 kB\u001b[0m \u001b[31m31.0 MB/s\u001b[0m eta \u001b[36m0:00:00\u001b[0m\n",
      "\u001b[?25hCollecting multidict<7.0,>=4.5\n",
      "  Downloading multidict-6.0.4-cp39-cp39-manylinux_2_17_x86_64.manylinux2014_x86_64.whl (114 kB)\n",
      "\u001b[2K     \u001b[90m━━━━━━━━━━━━━━━━━━━━━━━━━━━━━━━━━━━━━━━\u001b[0m \u001b[32m114.2/114.2 kB\u001b[0m \u001b[31m1.3 MB/s\u001b[0m eta \u001b[36m0:00:00\u001b[0m00:01\u001b[0m\n",
      "\u001b[?25hCollecting yarl<2.0,>=1.0\n",
      "  Downloading yarl-1.8.2-cp39-cp39-manylinux_2_17_x86_64.manylinux2014_x86_64.whl (264 kB)\n",
      "\u001b[2K     \u001b[90m━━━━━━━━━━━━━━━━━━━━━━━━━━━━━━━━━━━━━━━\u001b[0m \u001b[32m264.6/264.6 kB\u001b[0m \u001b[31m4.1 MB/s\u001b[0m eta \u001b[36m0:00:00\u001b[0ma \u001b[36m0:00:01\u001b[0m\n",
      "\u001b[?25hCollecting async-timeout<5.0,>=4.0.0a3\n",
      "  Downloading async_timeout-4.0.2-py3-none-any.whl (5.8 kB)\n",
      "Collecting aiosignal>=1.1.2\n",
      "  Downloading aiosignal-1.3.1-py3-none-any.whl (7.6 kB)\n",
      "Requirement already satisfied: charset-normalizer<4.0,>=2.0 in /opt/conda/envs/pytorch/lib/python3.9/site-packages (from aiohttp->datasets) (2.1.1)\n",
      "Requirement already satisfied: filelock in /opt/conda/envs/pytorch/lib/python3.9/site-packages (from huggingface-hub<1.0.0,>=0.2.0->datasets) (3.6.0)\n",
      "Requirement already satisfied: typing-extensions>=3.7.4.3 in /opt/conda/envs/pytorch/lib/python3.9/site-packages (from huggingface-hub<1.0.0,>=0.2.0->datasets) (4.5.0)\n",
      "Requirement already satisfied: pyparsing!=3.0.5,>=2.0.2 in /opt/conda/envs/pytorch/lib/python3.9/site-packages (from packaging->datasets) (3.0.9)\n",
      "Requirement already satisfied: urllib3<1.27,>=1.21.1 in /opt/conda/envs/pytorch/lib/python3.9/site-packages (from requests>=2.19.0->datasets) (1.26.15)\n",
      "Requirement already satisfied: idna<4,>=2.5 in /opt/conda/envs/pytorch/lib/python3.9/site-packages (from requests>=2.19.0->datasets) (3.4)\n",
      "Requirement already satisfied: certifi>=2017.4.17 in /opt/conda/envs/pytorch/lib/python3.9/site-packages (from requests>=2.19.0->datasets) (2022.12.7)\n",
      "Requirement already satisfied: python-dateutil>=2.8.1 in /opt/conda/envs/pytorch/lib/python3.9/site-packages (from pandas->datasets) (2.8.2)\n",
      "Requirement already satisfied: pytz>=2020.1 in /opt/conda/envs/pytorch/lib/python3.9/site-packages (from pandas->datasets) (2022.7.1)\n",
      "Requirement already satisfied: six>=1.5 in /opt/conda/envs/pytorch/lib/python3.9/site-packages (from python-dateutil>=2.8.1->pandas->datasets) (1.16.0)\n",
      "Installing collected packages: xxhash, multidict, frozenlist, async-timeout, yarl, responses, huggingface-hub, aiosignal, aiohttp, datasets\n",
      "Successfully installed aiohttp-3.8.4 aiosignal-1.3.1 async-timeout-4.0.2 datasets-2.10.1 frozenlist-1.3.3 huggingface-hub-0.13.3 multidict-6.0.4 responses-0.18.0 xxhash-3.2.0 yarl-1.8.2\n"
     ]
    }
   ],
   "source": [
    "!pip3 install datasets"
   ]
  },
  {
   "cell_type": "code",
   "execution_count": 12,
   "metadata": {},
   "outputs": [],
   "source": [
    "import pandas as pd\n",
    "import numpy as np\n",
    "from data_fetcher import DataFetcher\n",
    "import matplotlib.pyplot as plt"
   ]
  },
  {
   "cell_type": "code",
   "execution_count": 2,
   "metadata": {},
   "outputs": [],
   "source": [
    "BROAD_DIR = \"/home/ubuntu/src/data/cpg0019-moshkov-deepprofiler/broad\""
   ]
  },
  {
   "cell_type": "code",
   "execution_count": 3,
   "metadata": {},
   "outputs": [
    {
     "data": {
      "text/plain": [
       "(8423455, 14)"
      ]
     },
     "execution_count": 3,
     "metadata": {},
     "output_type": "execute_result"
    }
   ],
   "source": [
    "\n",
    "# Add PathIds to each image in the sc metadata\n",
    "metadata_df = DataFetcher.get_sc_metadata(BROAD_DIR)\n",
    "metadata_df[\"PathId\"] = metadata_df.apply(\n",
    "    lambda x: x[\"Image_Name\"].split(\"/\")[-1], axis=1\n",
    ")\n",
    "metadata_df.shape"
   ]
  },
  {
   "cell_type": "code",
   "execution_count": 4,
   "metadata": {},
   "outputs": [
    {
     "name": "stdout",
     "output_type": "stream",
     "text": [
      "(256824, 14)\n",
      "['41744' '41754' '41755' '41756' '41757']\n"
     ]
    }
   ],
   "source": [
    "c037_df = metadata_df[metadata_df[\"Collection\"] == \"BBBC037\"]\n",
    "print(c037_df.shape)\n",
    "print(c037_df[\"Metadata_Plate\"].unique())"
   ]
  },
  {
   "cell_type": "code",
   "execution_count": null,
   "metadata": {},
   "outputs": [],
   "source": [
    "from typing import List\n",
    "\n",
    "def prepare_selected_BBBC037_data(metadata, selected_plates: List[str], dataset_name: str):\n",
    "    c037_selected_df = metadata[(metadata[\"Collection\"] == \"BBBC037\") & metadata[\"Metadata_Plate\"].isin(selected_plates)]\n",
    "    \n"
   ]
  },
  {
   "cell_type": "code",
   "execution_count": 5,
   "metadata": {},
   "outputs": [
    {
     "name": "stdout",
     "output_type": "stream",
     "text": [
      "(256824, 14)\n"
     ]
    },
    {
     "data": {
      "text/html": [
       "<div>\n",
       "<style scoped>\n",
       "    .dataframe tbody tr th:only-of-type {\n",
       "        vertical-align: middle;\n",
       "    }\n",
       "\n",
       "    .dataframe tbody tr th {\n",
       "        vertical-align: top;\n",
       "    }\n",
       "\n",
       "    .dataframe thead th {\n",
       "        text-align: right;\n",
       "    }\n",
       "</style>\n",
       "<table border=\"1\" class=\"dataframe\">\n",
       "  <thead>\n",
       "    <tr style=\"text-align: right;\">\n",
       "      <th></th>\n",
       "      <th>Collection</th>\n",
       "      <th>Metadata_Plate</th>\n",
       "      <th>Metadata_Well</th>\n",
       "      <th>Metadata_Site</th>\n",
       "      <th>Nuclei_Location_Center_X</th>\n",
       "      <th>Nuclei_Location_Center_Y</th>\n",
       "      <th>Image_Name</th>\n",
       "      <th>Treatment</th>\n",
       "      <th>Treatment_Type</th>\n",
       "      <th>Control</th>\n",
       "      <th>Cell_line</th>\n",
       "      <th>LeaveReplicatesOut</th>\n",
       "      <th>LeaveCellsOut</th>\n",
       "      <th>PathId</th>\n",
       "    </tr>\n",
       "  </thead>\n",
       "  <tbody>\n",
       "    <tr>\n",
       "      <th>8166631</th>\n",
       "      <td>BBBC037</td>\n",
       "      <td>41744</td>\n",
       "      <td>a01</td>\n",
       "      <td>1</td>\n",
       "      <td>377</td>\n",
       "      <td>30</td>\n",
       "      <td>../../training_images/BBBC037/41744/a01/1/105@...</td>\n",
       "      <td>EMPTY</td>\n",
       "      <td>ORF</td>\n",
       "      <td>Control</td>\n",
       "      <td>U2OS</td>\n",
       "      <td>Training</td>\n",
       "      <td>Training</td>\n",
       "      <td>105@377x30.png</td>\n",
       "    </tr>\n",
       "    <tr>\n",
       "      <th>8166632</th>\n",
       "      <td>BBBC037</td>\n",
       "      <td>41744</td>\n",
       "      <td>a01</td>\n",
       "      <td>1</td>\n",
       "      <td>1032</td>\n",
       "      <td>34</td>\n",
       "      <td>../../training_images/BBBC037/41744/a01/1/105@...</td>\n",
       "      <td>EMPTY</td>\n",
       "      <td>ORF</td>\n",
       "      <td>Control</td>\n",
       "      <td>U2OS</td>\n",
       "      <td>Training</td>\n",
       "      <td>NotUsed</td>\n",
       "      <td>105@1032x34.png</td>\n",
       "    </tr>\n",
       "    <tr>\n",
       "      <th>8166633</th>\n",
       "      <td>BBBC037</td>\n",
       "      <td>41744</td>\n",
       "      <td>a01</td>\n",
       "      <td>1</td>\n",
       "      <td>986</td>\n",
       "      <td>45</td>\n",
       "      <td>../../training_images/BBBC037/41744/a01/1/105@...</td>\n",
       "      <td>EMPTY</td>\n",
       "      <td>ORF</td>\n",
       "      <td>Control</td>\n",
       "      <td>U2OS</td>\n",
       "      <td>Training</td>\n",
       "      <td>NotUsed</td>\n",
       "      <td>105@986x45.png</td>\n",
       "    </tr>\n",
       "    <tr>\n",
       "      <th>8166634</th>\n",
       "      <td>BBBC037</td>\n",
       "      <td>41744</td>\n",
       "      <td>a01</td>\n",
       "      <td>1</td>\n",
       "      <td>799</td>\n",
       "      <td>50</td>\n",
       "      <td>../../training_images/BBBC037/41744/a01/1/105@...</td>\n",
       "      <td>EMPTY</td>\n",
       "      <td>ORF</td>\n",
       "      <td>Control</td>\n",
       "      <td>U2OS</td>\n",
       "      <td>Training</td>\n",
       "      <td>NotUsed</td>\n",
       "      <td>105@799x50.png</td>\n",
       "    </tr>\n",
       "    <tr>\n",
       "      <th>8166635</th>\n",
       "      <td>BBBC037</td>\n",
       "      <td>41744</td>\n",
       "      <td>a01</td>\n",
       "      <td>1</td>\n",
       "      <td>483</td>\n",
       "      <td>83</td>\n",
       "      <td>../../training_images/BBBC037/41744/a01/1/105@...</td>\n",
       "      <td>EMPTY</td>\n",
       "      <td>ORF</td>\n",
       "      <td>Control</td>\n",
       "      <td>U2OS</td>\n",
       "      <td>Training</td>\n",
       "      <td>NotUsed</td>\n",
       "      <td>105@483x83.png</td>\n",
       "    </tr>\n",
       "  </tbody>\n",
       "</table>\n",
       "</div>"
      ],
      "text/plain": [
       "        Collection Metadata_Plate Metadata_Well Metadata_Site  \\\n",
       "8166631    BBBC037          41744           a01             1   \n",
       "8166632    BBBC037          41744           a01             1   \n",
       "8166633    BBBC037          41744           a01             1   \n",
       "8166634    BBBC037          41744           a01             1   \n",
       "8166635    BBBC037          41744           a01             1   \n",
       "\n",
       "         Nuclei_Location_Center_X  Nuclei_Location_Center_Y  \\\n",
       "8166631                       377                        30   \n",
       "8166632                      1032                        34   \n",
       "8166633                       986                        45   \n",
       "8166634                       799                        50   \n",
       "8166635                       483                        83   \n",
       "\n",
       "                                                Image_Name Treatment  \\\n",
       "8166631  ../../training_images/BBBC037/41744/a01/1/105@...     EMPTY   \n",
       "8166632  ../../training_images/BBBC037/41744/a01/1/105@...     EMPTY   \n",
       "8166633  ../../training_images/BBBC037/41744/a01/1/105@...     EMPTY   \n",
       "8166634  ../../training_images/BBBC037/41744/a01/1/105@...     EMPTY   \n",
       "8166635  ../../training_images/BBBC037/41744/a01/1/105@...     EMPTY   \n",
       "\n",
       "        Treatment_Type  Control Cell_line LeaveReplicatesOut LeaveCellsOut  \\\n",
       "8166631            ORF  Control      U2OS           Training      Training   \n",
       "8166632            ORF  Control      U2OS           Training       NotUsed   \n",
       "8166633            ORF  Control      U2OS           Training       NotUsed   \n",
       "8166634            ORF  Control      U2OS           Training       NotUsed   \n",
       "8166635            ORF  Control      U2OS           Training       NotUsed   \n",
       "\n",
       "                  PathId  \n",
       "8166631   105@377x30.png  \n",
       "8166632  105@1032x34.png  \n",
       "8166633   105@986x45.png  \n",
       "8166634   105@799x50.png  \n",
       "8166635   105@483x83.png  "
      ]
     },
     "execution_count": 5,
     "metadata": {},
     "output_type": "execute_result"
    }
   ],
   "source": [
    "selected_plates = ['41744', '41754', '41755', '41756', '41757']\n",
    "c037_selected_df = metadata_df[(metadata_df[\"Collection\"] == \"BBBC037\") & metadata_df[\"Metadata_Plate\"].isin(selected_plates)]\n",
    "print(c037_selected_df.shape)\n",
    "c037_selected_df.head()"
   ]
  },
  {
   "cell_type": "code",
   "execution_count": 6,
   "metadata": {},
   "outputs": [
    {
     "name": "stdout",
     "output_type": "stream",
     "text": [
      "['AKT1_E17K', 'AKT1_WT', 'ARAF_WT', 'ATF2_WT', 'ATF6_1-373', 'BCL2L11_WT', 'BRAF_V600E', 'BRAF_WT', 'CASP8_WT', 'CCND1_WT', 'CDC42_Q61L', 'CDC42_T17N', 'CDC42_WT', 'CDKN1A_WT', 'CEBPA_WT', 'CSNK1E_WT', 'CTNNB1_WT', 'CXXC4_WT', 'E2F1_WT', 'ELK1_WT', 'EMPTY', 'ERBB2_WT', 'GSK3B_WT', 'HRAS_G12V', 'JUN_WT', 'KRAS_G12V', 'KRAS_WT', 'MAP2K1_WT', 'MAP3K2_WT', 'MAP3K9_WT', 'MAPK1_WT', 'MYD88_WT', 'NOTCH1_ICN1', 'PIK3CA_WT', 'PPARGC1A_WT', 'PRKACA_WT', 'PRKCE_WT', 'PTEN_WT', 'RAC1_Q61L', 'RAF1_L613V', 'RAF1_WT', 'RB1_WT', 'RHOA_Q63L', 'RHOA_WT', 'SMAD4_WT', 'STK11_WT', 'XBP1_WT']\n"
     ]
    },
    {
     "data": {
      "text/plain": [
       "47"
      ]
     },
     "execution_count": 6,
     "metadata": {},
     "output_type": "execute_result"
    }
   ],
   "source": [
    "print(sorted(c037_selected_df[\"Treatment\"].unique()))\n",
    "len(sorted(c037_selected_df[\"Treatment\"].unique()))"
   ]
  },
  {
   "cell_type": "code",
   "execution_count": 7,
   "metadata": {},
   "outputs": [
    {
     "name": "stdout",
     "output_type": "stream",
     "text": [
      "Only Wildtypes:\n",
      "['AKT1_WT', 'ARAF_WT', 'ATF2_WT', 'BCL2L11_WT', 'BRAF_WT', 'CASP8_WT', 'CCND1_WT', 'CDC42_WT', 'CDKN1A_WT', 'CEBPA_WT', 'CSNK1E_WT', 'CTNNB1_WT', 'CXXC4_WT', 'E2F1_WT', 'ELK1_WT', 'ERBB2_WT', 'GSK3B_WT', 'JUN_WT', 'KRAS_WT', 'MAP2K1_WT', 'MAP3K2_WT', 'MAP3K9_WT', 'MAPK1_WT', 'MYD88_WT', 'PIK3CA_WT', 'PPARGC1A_WT', 'PRKACA_WT', 'PRKCE_WT', 'PTEN_WT', 'RAF1_WT', 'RB1_WT', 'RHOA_WT', 'SMAD4_WT', 'STK11_WT', 'XBP1_WT']\n",
      "\n",
      "Only perturbations:\n",
      "['AKT1_E17K', 'ATF6_1-373', 'BRAF_V600E', 'CDC42_Q61L', 'CDC42_T17N', 'EMPTY', 'HRAS_G12V', 'KRAS_G12V', 'NOTCH1_ICN1', 'RAC1_Q61L', 'RAF1_L613V', 'RHOA_Q63L']\n"
     ]
    }
   ],
   "source": [
    "print(\"Only Wildtypes:\")\n",
    "treatment_types_splitted = [t.split('_WT') for t in c037_selected_df[\"Treatment\"].unique()]\n",
    "wildtypes = [split_list[0] + \"_WT\" if len(split_list) > 1 else \"\" for split_list in treatment_types_splitted]\n",
    "wildtypes = [item for item in wildtypes if item != '']\n",
    "wildtypes.sort()\n",
    "print(wildtypes)\n",
    "print()\n",
    "perturbations = [split_list[0] if len(split_list) == 1 else \"\" for split_list in treatment_types_splitted]\n",
    "perturbations = [item for item in perturbations if item != '']\n",
    "perturbations.sort()\n",
    "print(\"Only perturbations:\")\n",
    "print(perturbations)"
   ]
  },
  {
   "cell_type": "code",
   "execution_count": 8,
   "metadata": {},
   "outputs": [
    {
     "name": "stdout",
     "output_type": "stream",
     "text": [
      "(110029, 14)\n",
      "Top 3 Wildtypes\n",
      "JUN_WT         6673\n",
      "CEBPA_WT       6572\n",
      "MAP3K2_WT      5183\n",
      "PIK3CA_WT      4290\n",
      "E2F1_WT        4228\n",
      "ERBB2_WT       3807\n",
      "PRKACA_WT      3782\n",
      "BRAF_WT        3706\n",
      "ATF2_WT        3650\n",
      "CTNNB1_WT      3624\n",
      "CSNK1E_WT      3622\n",
      "RB1_WT         3583\n",
      "MAP2K1_WT      3548\n",
      "KRAS_WT        3406\n",
      "RAF1_WT        3309\n",
      "PRKCE_WT       3220\n",
      "STK11_WT       3202\n",
      "PTEN_WT        3165\n",
      "CDC42_WT       3158\n",
      "ARAF_WT        2991\n",
      "CCND1_WT       2988\n",
      "MAPK1_WT       2983\n",
      "GSK3B_WT       2944\n",
      "AKT1_WT        2570\n",
      "SMAD4_WT       2533\n",
      "MAP3K9_WT      2480\n",
      "ELK1_WT        2189\n",
      "RHOA_WT        2174\n",
      "CXXC4_WT       2005\n",
      "XBP1_WT        1935\n",
      "PPARGC1A_WT    1890\n",
      "MYD88_WT       1875\n",
      "CDKN1A_WT      1462\n",
      "BCL2L11_WT     1045\n",
      "CASP8_WT        237\n",
      "Name: Treatment, dtype: int64\n",
      "Total: 110029\n",
      "\n",
      "Top 5 Perturbations + EMPTY\n",
      "(146795, 14)\n",
      "EMPTY          120892\n",
      "AKT1_E17K        3740\n",
      "RAC1_Q61L        2990\n",
      "NOTCH1_ICN1      2979\n",
      "RAF1_L613V       2737\n",
      "CDC42_T17N       2702\n",
      "KRAS_G12V        2480\n",
      "HRAS_G12V        1990\n",
      "CDC42_Q61L       1973\n",
      "BRAF_V600E       1878\n",
      "RHOA_Q63L        1597\n",
      "ATF6_1-373        837\n",
      "Name: Treatment, dtype: int64\n",
      "Total: 147795\n"
     ]
    }
   ],
   "source": [
    "c037_wildtypes_df = c037_selected_df[c037_selected_df[\"Treatment\"].isin(wildtypes)]\n",
    "print(c037_wildtypes_df.shape)\n",
    "print(\"Top 3 Wildtypes\")\n",
    "print(c037_wildtypes_df[\"Treatment\"].value_counts())\n",
    "print(f\"Total: {sum(c037_wildtypes_df['Treatment'].value_counts())}\")\n",
    "print()\n",
    "print(\"Top 5 Perturbations + EMPTY\")\n",
    "c037_perturbations_df = c037_selected_df[c037_selected_df[\"Treatment\"].isin(perturbations)]\n",
    "print(c037_perturbations_df.shape)\n",
    "print(c037_perturbations_df[\"Treatment\"].value_counts())\n",
    "print(f\"Total: {sum(c037_perturbations_df['Treatment'].value_counts()) + 1000}\")"
   ]
  },
  {
   "attachments": {},
   "cell_type": "markdown",
   "metadata": {},
   "source": [
    "### Extract Top 14 Treatments and prepare metadata"
   ]
  },
  {
   "cell_type": "code",
   "execution_count": 11,
   "metadata": {},
   "outputs": [
    {
     "data": {
      "text/plain": [
       "['AKT1_WT',\n",
       " 'AKT1_E17K',\n",
       " 'BRAF_WT',\n",
       " 'BRAF_V600E',\n",
       " 'CDC42_WT',\n",
       " 'CDC42_Q61L',\n",
       " 'CDC42_T17N',\n",
       " 'KRAS_WT',\n",
       " 'KRAS_G12V',\n",
       " 'RAF1_WT',\n",
       " 'RAF1_L613V',\n",
       " 'RHOA_WT',\n",
       " 'RHOA_Q63L',\n",
       " 'EMPTY']"
      ]
     },
     "execution_count": 11,
     "metadata": {},
     "output_type": "execute_result"
    }
   ],
   "source": [
    "empty_treatment_label = \"EMPTY\"\n",
    "top_treatment_labels = [\"AKT1_WT\", \"AKT1_E17K\", \n",
    "                        \"BRAF_WT\", \"BRAF_V600E\", \n",
    "                        \"CDC42_WT\", \"CDC42_Q61L\", \"CDC42_T17N\", \n",
    "                        \"KRAS_WT\", \"KRAS_G12V\", \n",
    "                        \"RAF1_WT\", \"RAF1_L613V\", \n",
    "                        \"RHOA_WT\", \"RHOA_Q63L\"\n",
    "                        ]\n",
    "class_labels = top_treatment_labels.copy()\n",
    "class_labels.append(empty_treatment_label)\n",
    "class_labels"
   ]
  },
  {
   "cell_type": "code",
   "execution_count": 15,
   "metadata": {},
   "outputs": [
    {
     "name": "stdout",
     "output_type": "stream",
     "text": [
      "(35430, 14)\n"
     ]
    },
    {
     "data": {
      "text/plain": [
       "([0, 1, 2, 3, 4, 5, 6, 7, 8, 9, 10, 11, 12],\n",
       " [Text(0, 0, ''),\n",
       "  Text(0, 0, ''),\n",
       "  Text(0, 0, ''),\n",
       "  Text(0, 0, ''),\n",
       "  Text(0, 0, ''),\n",
       "  Text(0, 0, ''),\n",
       "  Text(0, 0, ''),\n",
       "  Text(0, 0, ''),\n",
       "  Text(0, 0, ''),\n",
       "  Text(0, 0, ''),\n",
       "  Text(0, 0, ''),\n",
       "  Text(0, 0, ''),\n",
       "  Text(0, 0, '')])"
      ]
     },
     "execution_count": 15,
     "metadata": {},
     "output_type": "execute_result"
    },
    {
     "data": {
      "image/png": "[encoded data removed]",
      "text/plain": [
       "<Figure size 640x480 with 1 Axes>"
      ]
     },
     "metadata": {},
     "output_type": "display_data"
    }
   ],
   "source": [
    "# Check the dataset before sampling\n",
    "c037_selected_labels_df = c037_selected_df[c037_selected_df[\"Treatment\"].isin(top_treatment_labels)]\n",
    "print(c037_selected_labels_df.shape)\n",
    "\n",
    "ax = c037_selected_labels_df[\"Treatment\"].hist(bins=30)\n",
    "plt.xticks(rotation = \"vertical\")"
   ]
  },
  {
   "attachments": {},
   "cell_type": "markdown",
   "metadata": {},
   "source": [
    "#### Sample 1k from EMPTY"
   ]
  },
  {
   "cell_type": "code",
   "execution_count": 16,
   "metadata": {},
   "outputs": [],
   "source": [
    "sample_size = 2000\n",
    "empty_treatments_sampled_df = c037_selected_df[c037_selected_df[\"Treatment\"] == empty_treatment_label].sample(n=sample_size, random_state=42)"
   ]
  },
  {
   "attachments": {},
   "cell_type": "markdown",
   "metadata": {},
   "source": [
    "#### Sample 1k images from each label"
   ]
  },
  {
   "cell_type": "code",
   "execution_count": 19,
   "metadata": {},
   "outputs": [
    {
     "name": "stdout",
     "output_type": "stream",
     "text": [
      "Before sampling, total dataset: (35430, 14)\n",
      "After sampling, total dataset: (27448, 14)\n"
     ]
    },
    {
     "data": {
      "text/html": [
       "<div>\n",
       "<style scoped>\n",
       "    .dataframe tbody tr th:only-of-type {\n",
       "        vertical-align: middle;\n",
       "    }\n",
       "\n",
       "    .dataframe tbody tr th {\n",
       "        vertical-align: top;\n",
       "    }\n",
       "\n",
       "    .dataframe thead th {\n",
       "        text-align: right;\n",
       "    }\n",
       "</style>\n",
       "<table border=\"1\" class=\"dataframe\">\n",
       "  <thead>\n",
       "    <tr style=\"text-align: right;\">\n",
       "      <th></th>\n",
       "      <th>Collection</th>\n",
       "      <th>Metadata_Plate</th>\n",
       "      <th>Metadata_Well</th>\n",
       "      <th>Metadata_Site</th>\n",
       "      <th>Nuclei_Location_Center_X</th>\n",
       "      <th>Nuclei_Location_Center_Y</th>\n",
       "      <th>Image_Name</th>\n",
       "      <th>Treatment</th>\n",
       "      <th>Treatment_Type</th>\n",
       "      <th>Control</th>\n",
       "      <th>Cell_line</th>\n",
       "      <th>LeaveReplicatesOut</th>\n",
       "      <th>LeaveCellsOut</th>\n",
       "      <th>PathId</th>\n",
       "    </tr>\n",
       "  </thead>\n",
       "  <tbody>\n",
       "    <tr>\n",
       "      <th>8255825</th>\n",
       "      <td>BBBC037</td>\n",
       "      <td>41754</td>\n",
       "      <td>l09</td>\n",
       "      <td>2</td>\n",
       "      <td>776</td>\n",
       "      <td>538</td>\n",
       "      <td>../../training_images/BBBC037/41754/l09/2/105@...</td>\n",
       "      <td>EMPTY</td>\n",
       "      <td>ORF</td>\n",
       "      <td>Control</td>\n",
       "      <td>U2OS</td>\n",
       "      <td>Training</td>\n",
       "      <td>NotUsed</td>\n",
       "      <td>105@776x538.png</td>\n",
       "    </tr>\n",
       "    <tr>\n",
       "      <th>8314697</th>\n",
       "      <td>BBBC037</td>\n",
       "      <td>41755</td>\n",
       "      <td>m16</td>\n",
       "      <td>2</td>\n",
       "      <td>522</td>\n",
       "      <td>724</td>\n",
       "      <td>../../training_images/BBBC037/41755/m16/2/105@...</td>\n",
       "      <td>EMPTY</td>\n",
       "      <td>ORF</td>\n",
       "      <td>Control</td>\n",
       "      <td>U2OS</td>\n",
       "      <td>Training</td>\n",
       "      <td>NotUsed</td>\n",
       "      <td>105@522x724.png</td>\n",
       "    </tr>\n",
       "    <tr>\n",
       "      <th>8321958</th>\n",
       "      <td>BBBC037</td>\n",
       "      <td>41755</td>\n",
       "      <td>p23</td>\n",
       "      <td>5</td>\n",
       "      <td>953</td>\n",
       "      <td>186</td>\n",
       "      <td>../../training_images/BBBC037/41755/p23/5/105@...</td>\n",
       "      <td>EMPTY</td>\n",
       "      <td>ORF</td>\n",
       "      <td>Control</td>\n",
       "      <td>U2OS</td>\n",
       "      <td>Training</td>\n",
       "      <td>NotUsed</td>\n",
       "      <td>105@953x186.png</td>\n",
       "    </tr>\n",
       "    <tr>\n",
       "      <th>8264069</th>\n",
       "      <td>BBBC037</td>\n",
       "      <td>41754</td>\n",
       "      <td>o21</td>\n",
       "      <td>3</td>\n",
       "      <td>525</td>\n",
       "      <td>56</td>\n",
       "      <td>../../training_images/BBBC037/41754/o21/3/105@...</td>\n",
       "      <td>EMPTY</td>\n",
       "      <td>ORF</td>\n",
       "      <td>Control</td>\n",
       "      <td>U2OS</td>\n",
       "      <td>Training</td>\n",
       "      <td>NotUsed</td>\n",
       "      <td>105@525x56.png</td>\n",
       "    </tr>\n",
       "    <tr>\n",
       "      <th>8360445</th>\n",
       "      <td>BBBC037</td>\n",
       "      <td>41756</td>\n",
       "      <td>k08</td>\n",
       "      <td>8</td>\n",
       "      <td>995</td>\n",
       "      <td>81</td>\n",
       "      <td>../../training_images/BBBC037/41756/k08/8/105@...</td>\n",
       "      <td>EMPTY</td>\n",
       "      <td>ORF</td>\n",
       "      <td>Control</td>\n",
       "      <td>U2OS</td>\n",
       "      <td>NotUsed</td>\n",
       "      <td>NotUsed</td>\n",
       "      <td>105@995x81.png</td>\n",
       "    </tr>\n",
       "  </tbody>\n",
       "</table>\n",
       "</div>"
      ],
      "text/plain": [
       "        Collection Metadata_Plate Metadata_Well Metadata_Site  \\\n",
       "8255825    BBBC037          41754           l09             2   \n",
       "8314697    BBBC037          41755           m16             2   \n",
       "8321958    BBBC037          41755           p23             5   \n",
       "8264069    BBBC037          41754           o21             3   \n",
       "8360445    BBBC037          41756           k08             8   \n",
       "\n",
       "         Nuclei_Location_Center_X  Nuclei_Location_Center_Y  \\\n",
       "8255825                       776                       538   \n",
       "8314697                       522                       724   \n",
       "8321958                       953                       186   \n",
       "8264069                       525                        56   \n",
       "8360445                       995                        81   \n",
       "\n",
       "                                                Image_Name Treatment  \\\n",
       "8255825  ../../training_images/BBBC037/41754/l09/2/105@...     EMPTY   \n",
       "8314697  ../../training_images/BBBC037/41755/m16/2/105@...     EMPTY   \n",
       "8321958  ../../training_images/BBBC037/41755/p23/5/105@...     EMPTY   \n",
       "8264069  ../../training_images/BBBC037/41754/o21/3/105@...     EMPTY   \n",
       "8360445  ../../training_images/BBBC037/41756/k08/8/105@...     EMPTY   \n",
       "\n",
       "        Treatment_Type  Control Cell_line LeaveReplicatesOut LeaveCellsOut  \\\n",
       "8255825            ORF  Control      U2OS           Training       NotUsed   \n",
       "8314697            ORF  Control      U2OS           Training       NotUsed   \n",
       "8321958            ORF  Control      U2OS           Training       NotUsed   \n",
       "8264069            ORF  Control      U2OS           Training       NotUsed   \n",
       "8360445            ORF  Control      U2OS            NotUsed       NotUsed   \n",
       "\n",
       "                  PathId  \n",
       "8255825  105@776x538.png  \n",
       "8314697  105@522x724.png  \n",
       "8321958  105@953x186.png  \n",
       "8264069   105@525x56.png  \n",
       "8360445   105@995x81.png  "
      ]
     },
     "execution_count": 19,
     "metadata": {},
     "output_type": "execute_result"
    }
   ],
   "source": [
    "sample_size = 2000\n",
    "c037_27k_dataset = empty_treatments_sampled_df.copy()\n",
    "print(f\"Before sampling, total dataset: {c037_selected_labels_df.shape}\")\n",
    "\n",
    "for label in class_labels:\n",
    "    if label == empty_treatment_label:\n",
    "        # Do not re-add empty\n",
    "        continue\n",
    "    \n",
    "    label_df = c037_selected_df[c037_selected_df[\"Treatment\"] == label]\n",
    "\n",
    "    if label_df.shape[0] < sample_size:\n",
    "        # Do not upsample just append it as is.\n",
    "        c037_27k_dataset = pd.concat([c037_27k_dataset, label_df])\n",
    "        continue\n",
    "\n",
    "    sampled_label_df = label_df.sample(n=sample_size, random_state=42)\n",
    "    c037_27k_dataset = pd.concat([c037_27k_dataset, sampled_label_df])\n",
    "\n",
    "print(f\"After sampling, total dataset: {c037_27k_dataset.shape}\")\n",
    "c037_27k_dataset.head()"
   ]
  },
  {
   "cell_type": "code",
   "execution_count": 20,
   "metadata": {},
   "outputs": [
    {
     "data": {
      "text/plain": [
       "([0, 1, 2, 3, 4, 5, 6, 7, 8, 9, 10, 11, 12, 13],\n",
       " [Text(0, 0, ''),\n",
       "  Text(0, 0, ''),\n",
       "  Text(0, 0, ''),\n",
       "  Text(0, 0, ''),\n",
       "  Text(0, 0, ''),\n",
       "  Text(0, 0, ''),\n",
       "  Text(0, 0, ''),\n",
       "  Text(0, 0, ''),\n",
       "  Text(0, 0, ''),\n",
       "  Text(0, 0, ''),\n",
       "  Text(0, 0, ''),\n",
       "  Text(0, 0, ''),\n",
       "  Text(0, 0, ''),\n",
       "  Text(0, 0, '')])"
      ]
     },
     "execution_count": 20,
     "metadata": {},
     "output_type": "execute_result"
    },
    {
     "data": {
      "image/png": "[encoded data removed]",
      "text/plain": [
       "<Figure size 640x480 with 1 Axes>"
      ]
     },
     "metadata": {},
     "output_type": "display_data"
    }
   ],
   "source": [
    "import matplotlib.pyplot as plt\n",
    "ax = c037_27k_dataset[\"Treatment\"].hist(bins=30)\n",
    "plt.xticks(rotation = \"vertical\")"
   ]
  },
  {
   "cell_type": "code",
   "execution_count": 21,
   "metadata": {},
   "outputs": [],
   "source": [
    "c037_27k_dataset.to_parquet(\"/home/ubuntu/src/c037_27k_metadata.parquet\", engine=\"pyarrow\")"
   ]
  },
  {
   "cell_type": "code",
   "execution_count": 22,
   "metadata": {},
   "outputs": [
    {
     "data": {
      "text/plain": [
       "EMPTY         2000\n",
       "AKT1_WT       2000\n",
       "AKT1_E17K     2000\n",
       "BRAF_WT       2000\n",
       "CDC42_WT      2000\n",
       "CDC42_T17N    2000\n",
       "KRAS_WT       2000\n",
       "KRAS_G12V     2000\n",
       "RAF1_WT       2000\n",
       "RAF1_L613V    2000\n",
       "RHOA_WT       2000\n",
       "CDC42_Q61L    1973\n",
       "BRAF_V600E    1878\n",
       "RHOA_Q63L     1597\n",
       "Name: Treatment, dtype: int64"
      ]
     },
     "execution_count": 22,
     "metadata": {},
     "output_type": "execute_result"
    }
   ],
   "source": [
    "c037_27k_dataset[\"Treatment\"].value_counts()"
   ]
  },
  {
   "cell_type": "code",
   "execution_count": null,
   "metadata": {},
   "outputs": [],
   "source": []
  }
 ],
 "metadata": {
  "kernelspec": {
   "display_name": "Python 3 (ipykernel)",
   "language": "python",
   "name": "python3"
  },
  "language_info": {
   "codemirror_mode": {
    "name": "ipython",
    "version": 3
   },
   "file_extension": ".py",
   "mimetype": "text/x-python",
   "name": "python",
   "nbconvert_exporter": "python",
   "pygments_lexer": "ipython3",
   "version": "3.9.16"
  },
  "orig_nbformat": 4,
  "vscode": {
   "interpreter": {
    "hash": "c6e4e9f98eb68ad3b7c296f83d20e6de614cb42e90992a65aa266555a3137d0d"
   }
  }
 },
 "nbformat": 4,
 "nbformat_minor": 2
}
