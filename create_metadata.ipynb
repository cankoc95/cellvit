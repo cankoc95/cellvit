{
 "cells": [
  {
   "cell_type": "code",
   "execution_count": 67,
   "metadata": {},
   "outputs": [],
   "source": [
    "import pandas as pd\n",
    "import numpy as np\n",
    "from data_fetcher import DataFetcher\n"
   ]
  },
  {
   "cell_type": "code",
   "execution_count": 13,
   "metadata": {},
   "outputs": [],
   "source": [
    "BROAD_DIR = \"/Users/cankoc/Coursework/cellpainting-gallery/cpg0019-moshkov-deepprofiler/broad\"\n",
    "metadata_df = DataFetcher.get_sc_metadata(BROAD_DIR)\n",
    "metadata_df[\"PathId\"] = metadata_df.apply(\n",
    "    lambda x: x[\"Image_Name\"].split(\"/\")[-1], axis=1\n",
    ")"
   ]
  },
  {
   "cell_type": "code",
   "execution_count": 72,
   "metadata": {},
   "outputs": [
    {
     "name": "stdout",
     "output_type": "stream",
     "text": [
      "(256824, 14)\n",
      "['41744' '41754' '41755' '41756' '41757']\n"
     ]
    }
   ],
   "source": [
    "c037_df = metadata_df[metadata_df[\"Collection\"] == \"BBBC037\"]\n",
    "print(c037_df.shape)\n",
    "print(c037_df[\"Metadata_Plate\"].unique())"
   ]
  },
  {
   "cell_type": "code",
   "execution_count": 148,
   "metadata": {},
   "outputs": [
    {
     "name": "stdout",
     "output_type": "stream",
     "text": [
      "(155929, 14)\n"
     ]
    },
    {
     "data": {
      "text/html": [
       "<div>\n",
       "<style scoped>\n",
       "    .dataframe tbody tr th:only-of-type {\n",
       "        vertical-align: middle;\n",
       "    }\n",
       "\n",
       "    .dataframe tbody tr th {\n",
       "        vertical-align: top;\n",
       "    }\n",
       "\n",
       "    .dataframe thead th {\n",
       "        text-align: right;\n",
       "    }\n",
       "</style>\n",
       "<table border=\"1\" class=\"dataframe\">\n",
       "  <thead>\n",
       "    <tr style=\"text-align: right;\">\n",
       "      <th></th>\n",
       "      <th>Collection</th>\n",
       "      <th>Metadata_Plate</th>\n",
       "      <th>Metadata_Well</th>\n",
       "      <th>Metadata_Site</th>\n",
       "      <th>Nuclei_Location_Center_X</th>\n",
       "      <th>Nuclei_Location_Center_Y</th>\n",
       "      <th>Image_Name</th>\n",
       "      <th>Treatment</th>\n",
       "      <th>Treatment_Type</th>\n",
       "      <th>Control</th>\n",
       "      <th>Cell_line</th>\n",
       "      <th>LeaveReplicatesOut</th>\n",
       "      <th>LeaveCellsOut</th>\n",
       "      <th>PathId</th>\n",
       "    </tr>\n",
       "  </thead>\n",
       "  <tbody>\n",
       "    <tr>\n",
       "      <th>8166631</th>\n",
       "      <td>BBBC037</td>\n",
       "      <td>41744</td>\n",
       "      <td>a01</td>\n",
       "      <td>1</td>\n",
       "      <td>377</td>\n",
       "      <td>30</td>\n",
       "      <td>../../training_images/BBBC037/41744/a01/1/105@...</td>\n",
       "      <td>EMPTY</td>\n",
       "      <td>ORF</td>\n",
       "      <td>Control</td>\n",
       "      <td>U2OS</td>\n",
       "      <td>Training</td>\n",
       "      <td>Training</td>\n",
       "      <td>105@377x30.png</td>\n",
       "    </tr>\n",
       "    <tr>\n",
       "      <th>8166632</th>\n",
       "      <td>BBBC037</td>\n",
       "      <td>41744</td>\n",
       "      <td>a01</td>\n",
       "      <td>1</td>\n",
       "      <td>1032</td>\n",
       "      <td>34</td>\n",
       "      <td>../../training_images/BBBC037/41744/a01/1/105@...</td>\n",
       "      <td>EMPTY</td>\n",
       "      <td>ORF</td>\n",
       "      <td>Control</td>\n",
       "      <td>U2OS</td>\n",
       "      <td>Training</td>\n",
       "      <td>NotUsed</td>\n",
       "      <td>105@1032x34.png</td>\n",
       "    </tr>\n",
       "    <tr>\n",
       "      <th>8166633</th>\n",
       "      <td>BBBC037</td>\n",
       "      <td>41744</td>\n",
       "      <td>a01</td>\n",
       "      <td>1</td>\n",
       "      <td>986</td>\n",
       "      <td>45</td>\n",
       "      <td>../../training_images/BBBC037/41744/a01/1/105@...</td>\n",
       "      <td>EMPTY</td>\n",
       "      <td>ORF</td>\n",
       "      <td>Control</td>\n",
       "      <td>U2OS</td>\n",
       "      <td>Training</td>\n",
       "      <td>NotUsed</td>\n",
       "      <td>105@986x45.png</td>\n",
       "    </tr>\n",
       "    <tr>\n",
       "      <th>8166634</th>\n",
       "      <td>BBBC037</td>\n",
       "      <td>41744</td>\n",
       "      <td>a01</td>\n",
       "      <td>1</td>\n",
       "      <td>799</td>\n",
       "      <td>50</td>\n",
       "      <td>../../training_images/BBBC037/41744/a01/1/105@...</td>\n",
       "      <td>EMPTY</td>\n",
       "      <td>ORF</td>\n",
       "      <td>Control</td>\n",
       "      <td>U2OS</td>\n",
       "      <td>Training</td>\n",
       "      <td>NotUsed</td>\n",
       "      <td>105@799x50.png</td>\n",
       "    </tr>\n",
       "    <tr>\n",
       "      <th>8166635</th>\n",
       "      <td>BBBC037</td>\n",
       "      <td>41744</td>\n",
       "      <td>a01</td>\n",
       "      <td>1</td>\n",
       "      <td>483</td>\n",
       "      <td>83</td>\n",
       "      <td>../../training_images/BBBC037/41744/a01/1/105@...</td>\n",
       "      <td>EMPTY</td>\n",
       "      <td>ORF</td>\n",
       "      <td>Control</td>\n",
       "      <td>U2OS</td>\n",
       "      <td>Training</td>\n",
       "      <td>NotUsed</td>\n",
       "      <td>105@483x83.png</td>\n",
       "    </tr>\n",
       "  </tbody>\n",
       "</table>\n",
       "</div>"
      ],
      "text/plain": [
       "        Collection Metadata_Plate Metadata_Well Metadata_Site  \\\n",
       "8166631    BBBC037          41744           a01             1   \n",
       "8166632    BBBC037          41744           a01             1   \n",
       "8166633    BBBC037          41744           a01             1   \n",
       "8166634    BBBC037          41744           a01             1   \n",
       "8166635    BBBC037          41744           a01             1   \n",
       "\n",
       "         Nuclei_Location_Center_X  Nuclei_Location_Center_Y  \\\n",
       "8166631                       377                        30   \n",
       "8166632                      1032                        34   \n",
       "8166633                       986                        45   \n",
       "8166634                       799                        50   \n",
       "8166635                       483                        83   \n",
       "\n",
       "                                                Image_Name Treatment  \\\n",
       "8166631  ../../training_images/BBBC037/41744/a01/1/105@...     EMPTY   \n",
       "8166632  ../../training_images/BBBC037/41744/a01/1/105@...     EMPTY   \n",
       "8166633  ../../training_images/BBBC037/41744/a01/1/105@...     EMPTY   \n",
       "8166634  ../../training_images/BBBC037/41744/a01/1/105@...     EMPTY   \n",
       "8166635  ../../training_images/BBBC037/41744/a01/1/105@...     EMPTY   \n",
       "\n",
       "        Treatment_Type  Control Cell_line LeaveReplicatesOut LeaveCellsOut  \\\n",
       "8166631            ORF  Control      U2OS           Training      Training   \n",
       "8166632            ORF  Control      U2OS           Training       NotUsed   \n",
       "8166633            ORF  Control      U2OS           Training       NotUsed   \n",
       "8166634            ORF  Control      U2OS           Training       NotUsed   \n",
       "8166635            ORF  Control      U2OS           Training       NotUsed   \n",
       "\n",
       "                  PathId  \n",
       "8166631   105@377x30.png  \n",
       "8166632  105@1032x34.png  \n",
       "8166633   105@986x45.png  \n",
       "8166634   105@799x50.png  \n",
       "8166635   105@483x83.png  "
      ]
     },
     "execution_count": 148,
     "metadata": {},
     "output_type": "execute_result"
    }
   ],
   "source": [
    "selected_plates = ['41744', '41754', '41755']\n",
    "c037_selected_df = metadata_df[(metadata_df[\"Collection\"] == \"BBBC037\") & metadata_df[\"Metadata_Plate\"].isin(selected_plates)]\n",
    "print(c037_selected_df.shape)\n",
    "c037_selected_df.head()"
   ]
  },
  {
   "cell_type": "code",
   "execution_count": 149,
   "metadata": {},
   "outputs": [
    {
     "name": "stdout",
     "output_type": "stream",
     "text": [
      "['AKT1_E17K', 'AKT1_WT', 'ARAF_WT', 'ATF2_WT', 'ATF6_1-373', 'BCL2L11_WT', 'BRAF_V600E', 'BRAF_WT', 'CASP8_WT', 'CCND1_WT', 'CDC42_Q61L', 'CDC42_T17N', 'CDC42_WT', 'CDKN1A_WT', 'CEBPA_WT', 'CSNK1E_WT', 'CTNNB1_WT', 'CXXC4_WT', 'E2F1_WT', 'ELK1_WT', 'EMPTY', 'ERBB2_WT', 'GSK3B_WT', 'HRAS_G12V', 'JUN_WT', 'KRAS_G12V', 'KRAS_WT', 'MAP2K1_WT', 'MAP3K2_WT', 'MAP3K9_WT', 'MAPK1_WT', 'MYD88_WT', 'NOTCH1_ICN1', 'PIK3CA_WT', 'PPARGC1A_WT', 'PRKACA_WT', 'PRKCE_WT', 'PTEN_WT', 'RAC1_Q61L', 'RAF1_L613V', 'RAF1_WT', 'RB1_WT', 'RHOA_Q63L', 'RHOA_WT', 'SMAD4_WT', 'STK11_WT', 'XBP1_WT']\n"
     ]
    },
    {
     "data": {
      "text/plain": [
       "47"
      ]
     },
     "execution_count": 149,
     "metadata": {},
     "output_type": "execute_result"
    }
   ],
   "source": [
    "print(sorted(c037_selected_df[\"Treatment\"].unique()))\n",
    "len(sorted(c037_selected_df[\"Treatment\"].unique()))"
   ]
  },
  {
   "cell_type": "code",
   "execution_count": 150,
   "metadata": {},
   "outputs": [
    {
     "name": "stdout",
     "output_type": "stream",
     "text": [
      "Only Wildtypes:\n",
      "['AKT1_WT', 'ARAF_WT', 'ATF2_WT', 'BCL2L11_WT', 'BRAF_WT', 'CASP8_WT', 'CCND1_WT', 'CDC42_WT', 'CDKN1A_WT', 'CEBPA_WT', 'CSNK1E_WT', 'CTNNB1_WT', 'CXXC4_WT', 'E2F1_WT', 'ELK1_WT', 'ERBB2_WT', 'GSK3B_WT', 'JUN_WT', 'KRAS_WT', 'MAP2K1_WT', 'MAP3K2_WT', 'MAP3K9_WT', 'MAPK1_WT', 'MYD88_WT', 'PIK3CA_WT', 'PPARGC1A_WT', 'PRKACA_WT', 'PRKCE_WT', 'PTEN_WT', 'RAF1_WT', 'RB1_WT', 'RHOA_WT', 'SMAD4_WT', 'STK11_WT', 'XBP1_WT']\n",
      "\n",
      "Only perturbations:\n",
      "['AKT1_E17K', 'ATF6_1-373', 'BRAF_V600E', 'CDC42_Q61L', 'CDC42_T17N', 'EMPTY', 'HRAS_G12V', 'KRAS_G12V', 'NOTCH1_ICN1', 'RAC1_Q61L', 'RAF1_L613V', 'RHOA_Q63L']\n"
     ]
    }
   ],
   "source": [
    "print(\"Only Wildtypes:\")\n",
    "treatment_types_splitted = [t.split('_WT') for t in c037_selected_df[\"Treatment\"].unique()]\n",
    "wildtypes = [split_list[0] + \"_WT\" if len(split_list) > 1 else \"\" for split_list in treatment_types_splitted]\n",
    "wildtypes = [item for item in wildtypes if item != '']\n",
    "wildtypes.sort()\n",
    "print(wildtypes)\n",
    "print()\n",
    "perturbations = [split_list[0] if len(split_list) == 1 else \"\" for split_list in treatment_types_splitted]\n",
    "perturbations = [item for item in perturbations if item != '']\n",
    "perturbations.sort()\n",
    "print(\"Only perturbations:\")\n",
    "print(perturbations)"
   ]
  },
  {
   "cell_type": "code",
   "execution_count": null,
   "metadata": {},
   "outputs": [],
   "source": [
    "c037_wildtypes_df = c037_selected_df[c037_selected_df[\"Treatment\"].isin(wildtypes)]\n",
    "print(c037_wildtypes_df.shape)\n",
    "print(\"Top 3 Wildtypes\")\n",
    "print(c037_wildtypes_df[\"Treatment\"].value_counts())\n",
    "print(f\"Total: {sum(c037_wildtypes_df['Treatment'].value_counts())}\")\n",
    "print()\n",
    "print(\"Top 5 Perturbations + EMPTY\")\n",
    "c037_perturbations_df = c037_selected_df[c037_selected_df[\"Treatment\"].isin(perturbations)]\n",
    "print(c037_perturbations_df.shape)\n",
    "print(c037_perturbations_df[\"Treatment\"].value_counts())\n",
    "print(f\"Total: {sum(c037_perturbations_df['Treatment'].value_counts()) + 1000}\")"
   ]
  },
  {
   "attachments": {},
   "cell_type": "markdown",
   "metadata": {},
   "source": [
    "### Extract Top 10 Treatments and prepare metadata"
   ]
  },
  {
   "cell_type": "code",
   "execution_count": 154,
   "metadata": {},
   "outputs": [
    {
     "data": {
      "text/plain": [
       "['AKT1_WT',\n",
       " 'AKT1_E17K',\n",
       " 'BRAF_WT',\n",
       " 'BRAF_V600E',\n",
       " 'CDC42_WT',\n",
       " 'CDC42_Q61L',\n",
       " 'CDC42_T17N',\n",
       " 'KRAS_WT',\n",
       " 'KRAS_G12V',\n",
       " 'RAF1_WT',\n",
       " 'RAF1_L613V',\n",
       " 'RHOA_WT',\n",
       " 'RHOA_Q63L',\n",
       " 'EMPTY']"
      ]
     },
     "execution_count": 154,
     "metadata": {},
     "output_type": "execute_result"
    }
   ],
   "source": [
    "empty_treatment_label = \"EMPTY\"\n",
    "top_treatment_labels = [\"AKT1_WT\", \"AKT1_E17K\", \n",
    "                        \"BRAF_WT\",\"BRAF_V600E\", \n",
    "                        \"CDC42_WT\", \"CDC42_Q61L\", \"CDC42_T17N\", \n",
    "                        \"KRAS_WT\", \"KRAS_G12V\", \n",
    "                        \"RAF1_WT\", \"RAF1_L613V\", \n",
    "                        \"RHOA_WT\", \"RHOA_Q63L\"\n",
    "                        ]\n",
    "class_labels = top_treatment_labels.copy()\n",
    "class_labels.append(empty_treatment_label)\n",
    "class_labels"
   ]
  },
  {
   "attachments": {},
   "cell_type": "markdown",
   "metadata": {},
   "source": [
    "#### Sample 1k from EMPTY"
   ]
  },
  {
   "cell_type": "code",
   "execution_count": 174,
   "metadata": {},
   "outputs": [],
   "source": [
    "sample_size = 1000\n",
    "empty_treatments_sampled_df = c037_selected_df[c037_selected_df[\"Treatment\"] == empty_treatment_label].sample(n=sample_size, random_state=42)"
   ]
  },
  {
   "attachments": {},
   "cell_type": "markdown",
   "metadata": {},
   "source": [
    "#### Sample 1k images from each label"
   ]
  },
  {
   "cell_type": "code",
   "execution_count": 175,
   "metadata": {},
   "outputs": [
    {
     "name": "stdout",
     "output_type": "stream",
     "text": [
      "Before sampling, total dataset: (94304, 14)\n",
      "After sampling, total dataset: (14000, 14)\n"
     ]
    },
    {
     "data": {
      "text/html": [
       "<div>\n",
       "<style scoped>\n",
       "    .dataframe tbody tr th:only-of-type {\n",
       "        vertical-align: middle;\n",
       "    }\n",
       "\n",
       "    .dataframe tbody tr th {\n",
       "        vertical-align: top;\n",
       "    }\n",
       "\n",
       "    .dataframe thead th {\n",
       "        text-align: right;\n",
       "    }\n",
       "</style>\n",
       "<table border=\"1\" class=\"dataframe\">\n",
       "  <thead>\n",
       "    <tr style=\"text-align: right;\">\n",
       "      <th></th>\n",
       "      <th>Collection</th>\n",
       "      <th>Metadata_Plate</th>\n",
       "      <th>Metadata_Well</th>\n",
       "      <th>Metadata_Site</th>\n",
       "      <th>Nuclei_Location_Center_X</th>\n",
       "      <th>Nuclei_Location_Center_Y</th>\n",
       "      <th>Image_Name</th>\n",
       "      <th>Treatment</th>\n",
       "      <th>Treatment_Type</th>\n",
       "      <th>Control</th>\n",
       "      <th>Cell_line</th>\n",
       "      <th>LeaveReplicatesOut</th>\n",
       "      <th>LeaveCellsOut</th>\n",
       "      <th>PathId</th>\n",
       "    </tr>\n",
       "  </thead>\n",
       "  <tbody>\n",
       "    <tr>\n",
       "      <th>8176496</th>\n",
       "      <td>BBBC037</td>\n",
       "      <td>41744</td>\n",
       "      <td>c14</td>\n",
       "      <td>8</td>\n",
       "      <td>353</td>\n",
       "      <td>247</td>\n",
       "      <td>../../training_images/BBBC037/41744/c14/8/105@...</td>\n",
       "      <td>EMPTY</td>\n",
       "      <td>ORF</td>\n",
       "      <td>Control</td>\n",
       "      <td>U2OS</td>\n",
       "      <td>Training</td>\n",
       "      <td>Training</td>\n",
       "      <td>105@353x247.png</td>\n",
       "    </tr>\n",
       "    <tr>\n",
       "      <th>8267817</th>\n",
       "      <td>BBBC037</td>\n",
       "      <td>41754</td>\n",
       "      <td>p21</td>\n",
       "      <td>1</td>\n",
       "      <td>772</td>\n",
       "      <td>609</td>\n",
       "      <td>../../training_images/BBBC037/41754/p21/1/105@...</td>\n",
       "      <td>EMPTY</td>\n",
       "      <td>ORF</td>\n",
       "      <td>Control</td>\n",
       "      <td>U2OS</td>\n",
       "      <td>Training</td>\n",
       "      <td>NotUsed</td>\n",
       "      <td>105@772x609.png</td>\n",
       "    </tr>\n",
       "    <tr>\n",
       "      <th>8302788</th>\n",
       "      <td>BBBC037</td>\n",
       "      <td>41755</td>\n",
       "      <td>i06</td>\n",
       "      <td>5</td>\n",
       "      <td>899</td>\n",
       "      <td>208</td>\n",
       "      <td>../../training_images/BBBC037/41755/i06/5/105@...</td>\n",
       "      <td>EMPTY</td>\n",
       "      <td>ORF</td>\n",
       "      <td>Control</td>\n",
       "      <td>U2OS</td>\n",
       "      <td>Training</td>\n",
       "      <td>Training</td>\n",
       "      <td>105@899x208.png</td>\n",
       "    </tr>\n",
       "    <tr>\n",
       "      <th>8265978</th>\n",
       "      <td>BBBC037</td>\n",
       "      <td>41754</td>\n",
       "      <td>o24</td>\n",
       "      <td>3</td>\n",
       "      <td>256</td>\n",
       "      <td>826</td>\n",
       "      <td>../../training_images/BBBC037/41754/o24/3/105@...</td>\n",
       "      <td>EMPTY</td>\n",
       "      <td>ORF</td>\n",
       "      <td>Control</td>\n",
       "      <td>U2OS</td>\n",
       "      <td>Training</td>\n",
       "      <td>NotUsed</td>\n",
       "      <td>105@256x826.png</td>\n",
       "    </tr>\n",
       "    <tr>\n",
       "      <th>8258638</th>\n",
       "      <td>BBBC037</td>\n",
       "      <td>41754</td>\n",
       "      <td>l18</td>\n",
       "      <td>5</td>\n",
       "      <td>848</td>\n",
       "      <td>55</td>\n",
       "      <td>../../training_images/BBBC037/41754/l18/5/105@...</td>\n",
       "      <td>EMPTY</td>\n",
       "      <td>ORF</td>\n",
       "      <td>Control</td>\n",
       "      <td>U2OS</td>\n",
       "      <td>Training</td>\n",
       "      <td>NotUsed</td>\n",
       "      <td>105@848x55.png</td>\n",
       "    </tr>\n",
       "  </tbody>\n",
       "</table>\n",
       "</div>"
      ],
      "text/plain": [
       "        Collection Metadata_Plate Metadata_Well Metadata_Site  \\\n",
       "8176496    BBBC037          41744           c14             8   \n",
       "8267817    BBBC037          41754           p21             1   \n",
       "8302788    BBBC037          41755           i06             5   \n",
       "8265978    BBBC037          41754           o24             3   \n",
       "8258638    BBBC037          41754           l18             5   \n",
       "\n",
       "         Nuclei_Location_Center_X  Nuclei_Location_Center_Y  \\\n",
       "8176496                       353                       247   \n",
       "8267817                       772                       609   \n",
       "8302788                       899                       208   \n",
       "8265978                       256                       826   \n",
       "8258638                       848                        55   \n",
       "\n",
       "                                                Image_Name Treatment  \\\n",
       "8176496  ../../training_images/BBBC037/41744/c14/8/105@...     EMPTY   \n",
       "8267817  ../../training_images/BBBC037/41754/p21/1/105@...     EMPTY   \n",
       "8302788  ../../training_images/BBBC037/41755/i06/5/105@...     EMPTY   \n",
       "8265978  ../../training_images/BBBC037/41754/o24/3/105@...     EMPTY   \n",
       "8258638  ../../training_images/BBBC037/41754/l18/5/105@...     EMPTY   \n",
       "\n",
       "        Treatment_Type  Control Cell_line LeaveReplicatesOut LeaveCellsOut  \\\n",
       "8176496            ORF  Control      U2OS           Training      Training   \n",
       "8267817            ORF  Control      U2OS           Training       NotUsed   \n",
       "8302788            ORF  Control      U2OS           Training      Training   \n",
       "8265978            ORF  Control      U2OS           Training       NotUsed   \n",
       "8258638            ORF  Control      U2OS           Training       NotUsed   \n",
       "\n",
       "                  PathId  \n",
       "8176496  105@353x247.png  \n",
       "8267817  105@772x609.png  \n",
       "8302788  105@899x208.png  \n",
       "8265978  105@256x826.png  \n",
       "8258638   105@848x55.png  "
      ]
     },
     "execution_count": 175,
     "metadata": {},
     "output_type": "execute_result"
    }
   ],
   "source": [
    "sample_size = 1000\n",
    "c037_14k_dataset = empty_treatments_sampled_df.copy()\n",
    "c037_selected_labels_df = c037_selected_df[c037_selected_df[\"Treatment\"].isin(class_labels)]\n",
    "print(f\"Before sampling, total dataset: {c037_selected_labels_df.shape}\")\n",
    "\n",
    "for label in class_labels:\n",
    "    if label == empty_treatment_label:\n",
    "        # Do not re-add empty\n",
    "        continue\n",
    "    sampled_label_df = c037_selected_df[c037_selected_df[\"Treatment\"] == label].sample(n=sample_size, random_state=42)\n",
    "    c037_14k_dataset = pd.concat([c037_14k_dataset, sampled_label_df])\n",
    "\n",
    "print(f\"After sampling, total dataset: {c037_14k_dataset.shape}\")\n",
    "c037_14k_dataset.head()"
   ]
  },
  {
   "cell_type": "code",
   "execution_count": 176,
   "metadata": {},
   "outputs": [
    {
     "data": {
      "text/plain": [
       "([0, 1, 2, 3, 4, 5, 6, 7, 8, 9, 10, 11, 12, 13],\n",
       " [Text(0, 0, ''),\n",
       "  Text(0, 0, ''),\n",
       "  Text(0, 0, ''),\n",
       "  Text(0, 0, ''),\n",
       "  Text(0, 0, ''),\n",
       "  Text(0, 0, ''),\n",
       "  Text(0, 0, ''),\n",
       "  Text(0, 0, ''),\n",
       "  Text(0, 0, ''),\n",
       "  Text(0, 0, ''),\n",
       "  Text(0, 0, ''),\n",
       "  Text(0, 0, ''),\n",
       "  Text(0, 0, ''),\n",
       "  Text(0, 0, '')])"
      ]
     },
     "execution_count": 176,
     "metadata": {},
     "output_type": "execute_result"
    },
    {
     "data": {
      "image/png": "[encoded data removed]",
      "text/plain": [
       "<Figure size 432x288 with 1 Axes>"
      ]
     },
     "metadata": {
      "needs_background": "light"
     },
     "output_type": "display_data"
    }
   ],
   "source": [
    "import matplotlib.pyplot as plt\n",
    "ax = c037_14k_dataset[\"Treatment\"].hist(bins=30)\n",
    "plt.xticks(rotation = \"vertical\")"
   ]
  },
  {
   "cell_type": "code",
   "execution_count": 177,
   "metadata": {},
   "outputs": [],
   "source": [
    "c037_14k_dataset.to_parquet(\"./data/c037_14k_metadata.parquet\", engine=\"pyarrow\")"
   ]
  },
  {
   "cell_type": "code",
   "execution_count": 178,
   "metadata": {},
   "outputs": [
    {
     "data": {
      "text/plain": [
       "EMPTY         1000\n",
       "AKT1_WT       1000\n",
       "AKT1_E17K     1000\n",
       "BRAF_WT       1000\n",
       "BRAF_V600E    1000\n",
       "CDC42_WT      1000\n",
       "CDC42_Q61L    1000\n",
       "CDC42_T17N    1000\n",
       "KRAS_WT       1000\n",
       "KRAS_G12V     1000\n",
       "RAF1_WT       1000\n",
       "RAF1_L613V    1000\n",
       "RHOA_WT       1000\n",
       "RHOA_Q63L     1000\n",
       "Name: Treatment, dtype: int64"
      ]
     },
     "execution_count": 178,
     "metadata": {},
     "output_type": "execute_result"
    }
   ],
   "source": [
    "c037_14k_dataset[\"Treatment\"].value_counts()"
   ]
  },
  {
   "cell_type": "code",
   "execution_count": null,
   "metadata": {},
   "outputs": [],
   "source": []
  }
 ],
 "metadata": {
  "kernelspec": {
   "display_name": "base",
   "language": "python",
   "name": "python3"
  },
  "language_info": {
   "codemirror_mode": {
    "name": "ipython",
    "version": 3
   },
   "file_extension": ".py",
   "mimetype": "text/x-python",
   "name": "python",
   "nbconvert_exporter": "python",
   "pygments_lexer": "ipython3",
   "version": "3.9.10"
  },
  "orig_nbformat": 4,
  "vscode": {
   "interpreter": {
    "hash": "c6e4e9f98eb68ad3b7c296f83d20e6de614cb42e90992a65aa266555a3137d0d"
   }
  }
 },
 "nbformat": 4,
 "nbformat_minor": 2
}
