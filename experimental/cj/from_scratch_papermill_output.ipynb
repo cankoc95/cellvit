{
 "cells": [
  {
   "attachments": {},
   "cell_type": "markdown",
   "id": "af709637",
   "metadata": {
    "papermill": {
     "duration": 0.00432,
     "end_time": "2023-03-27T01:36:48.264598",
     "exception": false,
     "start_time": "2023-03-27T01:36:48.260278",
     "status": "completed"
    },
    "tags": []
   },
   "source": [
    "# init"
   ]
  },
  {
   "cell_type": "code",
   "execution_count": 1,
   "id": "83f0aaff",
   "metadata": {
    "execution": {
     "iopub.execute_input": "2023-03-27T01:36:48.273988Z",
     "iopub.status.busy": "2023-03-27T01:36:48.273462Z",
     "iopub.status.idle": "2023-03-27T01:36:50.299616Z",
     "shell.execute_reply": "2023-03-27T01:36:50.299041Z"
    },
    "papermill": {
     "duration": 2.032731,
     "end_time": "2023-03-27T01:36:50.301128",
     "exception": false,
     "start_time": "2023-03-27T01:36:48.268397",
     "status": "completed"
    },
    "tags": []
   },
   "outputs": [],
   "source": [
    "import os\n",
    "import random\n",
    "import shutil\n",
    "import time\n",
    "import warnings\n",
    "from datetime import date\n",
    "from collections import Counter\n",
    "import numpy as np\n",
    "import matplotlib.pyplot as plt\n",
    "import gc\n",
    "import wandb\n",
    "import uuid\n",
    "import tempfile\n",
    "\n",
    "import torch\n",
    "import torch.nn as nn\n",
    "import torch.backends.cudnn as cudnn\n",
    "import torch.optim\n",
    "\n",
    "import torch.utils.data as data\n",
    "import torchvision.transforms as transforms\n",
    "import torchvision.datasets as datasets\n",
    "from torch.cuda.amp import GradScaler\n",
    "# from torchmetrics.classification import MulticlassAccuracy, F1\n",
    "\n",
    "import timm\n",
    "from tqdm import tqdm, trange\n",
    "\n",
    "from IPython.display import Image "
   ]
  },
  {
   "cell_type": "code",
   "execution_count": 2,
   "id": "abc038e4",
   "metadata": {
    "execution": {
     "iopub.execute_input": "2023-03-27T01:36:50.310713Z",
     "iopub.status.busy": "2023-03-27T01:36:50.310301Z",
     "iopub.status.idle": "2023-03-27T01:36:50.314048Z",
     "shell.execute_reply": "2023-03-27T01:36:50.313584Z"
    },
    "papermill": {
     "duration": 0.010065,
     "end_time": "2023-03-27T01:36:50.315099",
     "exception": false,
     "start_time": "2023-03-27T01:36:50.305034",
     "status": "completed"
    },
    "tags": []
   },
   "outputs": [],
   "source": [
    "GPU=0\n",
    "SEED=1\n",
    "\n",
    "random.seed(SEED)\n",
    "torch.manual_seed(SEED)\n",
    "cudnn.deterministic = True"
   ]
  },
  {
   "cell_type": "code",
   "execution_count": 3,
   "id": "d88070a3",
   "metadata": {
    "execution": {
     "iopub.execute_input": "2023-03-27T01:36:50.322930Z",
     "iopub.status.busy": "2023-03-27T01:36:50.322773Z",
     "iopub.status.idle": "2023-03-27T01:36:50.364202Z",
     "shell.execute_reply": "2023-03-27T01:36:50.363649Z"
    },
    "papermill": {
     "duration": 0.046613,
     "end_time": "2023-03-27T01:36:50.365286",
     "exception": false,
     "start_time": "2023-03-27T01:36:50.318673",
     "status": "completed"
    },
    "tags": []
   },
   "outputs": [
    {
     "name": "stdout",
     "output_type": "stream",
     "text": [
      "GPU(s) available: 1\n",
      "Device: cuda:0\n"
     ]
    }
   ],
   "source": [
    "# Print num GPUs available\n",
    "print(f\"GPU(s) available: {torch.cuda.device_count()}\") \n",
    "# Set device\n",
    "device = torch.device(\"cuda:0\" if torch.cuda.is_available() else \"cpu\")\n",
    "print(f\"Device: {device}\")"
   ]
  },
  {
   "attachments": {},
   "cell_type": "markdown",
   "id": "f5df0355",
   "metadata": {
    "papermill": {
     "duration": 0.003614,
     "end_time": "2023-03-27T01:36:50.372777",
     "exception": false,
     "start_time": "2023-03-27T01:36:50.369163",
     "status": "completed"
    },
    "tags": []
   },
   "source": [
    "## Config"
   ]
  },
  {
   "cell_type": "code",
   "execution_count": 4,
   "id": "3997457c",
   "metadata": {
    "execution": {
     "iopub.execute_input": "2023-03-27T01:36:50.381065Z",
     "iopub.status.busy": "2023-03-27T01:36:50.380769Z",
     "iopub.status.idle": "2023-03-27T01:36:50.385732Z",
     "shell.execute_reply": "2023-03-27T01:36:50.385207Z"
    },
    "papermill": {
     "duration": 0.010323,
     "end_time": "2023-03-27T01:36:50.386774",
     "exception": false,
     "start_time": "2023-03-27T01:36:50.376451",
     "status": "completed"
    },
    "tags": []
   },
   "outputs": [],
   "source": [
    "class CFG:\n",
    "  ARCH = 'maxvit_base_tf_224'\n",
    "  START_EPOCH = 0\n",
    "  EPOCHS = 20\n",
    "  LR = 0.1\n",
    "  MOMENTUM = 0.9\n",
    "  # WEIGHT_DECAY = 1e-4\n",
    "  ADAM_EPSILON = 1e-6\n",
    "  PRINT_FREQ = 200\n",
    "  TRAIN_BATCH = 32\n",
    "  VAL_BATCH = 32\n",
    "  WORKERS = 4\n",
    "  DATADIR = \"/data/home/ec2-user/broad/training_images/BBBC037/\"\n",
    "  TRAINDIR = DATADIR+\"train\"\n",
    "  VALDIR = DATADIR+\"val\"\n",
    "  TESTDIR = DATADIR+\"test\"\n",
    "\n",
    "  PRETRAINED = True\n",
    "  IMAGE_SIZE = 224\n",
    "  IN_CHANS = 5\n",
    "  NUM_CLASSES = 47\n",
    "\n",
    "  LEARNING_RATE = 5e-2\n",
    "  ADAM_EPSILON = 1e-6\n",
    "  WEIGHT_DECAY = 0.01 # for adamw\n",
    "  L2_PENALTY = 0.01 # for RMSprop\n",
    "  RMS_MOMENTEM = 0 # for RMSprop\n",
    "\n",
    "  ### learning rate scheduler (LRS)\n",
    "  # scheduler = 'ReduceLROnPlateau' # []\n",
    "  # scheduler = 'CosineAnnealingLR'\n",
    "  PLATEAU_FACTOR = 0.5\n",
    "  PLATEAU_PATIENCE = 3\n",
    "\n",
    "  RANDOM_SEED = 42\n",
    "\n",
    "  OUTPUT_DIR = '/home/ubuntu' + '/saved_models/' + str(date.today())\n",
    "  CHECKPOINT_LAST = OUTPUT_DIR + '/' + ARCH + '/checkpoint-last'\n",
    "  CHECKPOINT_BEST = OUTPUT_DIR + '/' + ARCH + '/checkpoint-best'\n",
    "\n",
    "  WANDB_NOTEBOOK_NAME = str(date.today()) + '_' + ARCH + '_cjdonahoe'\n"
   ]
  },
  {
   "attachments": {},
   "cell_type": "markdown",
   "id": "8104ae6f",
   "metadata": {
    "papermill": {
     "duration": 0.003603,
     "end_time": "2023-03-27T01:36:50.394061",
     "exception": false,
     "start_time": "2023-03-27T01:36:50.390458",
     "status": "completed"
    },
    "tags": []
   },
   "source": [
    "## W&B"
   ]
  },
  {
   "cell_type": "code",
   "execution_count": 5,
   "id": "1a16d1a3",
   "metadata": {
    "execution": {
     "iopub.execute_input": "2023-03-27T01:36:50.402017Z",
     "iopub.status.busy": "2023-03-27T01:36:50.401862Z",
     "iopub.status.idle": "2023-03-27T01:36:54.997075Z",
     "shell.execute_reply": "2023-03-27T01:36:54.996442Z"
    },
    "papermill": {
     "duration": 4.600615,
     "end_time": "2023-03-27T01:36:54.998332",
     "exception": false,
     "start_time": "2023-03-27T01:36:50.397717",
     "status": "completed"
    },
    "tags": []
   },
   "outputs": [
    {
     "name": "stderr",
     "output_type": "stream",
     "text": [
      "Failed to detect the name of this notebook, you can set it manually with the WANDB_NOTEBOOK_NAME environment variable to enable code saving.\n"
     ]
    },
    {
     "name": "stderr",
     "output_type": "stream",
     "text": [
      "\u001b[34m\u001b[1mwandb\u001b[0m: Currently logged in as: \u001b[33mcjdonahoe\u001b[0m (\u001b[33mcellvit\u001b[0m). Use \u001b[1m`wandb login --relogin`\u001b[0m to force relogin\n"
     ]
    },
    {
     "data": {
      "text/html": [
       "Tracking run with wandb version 0.14.0"
      ],
      "text/plain": [
       "<IPython.core.display.HTML object>"
      ]
     },
     "metadata": {},
     "output_type": "display_data"
    },
    {
     "data": {
      "text/html": [
       "Run data is saved locally in <code>/tmp/tmpydps6gx6/wandb/run-20230327_013651-f27aa90b2bfc4dd1a5816f05e5b266a4</code>"
      ],
      "text/plain": [
       "<IPython.core.display.HTML object>"
      ]
     },
     "metadata": {},
     "output_type": "display_data"
    },
    {
     "data": {
      "text/html": [
       "Syncing run <strong><a href='https://wandb.ai/cellvit/cjdonahoe--cellvit/runs/f27aa90b2bfc4dd1a5816f05e5b266a4' target=\"_blank\">f27aa90b2bfc4dd1a5816f05e5b266a4</a></strong> to <a href='https://wandb.ai/cellvit/cjdonahoe--cellvit' target=\"_blank\">Weights & Biases</a> (<a href='https://wandb.me/run' target=\"_blank\">docs</a>)<br/>"
      ],
      "text/plain": [
       "<IPython.core.display.HTML object>"
      ]
     },
     "metadata": {},
     "output_type": "display_data"
    },
    {
     "data": {
      "text/html": [
       " View project at <a href='https://wandb.ai/cellvit/cjdonahoe--cellvit' target=\"_blank\">https://wandb.ai/cellvit/cjdonahoe--cellvit</a>"
      ],
      "text/plain": [
       "<IPython.core.display.HTML object>"
      ]
     },
     "metadata": {},
     "output_type": "display_data"
    },
    {
     "data": {
      "text/html": [
       " View run at <a href='https://wandb.ai/cellvit/cjdonahoe--cellvit/runs/f27aa90b2bfc4dd1a5816f05e5b266a4' target=\"_blank\">https://wandb.ai/cellvit/cjdonahoe--cellvit/runs/f27aa90b2bfc4dd1a5816f05e5b266a4</a>"
      ],
      "text/plain": [
       "<IPython.core.display.HTML object>"
      ]
     },
     "metadata": {},
     "output_type": "display_data"
    }
   ],
   "source": [
    "os.environ['WANDB_API_KEY']='e2b77d7240d4c1ceee8264dbfbea27d2f30d5331'\n",
    "\n",
    "class WandBLogger(object):\n",
    "    def __init__(self, variant, project, prefix=''):\n",
    "      \"\"\"\n",
    "      Args:\n",
    "        variant: dictionary of hyperparameters\n",
    "        project: name of project\n",
    "      \"\"\"\n",
    "      log_dir = tempfile.mkdtemp()\n",
    "      if prefix != '':\n",
    "          project = '{}--{}'.format(prefix, project)\n",
    "\n",
    "      wandb.init(\n",
    "          config=variant,\n",
    "          project=project,\n",
    "          dir=log_dir,\n",
    "          id=uuid.uuid4().hex,\n",
    "      )\n",
    "\n",
    "    def log(self, *args, **kwargs):\n",
    "      wandb.log(*args, **kwargs)\n",
    "\n",
    "wblogger = WandBLogger(\n",
    "    variant={\n",
    "      'initial_learning_rate': CFG.LR,\n",
    "      'adam_epsilon': CFG.ADAM_EPSILON,\n",
    "      'num_epochs': CFG.EPOCHS,\n",
    "      'batch_size': CFG.TRAIN_BATCH,\n",
    "      'weight_decay': CFG.WEIGHT_DECAY,\n",
    "      'architecture': CFG.ARCH,\n",
    "    },\n",
    "    project=f'cellvit',\n",
    "    prefix='cjdonahoe'\n",
    ")\n"
   ]
  },
  {
   "attachments": {},
   "cell_type": "markdown",
   "id": "76e04aca",
   "metadata": {
    "papermill": {
     "duration": 0.004273,
     "end_time": "2023-03-27T01:36:55.007299",
     "exception": false,
     "start_time": "2023-03-27T01:36:55.003026",
     "status": "completed"
    },
    "tags": []
   },
   "source": [
    "# Functions"
   ]
  },
  {
   "cell_type": "code",
   "execution_count": 6,
   "id": "c24bedc0",
   "metadata": {
    "execution": {
     "iopub.execute_input": "2023-03-27T01:36:55.016977Z",
     "iopub.status.busy": "2023-03-27T01:36:55.016429Z",
     "iopub.status.idle": "2023-03-27T01:36:55.020653Z",
     "shell.execute_reply": "2023-03-27T01:36:55.020114Z"
    },
    "papermill": {
     "duration": 0.010469,
     "end_time": "2023-03-27T01:36:55.021850",
     "exception": false,
     "start_time": "2023-03-27T01:36:55.011381",
     "status": "completed"
    },
    "tags": []
   },
   "outputs": [],
   "source": [
    "def save_checkpoint(state, is_best, filename='checkpoint.pth.tar'):\n",
    "    torch.save(state, filename)\n",
    "    if is_best:\n",
    "        shutil.copyfile(filename, 'model_best.pth.tar')"
   ]
  },
  {
   "cell_type": "code",
   "execution_count": 7,
   "id": "2d5d5fa0",
   "metadata": {
    "execution": {
     "iopub.execute_input": "2023-03-27T01:36:55.031442Z",
     "iopub.status.busy": "2023-03-27T01:36:55.030970Z",
     "iopub.status.idle": "2023-03-27T01:36:55.037327Z",
     "shell.execute_reply": "2023-03-27T01:36:55.036795Z"
    },
    "papermill": {
     "duration": 0.012418,
     "end_time": "2023-03-27T01:36:55.038497",
     "exception": false,
     "start_time": "2023-03-27T01:36:55.026079",
     "status": "completed"
    },
    "tags": []
   },
   "outputs": [],
   "source": [
    "class AverageMeter(object):\n",
    "    \"\"\"Computes and stores the average and current value\"\"\"\n",
    "    def __init__(self, name, fmt=':f'):\n",
    "        self.name = name\n",
    "        self.fmt = fmt\n",
    "        self.reset()\n",
    "\n",
    "    def reset(self):\n",
    "        self.val = 0\n",
    "        self.avg = 0\n",
    "        self.sum = 0\n",
    "        self.count = 0\n",
    "\n",
    "    def update(self, val, n=1):\n",
    "        self.val = val\n",
    "        self.sum += val * n\n",
    "        self.count += n\n",
    "        self.avg = self.sum / self.count\n",
    "\n",
    "    def __str__(self):\n",
    "        fmtstr = '{name} {val' + self.fmt + '} ({avg' + self.fmt + '})'\n",
    "        return fmtstr.format(**self.__dict__)"
   ]
  },
  {
   "cell_type": "code",
   "execution_count": 8,
   "id": "da3f3ca8",
   "metadata": {
    "execution": {
     "iopub.execute_input": "2023-03-27T01:36:55.048459Z",
     "iopub.status.busy": "2023-03-27T01:36:55.048092Z",
     "iopub.status.idle": "2023-03-27T01:36:55.053694Z",
     "shell.execute_reply": "2023-03-27T01:36:55.053050Z"
    },
    "papermill": {
     "duration": 0.012227,
     "end_time": "2023-03-27T01:36:55.055056",
     "exception": false,
     "start_time": "2023-03-27T01:36:55.042829",
     "status": "completed"
    },
    "tags": []
   },
   "outputs": [],
   "source": [
    "class ProgressMeter(object):\n",
    "    def __init__(self, num_batches, meters, prefix=\"\"):\n",
    "        self.batch_fmtstr = self._get_batch_fmtstr(num_batches)\n",
    "        self.meters = meters\n",
    "        self.prefix = prefix\n",
    "\n",
    "    def display(self, batch):\n",
    "        entries = [self.prefix + self.batch_fmtstr.format(batch)]\n",
    "        entries += [str(meter) for meter in self.meters]\n",
    "        print('\\t'.join(entries))\n",
    "\n",
    "    def _get_batch_fmtstr(self, num_batches):\n",
    "        num_digits = len(str(num_batches // 1))\n",
    "        fmt = '{:' + str(num_digits) + 'd}'\n",
    "        return '[' + fmt + '/' + fmt.format(num_batches) + ']'"
   ]
  },
  {
   "cell_type": "code",
   "execution_count": 9,
   "id": "37d704e2",
   "metadata": {
    "execution": {
     "iopub.execute_input": "2023-03-27T01:36:55.066692Z",
     "iopub.status.busy": "2023-03-27T01:36:55.066259Z",
     "iopub.status.idle": "2023-03-27T01:36:55.072736Z",
     "shell.execute_reply": "2023-03-27T01:36:55.072077Z"
    },
    "papermill": {
     "duration": 0.013281,
     "end_time": "2023-03-27T01:36:55.074062",
     "exception": false,
     "start_time": "2023-03-27T01:36:55.060781",
     "status": "completed"
    },
    "tags": []
   },
   "outputs": [],
   "source": [
    "def accuracy(output, target, topk=(1,)):\n",
    "    \"\"\"Computes the accuracy over the k top predictions for the specified values of k\"\"\"\n",
    "    with torch.no_grad():\n",
    "        maxk = max(topk)\n",
    "        batch_size = target.size(0)\n",
    "\n",
    "        _, pred = output.topk(maxk, 1, True, True)\n",
    "        pred = pred.t()\n",
    "        correct = pred.eq(target.view(1, -1).expand_as(pred))\n",
    "\n",
    "        res = []\n",
    "        for k in topk:\n",
    "            correct_k = correct[:k].reshape(-1).float().sum(0, keepdim=True)\n",
    "            res.append(correct_k.mul_(100.0 / batch_size))\n",
    "        return res"
   ]
  },
  {
   "cell_type": "code",
   "execution_count": 10,
   "id": "7bae7ce5",
   "metadata": {
    "execution": {
     "iopub.execute_input": "2023-03-27T01:36:55.084765Z",
     "iopub.status.busy": "2023-03-27T01:36:55.084243Z",
     "iopub.status.idle": "2023-03-27T01:36:55.089437Z",
     "shell.execute_reply": "2023-03-27T01:36:55.088856Z"
    },
    "papermill": {
     "duration": 0.011937,
     "end_time": "2023-03-27T01:36:55.090612",
     "exception": false,
     "start_time": "2023-03-27T01:36:55.078675",
     "status": "completed"
    },
    "tags": []
   },
   "outputs": [],
   "source": [
    "def get_class_weights(dataset):\n",
    "    ''' Get class weights for a dataset\n",
    "    Args:\n",
    "        dataset: torch.utils.data.Dataset\n",
    "    Returns:\n",
    "        class_weights: torch.FloatTensor\n",
    "    '''\n",
    "    \n",
    "    class_counts = Counter(dataset.targets)\n",
    "    n_classes = len(class_counts.keys())\n",
    "    total_count = len(dataset.targets)\n",
    "    class_weights = list({class_id: total_count/(n_classes * class_counts) for class_id, class_counts in class_counts.items()}.values())\n",
    "    class_weights = torch.FloatTensor(class_weights).cuda()\n",
    "    return class_weights"
   ]
  },
  {
   "cell_type": "code",
   "execution_count": 11,
   "id": "490fd1a5",
   "metadata": {
    "execution": {
     "iopub.execute_input": "2023-03-27T01:36:55.101678Z",
     "iopub.status.busy": "2023-03-27T01:36:55.101314Z",
     "iopub.status.idle": "2023-03-27T01:36:55.105738Z",
     "shell.execute_reply": "2023-03-27T01:36:55.105046Z"
    },
    "papermill": {
     "duration": 0.010911,
     "end_time": "2023-03-27T01:36:55.106938",
     "exception": false,
     "start_time": "2023-03-27T01:36:55.096027",
     "status": "completed"
    },
    "tags": []
   },
   "outputs": [],
   "source": [
    "class SplitTensorToFiveChannels(object):\n",
    "    \"\"\"Convert images in Pytorch Dataset to Tensors with one channel\n",
    "    for each discrete fluerecent image in a Cell Painting sample.\"\"\"\n",
    "\n",
    "    def __call__(self, img):\n",
    "        # select the first channel since the image is grayscale\n",
    "        img = img[0,:,:]\n",
    "        # split the image into the 6 channels and remove the last channel\n",
    "        img = torch.tensor_split(img,6,dim=1)[:-1]\n",
    "        # concatenate the 5 channels into a single tensor\n",
    "        img = torch.stack(img, dim=0)\n",
    "        return img\n"
   ]
  },
  {
   "attachments": {},
   "cell_type": "markdown",
   "id": "481a48b4",
   "metadata": {
    "papermill": {
     "duration": 0.00441,
     "end_time": "2023-03-27T01:36:55.115944",
     "exception": false,
     "start_time": "2023-03-27T01:36:55.111534",
     "status": "completed"
    },
    "tags": []
   },
   "source": [
    "## MaxVitClassifier"
   ]
  },
  {
   "cell_type": "code",
   "execution_count": 12,
   "id": "226dfc22",
   "metadata": {
    "execution": {
     "iopub.execute_input": "2023-03-27T01:36:55.125856Z",
     "iopub.status.busy": "2023-03-27T01:36:55.125500Z",
     "iopub.status.idle": "2023-03-27T01:36:55.131493Z",
     "shell.execute_reply": "2023-03-27T01:36:55.130893Z"
    },
    "papermill": {
     "duration": 0.012399,
     "end_time": "2023-03-27T01:36:55.132671",
     "exception": false,
     "start_time": "2023-03-27T01:36:55.120272",
     "status": "completed"
    },
    "tags": []
   },
   "outputs": [],
   "source": [
    "class MaxVitClassifier(nn.Module):\n",
    "    def __init__(self, checkpoint=None):\n",
    "        super().__init__()\n",
    "        self.model_name = CFG.ARCH\n",
    "        self.model = timm.create_model(\n",
    "            CFG.ARCH,\n",
    "            in_chans=CFG.IN_CHANS,\n",
    "            pretrained=CFG.PRETRAINED, \n",
    "            num_classes=CFG.NUM_CLASSES)\n",
    "        # n_features = self.model.head.in_features\n",
    "        # self.model.head = nn.Linear(n_features, num_classes)\n",
    "        # self.model.fc = nn.Linear(n_features, num_classes)\n",
    "        # if checkpoint:\n",
    "        #   self.model.load_state_dict(torch.load(checkpoint), strict=False)\n",
    "\n",
    "    def forward(self, x):\n",
    "        x = self.model(x)\n",
    "        return x\n",
    "    \n",
    "    def freeze(self):\n",
    "        # To freeze the residual layers\n",
    "        for param in self.model.parameters():\n",
    "            param.requires_grad = False\n",
    "\n",
    "        for param in self.model.head.parameters():\n",
    "            param.requires_grad = True\n",
    "    \n",
    "    def unfreeze(self):\n",
    "        # Unfreeze all layers\n",
    "        for param in self.model.parameters():\n",
    "            param.requires_grad = True"
   ]
  },
  {
   "attachments": {},
   "cell_type": "markdown",
   "id": "4fd4f2b2",
   "metadata": {
    "papermill": {
     "duration": 0.004422,
     "end_time": "2023-03-27T01:36:55.141650",
     "exception": false,
     "start_time": "2023-03-27T01:36:55.137228",
     "status": "completed"
    },
    "tags": []
   },
   "source": [
    "# Train & Validation Functions"
   ]
  },
  {
   "cell_type": "code",
   "execution_count": 13,
   "id": "74b2835e",
   "metadata": {
    "execution": {
     "iopub.execute_input": "2023-03-27T01:36:55.151593Z",
     "iopub.status.busy": "2023-03-27T01:36:55.151257Z",
     "iopub.status.idle": "2023-03-27T01:36:55.160576Z",
     "shell.execute_reply": "2023-03-27T01:36:55.160113Z"
    },
    "papermill": {
     "duration": 0.015682,
     "end_time": "2023-03-27T01:36:55.161650",
     "exception": false,
     "start_time": "2023-03-27T01:36:55.145968",
     "status": "completed"
    },
    "tags": []
   },
   "outputs": [],
   "source": [
    "def train(train_loader, model, criterion, optimizer, epoch):\n",
    "    batch_time = AverageMeter('Time', ':6.3f')\n",
    "    data_time = AverageMeter('Data', ':6.3f')\n",
    "    losses = AverageMeter('Loss', ':.4e')\n",
    "    top1 = AverageMeter('Acc@1', ':6.2f')\n",
    "    top5 = AverageMeter('Acc@5', ':6.2f')\n",
    "    progress = ProgressMeter(\n",
    "        len(train_loader),\n",
    "        [batch_time, data_time, losses, top1, top5],\n",
    "        prefix=\"Epoch: [{}]\".format(epoch))\n",
    "\n",
    "    # Grad Scaler\n",
    "    scaler = GradScaler()\n",
    "    # switch to train mode\n",
    "    model.train()\n",
    "\n",
    "    running_loss = 0.0\n",
    "    running_corrects = 0\n",
    "\n",
    "    end = time.time()\n",
    "    for i, (images, target) in enumerate(train_loader):\n",
    "        # measure data loading time\n",
    "        data_time.update(time.time() - end)\n",
    "\n",
    "        # move data to GPU\n",
    "        if GPU is not None:\n",
    "            images = images.cuda(GPU, non_blocking=True)\n",
    "        if torch.cuda.is_available():\n",
    "            target = target.cuda(GPU, non_blocking=True)\n",
    "\n",
    "        # compute output\n",
    "        with torch.autocast(device_type='cuda'):\n",
    "            output = model(images)\n",
    "            loss = criterion(output, target)\n",
    "\n",
    "            _, preds = torch.max(output, 1)\n",
    "        \n",
    "        running_loss += loss.item() * images.size(0)\n",
    "        running_corrects += torch.sum(preds == target.data)\n",
    "\n",
    "        # measure accuracy and record loss\n",
    "        acc1, acc5 = accuracy(output, target, topk=(1, 5))\n",
    "        losses.update(loss.item(), images.size(0))\n",
    "        top1.update(acc1[0], images.size(0))\n",
    "        top5.update(acc5[0], images.size(0))\n",
    "        \n",
    "        # compute gradient and do SGD step\n",
    "        # use the scaler\n",
    "        scaler.scale(loss).backward()\n",
    "        scaler.step(optimizer)\n",
    "        scaler.update()\n",
    "\n",
    "        # measure elapsed time\n",
    "        batch_time.update(time.time() - end)\n",
    "        end = time.time()\n",
    "\n",
    "        if i % CFG.PRINT_FREQ == 0:\n",
    "            progress.display(i)\n",
    "\n",
    "    epoch_loss = running_loss / len(train_loader.dataset)\n",
    "    epoch_acc = running_corrects.double() / len(train_loader.dataset)\n",
    "    \n",
    "    # print('{} Loss: {:.4f} Acc: {:.4f}'.format(\"train\", epoch_loss, epoch_acc))\n",
    "    wandb.log({\"Loss/train\": loss, 'acc1/train': top1.avg, 'acc5/train': top5.avg})\n",
    "\n",
    "    wblogdict[f'{\"train\"}/loss'] = np.round(epoch_loss, 4)\n",
    "    wblogdict[f'{\"train\"}/acc'] = np.round(epoch_acc.cpu(), 3)\n",
    "    wblogdict['train/learning_rate'] = CFG.LEARNING_RATE"
   ]
  },
  {
   "cell_type": "code",
   "execution_count": 14,
   "id": "4c02379c",
   "metadata": {
    "execution": {
     "iopub.execute_input": "2023-03-27T01:36:55.171244Z",
     "iopub.status.busy": "2023-03-27T01:36:55.170934Z",
     "iopub.status.idle": "2023-03-27T01:36:55.180255Z",
     "shell.execute_reply": "2023-03-27T01:36:55.179675Z"
    },
    "papermill": {
     "duration": 0.015284,
     "end_time": "2023-03-27T01:36:55.181367",
     "exception": false,
     "start_time": "2023-03-27T01:36:55.166083",
     "status": "completed"
    },
    "tags": []
   },
   "outputs": [],
   "source": [
    "def validate(val_loader, model, criterion):\n",
    "    batch_time = AverageMeter('Time', ':6.3f')\n",
    "    losses = AverageMeter('Loss', ':.4e')\n",
    "    top1 = AverageMeter('Acc@1', ':6.2f')\n",
    "    top5 = AverageMeter('Acc@5', ':6.2f')\n",
    "    progress = ProgressMeter(\n",
    "        len(val_loader),\n",
    "        [batch_time, losses, top1, top5],\n",
    "        prefix='Validation: ')\n",
    "\n",
    "    # switch to evaluate mode\n",
    "    model.eval()\n",
    "\n",
    "    running_loss = 0.0\n",
    "    running_corrects = 0\n",
    "\n",
    "    with torch.no_grad():\n",
    "        end = time.time()\n",
    "        for i, (images, target) in enumerate(val_loader):\n",
    "            if GPU is not None:\n",
    "                images = images.cuda(GPU, non_blocking=True)\n",
    "            if torch.cuda.is_available():\n",
    "                target = target.cuda(GPU, non_blocking=True)\n",
    "\n",
    "            # compute output\n",
    "            output = model(images)\n",
    "            loss = criterion(output, target)\n",
    "\n",
    "            _, preds = torch.max(output, 1)\n",
    "\n",
    "            # measure accuracy and record loss\n",
    "            acc1, acc5 = accuracy(output, target, topk=(1, 5))\n",
    "            losses.update(loss.item(), images.size(0))\n",
    "            top1.update(acc1[0], images.size(0))\n",
    "            top5.update(acc5[0], images.size(0))\n",
    "\n",
    "            # measure elapsed time\n",
    "            batch_time.update(time.time() - end)\n",
    "            end = time.time()\n",
    "\n",
    "            if i % CFG.PRINT_FREQ == 0:\n",
    "                progress.display(i)\n",
    "\n",
    "        # TODO: this should also be done with the ProgressMeter\n",
    "        print(' * Acc@1 {top1.avg:.3f} Acc@5 {top5.avg:.3f}'\n",
    "              .format(top1=top1, top5=top5))\n",
    "        \n",
    "        running_loss += loss.item() * images.size(0)\n",
    "        running_corrects += torch.sum(preds == target.data)\n",
    "\n",
    "    epoch_loss = running_loss / len(val_loader.dataset)\n",
    "    epoch_acc = running_corrects.double() / len(val_loader.dataset)\n",
    "    \n",
    "    print('{} Loss: {:.4f} Acc: {:.4f}'.format(\"Validation\", epoch_loss, epoch_acc))\n",
    "\n",
    "    wblogdict[f'{\"val\"}/loss'] = np.round(epoch_loss, 4)\n",
    "    wblogdict[f'{\"val\"}/acc'] = np.round(epoch_acc.cpu(), 3)\n",
    "\n",
    "    scheduler.step(epoch_loss)\n",
    "\n",
    "    wandb.log({\"val/loss\": losses.avg, 'val/acc1': top1.avg, 'val/acc5': top5.avg})\n",
    "    return top1.avg, top5.avg"
   ]
  },
  {
   "attachments": {},
   "cell_type": "markdown",
   "id": "051e5ccb",
   "metadata": {
    "papermill": {
     "duration": 0.004324,
     "end_time": "2023-03-27T01:36:55.215650",
     "exception": false,
     "start_time": "2023-03-27T01:36:55.211326",
     "status": "completed"
    },
    "tags": []
   },
   "source": [
    "# Transformations, Datasets, & Dataloaders"
   ]
  },
  {
   "cell_type": "code",
   "execution_count": 15,
   "id": "538ccdcf",
   "metadata": {
    "execution": {
     "iopub.execute_input": "2023-03-27T01:36:55.225672Z",
     "iopub.status.busy": "2023-03-27T01:36:55.225156Z",
     "iopub.status.idle": "2023-03-27T01:36:55.229667Z",
     "shell.execute_reply": "2023-03-27T01:36:55.229121Z"
    },
    "papermill": {
     "duration": 0.010735,
     "end_time": "2023-03-27T01:36:55.230824",
     "exception": false,
     "start_time": "2023-03-27T01:36:55.220089",
     "status": "completed"
    },
    "tags": []
   },
   "outputs": [],
   "source": [
    "transform_train = transforms.Compose([\n",
    "    transforms.RandomVerticalFlip(),\n",
    "    transforms.Resize((CFG.IMAGE_SIZE, CFG.IMAGE_SIZE*6)),\n",
    "    transforms.ToTensor(),\n",
    "    SplitTensorToFiveChannels(),\n",
    "])\n",
    "\n",
    "transform_val = transforms.Compose([\n",
    "    transforms.Resize((CFG.IMAGE_SIZE, CFG.IMAGE_SIZE*6)),\n",
    "    transforms.ToTensor(),\n",
    "    SplitTensorToFiveChannels(),\n",
    "])\n"
   ]
  },
  {
   "cell_type": "code",
   "execution_count": 16,
   "id": "99e42dfc",
   "metadata": {
    "execution": {
     "iopub.execute_input": "2023-03-27T01:36:55.240929Z",
     "iopub.status.busy": "2023-03-27T01:36:55.240465Z",
     "iopub.status.idle": "2023-03-27T01:36:55.732831Z",
     "shell.execute_reply": "2023-03-27T01:36:55.732176Z"
    },
    "papermill": {
     "duration": 0.499473,
     "end_time": "2023-03-27T01:36:55.734752",
     "exception": false,
     "start_time": "2023-03-27T01:36:55.235279",
     "status": "completed"
    },
    "tags": []
   },
   "outputs": [],
   "source": [
    "train_dataset = datasets.ImageFolder(\n",
    "    CFG.TRAINDIR, transform=transform_train)\n",
    "\n",
    "val_dataset = datasets.ImageFolder(\n",
    "    CFG.VALDIR, transform=transform_val)"
   ]
  },
  {
   "cell_type": "code",
   "execution_count": 17,
   "id": "d1d543cb",
   "metadata": {
    "execution": {
     "iopub.execute_input": "2023-03-27T01:36:55.751073Z",
     "iopub.status.busy": "2023-03-27T01:36:55.750506Z",
     "iopub.status.idle": "2023-03-27T01:36:55.753530Z",
     "shell.execute_reply": "2023-03-27T01:36:55.753093Z"
    },
    "papermill": {
     "duration": 0.01272,
     "end_time": "2023-03-27T01:36:55.755029",
     "exception": false,
     "start_time": "2023-03-27T01:36:55.742309",
     "status": "completed"
    },
    "tags": []
   },
   "outputs": [],
   "source": [
    "# sample_weight = get_class_weights(train_dataset)\n",
    "# # sampler = data.WeightedRandomSampler(sample_weight, len(train_dataset))\n",
    "# sampler = data.WeightedRandomSampler(sample_weight, 1000*CFG.BATCH_SIZE)"
   ]
  },
  {
   "cell_type": "code",
   "execution_count": 18,
   "id": "bd2cd624",
   "metadata": {
    "execution": {
     "iopub.execute_input": "2023-03-27T01:36:55.767493Z",
     "iopub.status.busy": "2023-03-27T01:36:55.767171Z",
     "iopub.status.idle": "2023-03-27T01:36:55.771318Z",
     "shell.execute_reply": "2023-03-27T01:36:55.770816Z"
    },
    "papermill": {
     "duration": 0.01054,
     "end_time": "2023-03-27T01:36:55.772463",
     "exception": false,
     "start_time": "2023-03-27T01:36:55.761923",
     "status": "completed"
    },
    "tags": []
   },
   "outputs": [],
   "source": [
    "train_loader = torch.utils.data.DataLoader(\n",
    "        train_dataset, batch_size=CFG.TRAIN_BATCH, shuffle=True,\n",
    "        num_workers=CFG.WORKERS, pin_memory=True, sampler=None)"
   ]
  },
  {
   "cell_type": "code",
   "execution_count": 19,
   "id": "9fa5bdc0",
   "metadata": {
    "execution": {
     "iopub.execute_input": "2023-03-27T01:36:55.783061Z",
     "iopub.status.busy": "2023-03-27T01:36:55.782515Z",
     "iopub.status.idle": "2023-03-27T01:36:55.786341Z",
     "shell.execute_reply": "2023-03-27T01:36:55.785830Z"
    },
    "papermill": {
     "duration": 0.010273,
     "end_time": "2023-03-27T01:36:55.787484",
     "exception": false,
     "start_time": "2023-03-27T01:36:55.777211",
     "status": "completed"
    },
    "tags": []
   },
   "outputs": [],
   "source": [
    "val_loader = torch.utils.data.DataLoader(\n",
    "        val_dataset, batch_size=CFG.VAL_BATCH, shuffle=True,\n",
    "        num_workers=CFG.WORKERS, pin_memory=True, sampler=None)"
   ]
  },
  {
   "attachments": {},
   "cell_type": "markdown",
   "id": "968482f9",
   "metadata": {
    "papermill": {
     "duration": 0.004632,
     "end_time": "2023-03-27T01:36:55.797055",
     "exception": false,
     "start_time": "2023-03-27T01:36:55.792423",
     "status": "completed"
    },
    "tags": []
   },
   "source": [
    "# Training Loop"
   ]
  },
  {
   "cell_type": "code",
   "execution_count": 20,
   "id": "249dc215",
   "metadata": {
    "execution": {
     "iopub.execute_input": "2023-03-27T01:36:55.806967Z",
     "iopub.status.busy": "2023-03-27T01:36:55.806742Z",
     "iopub.status.idle": "2023-03-27T01:36:59.228652Z",
     "shell.execute_reply": "2023-03-27T01:36:59.228023Z"
    },
    "papermill": {
     "duration": 3.428884,
     "end_time": "2023-03-27T01:36:59.230451",
     "exception": false,
     "start_time": "2023-03-27T01:36:55.801567",
     "status": "completed"
    },
    "tags": []
   },
   "outputs": [],
   "source": [
    "model = torch.compile(MaxVitClassifier(CFG), backend=\"inductor\")\n",
    "model = model.cuda(GPU)\n"
   ]
  },
  {
   "cell_type": "code",
   "execution_count": 21,
   "id": "5ecd6c4f",
   "metadata": {
    "execution": {
     "iopub.execute_input": "2023-03-27T01:36:59.247636Z",
     "iopub.status.busy": "2023-03-27T01:36:59.246978Z",
     "iopub.status.idle": "2023-03-27T01:36:59.262583Z",
     "shell.execute_reply": "2023-03-27T01:36:59.261994Z"
    },
    "papermill": {
     "duration": 0.025665,
     "end_time": "2023-03-27T01:36:59.263958",
     "exception": false,
     "start_time": "2023-03-27T01:36:59.238293",
     "status": "completed"
    },
    "tags": []
   },
   "outputs": [],
   "source": [
    "# define loss function (criterion) and optimizer\n",
    "# get the class weights from the validation set weight=get_class_weights(train_dataset)\n",
    "criterion = nn.CrossEntropyLoss(weight=get_class_weights(train_dataset)).cuda(GPU)\n",
    "\n",
    "# optimizer = torch.optim.Adam(\n",
    "#   model.parameters(), \n",
    "#   lr=CFG.LR, \n",
    "#   # momentum=MOMENTUM, \n",
    "#   weight_decay=CFG.WEIGHT_DECAY\n",
    "#   )\n",
    "\n",
    "# scheduler = torch.optim.lr_scheduler.CosineAnnealingLR(optimizer, T_max=CFG.EPOCHS)\n",
    "optimizer = torch.optim.AdamW(model.parameters())\n",
    "scheduler = torch.optim.lr_scheduler.ReduceLROnPlateau(optimizer, factor=CFG.PLATEAU_FACTOR, patience=CFG.PLATEAU_PATIENCE)"
   ]
  },
  {
   "cell_type": "code",
   "execution_count": 22,
   "id": "faa403f9",
   "metadata": {
    "execution": {
     "iopub.execute_input": "2023-03-27T01:36:59.274304Z",
     "iopub.status.busy": "2023-03-27T01:36:59.273966Z",
     "iopub.status.idle": "2023-03-27T01:36:59.277247Z",
     "shell.execute_reply": "2023-03-27T01:36:59.276788Z"
    },
    "papermill": {
     "duration": 0.009798,
     "end_time": "2023-03-27T01:36:59.278463",
     "exception": false,
     "start_time": "2023-03-27T01:36:59.268665",
     "status": "completed"
    },
    "tags": []
   },
   "outputs": [],
   "source": [
    "best_acc1 = 0"
   ]
  },
  {
   "cell_type": "code",
   "execution_count": 23,
   "id": "46aacbad",
   "metadata": {
    "execution": {
     "iopub.execute_input": "2023-03-27T01:36:59.288780Z",
     "iopub.status.busy": "2023-03-27T01:36:59.288469Z"
    },
    "papermill": {
     "duration": null,
     "end_time": null,
     "exception": false,
     "start_time": "2023-03-27T01:36:59.283163",
     "status": "running"
    },
    "tags": [
     "parameters"
    ]
   },
   "outputs": [
    {
     "name": "stdout",
     "output_type": "stream",
     "text": [
      "Epoch 0/19\n",
      "--------------------\n"
     ]
    },
    {
     "name": "stdout",
     "output_type": "stream",
     "text": [
      "Epoch: [0][   0/5618]\tTime 135.058 (135.058)\tData  0.918 ( 0.918)\tLoss 3.8581e+00 (3.8581e+00)\tAcc@1   3.12 (  3.12)\tAcc@5   9.38 (  9.38)\n"
     ]
    },
    {
     "name": "stdout",
     "output_type": "stream",
     "text": [
      "Epoch: [0][ 200/5618]\tTime  0.335 ( 1.005)\tData  0.000 ( 0.005)\tLoss 3.8472e+00 (3.8635e+00)\tAcc@1   0.00 (  2.08)\tAcc@5  18.75 ( 12.05)\n"
     ]
    },
    {
     "name": "stdout",
     "output_type": "stream",
     "text": [
      "Epoch: [0][ 400/5618]\tTime  0.335 ( 0.671)\tData  0.000 ( 0.003)\tLoss 3.8260e+00 (3.8649e+00)\tAcc@1   9.38 (  2.27)\tAcc@5  25.00 ( 12.27)\n"
     ]
    },
    {
     "name": "stdout",
     "output_type": "stream",
     "text": [
      "Epoch: [0][ 600/5618]\tTime  0.336 ( 0.562)\tData  0.000 ( 0.002)\tLoss 3.8885e+00 (3.8638e+00)\tAcc@1   0.00 (  2.26)\tAcc@5   3.12 ( 12.07)\n"
     ]
    },
    {
     "name": "stdout",
     "output_type": "stream",
     "text": [
      "Epoch: [0][ 800/5618]\tTime  0.335 ( 0.506)\tData  0.000 ( 0.001)\tLoss 3.8409e+00 (3.8629e+00)\tAcc@1   0.00 (  2.28)\tAcc@5  12.50 ( 12.20)\n"
     ]
    },
    {
     "name": "stdout",
     "output_type": "stream",
     "text": [
      "Epoch: [0][1000/5618]\tTime  0.336 ( 0.472)\tData  0.000 ( 0.001)\tLoss 3.8279e+00 (3.8625e+00)\tAcc@1   0.00 (  2.27)\tAcc@5  18.75 ( 12.25)\n"
     ]
    },
    {
     "name": "stdout",
     "output_type": "stream",
     "text": [
      "Epoch: [0][1200/5618]\tTime  0.335 ( 0.450)\tData  0.000 ( 0.001)\tLoss 3.8361e+00 (3.8626e+00)\tAcc@1   6.25 (  2.27)\tAcc@5   9.38 ( 12.23)\n"
     ]
    },
    {
     "name": "stdout",
     "output_type": "stream",
     "text": [
      "Epoch: [0][1400/5618]\tTime  0.335 ( 0.434)\tData  0.000 ( 0.001)\tLoss 3.8167e+00 (3.8628e+00)\tAcc@1   6.25 (  2.23)\tAcc@5  12.50 ( 12.17)\n"
     ]
    },
    {
     "name": "stdout",
     "output_type": "stream",
     "text": [
      "Epoch: [0][1600/5618]\tTime  0.335 ( 0.422)\tData  0.000 ( 0.001)\tLoss 3.8124e+00 (3.8630e+00)\tAcc@1   9.38 (  2.21)\tAcc@5  15.62 ( 12.18)\n"
     ]
    },
    {
     "name": "stdout",
     "output_type": "stream",
     "text": [
      "Epoch: [0][1800/5618]\tTime  0.335 ( 0.412)\tData  0.000 ( 0.001)\tLoss 3.8381e+00 (3.8625e+00)\tAcc@1   3.12 (  2.22)\tAcc@5   9.38 ( 12.16)\n"
     ]
    },
    {
     "name": "stdout",
     "output_type": "stream",
     "text": [
      "Epoch: [0][2000/5618]\tTime  0.336 ( 0.404)\tData  0.000 ( 0.001)\tLoss 3.8792e+00 (3.8619e+00)\tAcc@1   3.12 (  2.22)\tAcc@5  18.75 ( 12.13)\n"
     ]
    },
    {
     "name": "stdout",
     "output_type": "stream",
     "text": [
      "Epoch: [0][2200/5618]\tTime  0.335 ( 0.398)\tData  0.000 ( 0.001)\tLoss 3.8568e+00 (3.8618e+00)\tAcc@1   3.12 (  2.22)\tAcc@5  15.62 ( 12.17)\n"
     ]
    },
    {
     "name": "stdout",
     "output_type": "stream",
     "text": [
      "Epoch: [0][2400/5618]\tTime  0.335 ( 0.393)\tData  0.000 ( 0.001)\tLoss 3.8016e+00 (3.8623e+00)\tAcc@1   0.00 (  2.21)\tAcc@5  15.62 ( 12.15)\n"
     ]
    },
    {
     "name": "stdout",
     "output_type": "stream",
     "text": [
      "Epoch: [0][2600/5618]\tTime  0.336 ( 0.389)\tData  0.000 ( 0.001)\tLoss 3.7758e+00 (3.8617e+00)\tAcc@1   0.00 (  2.22)\tAcc@5   9.38 ( 12.19)\n"
     ]
    },
    {
     "name": "stdout",
     "output_type": "stream",
     "text": [
      "Epoch: [0][2800/5618]\tTime  0.335 ( 0.385)\tData  0.000 ( 0.001)\tLoss 3.8804e+00 (3.8615e+00)\tAcc@1   0.00 (  2.22)\tAcc@5   9.38 ( 12.20)\n"
     ]
    },
    {
     "name": "stdout",
     "output_type": "stream",
     "text": [
      "Epoch: [0][3000/5618]\tTime  0.335 ( 0.382)\tData  0.000 ( 0.001)\tLoss 3.8191e+00 (3.8615e+00)\tAcc@1   0.00 (  2.22)\tAcc@5   9.38 ( 12.21)\n"
     ]
    },
    {
     "name": "stdout",
     "output_type": "stream",
     "text": [
      "Epoch: [0][3200/5618]\tTime  0.335 ( 0.379)\tData  0.000 ( 0.001)\tLoss 3.9020e+00 (3.8615e+00)\tAcc@1   0.00 (  2.23)\tAcc@5   6.25 ( 12.21)\n"
     ]
    },
    {
     "name": "stdout",
     "output_type": "stream",
     "text": [
      "Epoch: [0][3400/5618]\tTime  0.336 ( 0.376)\tData  0.000 ( 0.001)\tLoss 3.8618e+00 (3.8618e+00)\tAcc@1   0.00 (  2.22)\tAcc@5   3.12 ( 12.19)\n"
     ]
    },
    {
     "name": "stdout",
     "output_type": "stream",
     "text": [
      "Epoch: [0][3600/5618]\tTime  0.335 ( 0.374)\tData  0.000 ( 0.001)\tLoss 3.8510e+00 (3.8616e+00)\tAcc@1   0.00 (  2.23)\tAcc@5   6.25 ( 12.20)\n"
     ]
    },
    {
     "name": "stdout",
     "output_type": "stream",
     "text": [
      "Epoch: [0][3800/5618]\tTime  0.335 ( 0.372)\tData  0.000 ( 0.000)\tLoss 3.8631e+00 (3.8615e+00)\tAcc@1   0.00 (  2.23)\tAcc@5   6.25 ( 12.21)\n"
     ]
    },
    {
     "name": "stdout",
     "output_type": "stream",
     "text": [
      "Epoch: [0][4000/5618]\tTime  0.335 ( 0.371)\tData  0.000 ( 0.000)\tLoss 3.8752e+00 (3.8617e+00)\tAcc@1   0.00 (  2.24)\tAcc@5   9.38 ( 12.19)\n"
     ]
    },
    {
     "name": "stdout",
     "output_type": "stream",
     "text": [
      "Epoch: [0][4200/5618]\tTime  0.335 ( 0.369)\tData  0.000 ( 0.000)\tLoss 3.9134e+00 (3.8615e+00)\tAcc@1   0.00 (  2.24)\tAcc@5   3.12 ( 12.21)\n"
     ]
    },
    {
     "name": "stdout",
     "output_type": "stream",
     "text": [
      "Epoch: [0][4400/5618]\tTime  0.336 ( 0.367)\tData  0.000 ( 0.000)\tLoss 3.8988e+00 (3.8616e+00)\tAcc@1   3.12 (  2.23)\tAcc@5  12.50 ( 12.17)\n"
     ]
    },
    {
     "name": "stdout",
     "output_type": "stream",
     "text": [
      "Epoch: [0][4600/5618]\tTime  0.335 ( 0.366)\tData  0.000 ( 0.000)\tLoss 3.8580e+00 (3.8618e+00)\tAcc@1   0.00 (  2.24)\tAcc@5   6.25 ( 12.17)\n"
     ]
    },
    {
     "name": "stdout",
     "output_type": "stream",
     "text": [
      "Epoch: [0][4800/5618]\tTime  0.335 ( 0.365)\tData  0.000 ( 0.000)\tLoss 3.8400e+00 (3.8617e+00)\tAcc@1   0.00 (  2.23)\tAcc@5  15.62 ( 12.17)\n"
     ]
    },
    {
     "name": "stdout",
     "output_type": "stream",
     "text": [
      "Epoch: [0][5000/5618]\tTime  0.335 ( 0.364)\tData  0.000 ( 0.000)\tLoss 3.8813e+00 (3.8615e+00)\tAcc@1   3.12 (  2.24)\tAcc@5   9.38 ( 12.18)\n"
     ]
    },
    {
     "name": "stdout",
     "output_type": "stream",
     "text": [
      "Epoch: [0][5200/5618]\tTime  0.335 ( 0.363)\tData  0.000 ( 0.000)\tLoss 3.8568e+00 (3.8616e+00)\tAcc@1   0.00 (  2.23)\tAcc@5  15.62 ( 12.17)\n"
     ]
    },
    {
     "name": "stdout",
     "output_type": "stream",
     "text": [
      "Epoch: [0][5400/5618]\tTime  0.335 ( 0.362)\tData  0.000 ( 0.000)\tLoss 3.8392e+00 (3.8616e+00)\tAcc@1   6.25 (  2.23)\tAcc@5   9.38 ( 12.17)\n"
     ]
    },
    {
     "name": "stdout",
     "output_type": "stream",
     "text": [
      "Epoch: [0][5600/5618]\tTime  0.335 ( 0.361)\tData  0.000 ( 0.000)\tLoss 3.9384e+00 (3.8615e+00)\tAcc@1   3.12 (  2.22)\tAcc@5   9.38 ( 12.17)\n"
     ]
    },
    {
     "name": "stderr",
     "output_type": "stream",
     "text": [
      "/opt/conda/envs/torch/lib/python3.9/site-packages/torch/_inductor/compile_fx.py:90: UserWarning: TensorFloat32 tensor cores for float32 matrix multiplication available but not enabled. Consider setting `torch.set_float32_matmul_precision('high')` for better performance.\n",
      "  warnings.warn(\n"
     ]
    },
    {
     "name": "stdout",
     "output_type": "stream",
     "text": [
      "Validation: [   0/1605]\tTime 48.054 (48.054)\tLoss 3.8679e+00 (3.8679e+00)\tAcc@1   6.25 (  6.25)\tAcc@5  12.50 ( 12.50)\n"
     ]
    },
    {
     "name": "stdout",
     "output_type": "stream",
     "text": [
      "Validation: [ 200/1605]\tTime  0.194 ( 0.431)\tLoss 3.8560e+00 (3.8591e+00)\tAcc@1   0.00 (  2.19)\tAcc@5  12.50 ( 11.46)\n"
     ]
    },
    {
     "name": "stdout",
     "output_type": "stream",
     "text": [
      "Validation: [ 400/1605]\tTime  0.194 ( 0.313)\tLoss 3.9063e+00 (3.8610e+00)\tAcc@1   0.00 (  2.14)\tAcc@5  12.50 ( 11.31)\n"
     ]
    },
    {
     "name": "stdout",
     "output_type": "stream",
     "text": [
      "Validation: [ 600/1605]\tTime  0.194 ( 0.273)\tLoss 3.9343e+00 (3.8615e+00)\tAcc@1   0.00 (  2.13)\tAcc@5   9.38 ( 11.32)\n"
     ]
    },
    {
     "name": "stdout",
     "output_type": "stream",
     "text": [
      "Validation: [ 800/1605]\tTime  0.194 ( 0.253)\tLoss 3.8172e+00 (3.8616e+00)\tAcc@1   3.12 (  2.11)\tAcc@5  15.62 ( 11.42)\n"
     ]
    },
    {
     "name": "stdout",
     "output_type": "stream",
     "text": [
      "Validation: [1000/1605]\tTime  0.194 ( 0.242)\tLoss 3.8606e+00 (3.8614e+00)\tAcc@1   0.00 (  2.14)\tAcc@5   9.38 ( 11.59)\n"
     ]
    },
    {
     "name": "stdout",
     "output_type": "stream",
     "text": [
      "Validation: [1200/1605]\tTime  0.194 ( 0.234)\tLoss 3.7620e+00 (3.8620e+00)\tAcc@1   3.12 (  2.06)\tAcc@5  21.88 ( 11.47)\n"
     ]
    },
    {
     "name": "stdout",
     "output_type": "stream",
     "text": [
      "Validation: [1400/1605]\tTime  0.194 ( 0.228)\tLoss 3.8002e+00 (3.8615e+00)\tAcc@1   3.12 (  2.09)\tAcc@5  12.50 ( 11.56)\n"
     ]
    },
    {
     "name": "stdout",
     "output_type": "stream",
     "text": [
      "Validation: [1600/1605]\tTime  0.194 ( 0.224)\tLoss 3.8834e+00 (3.8621e+00)\tAcc@1   0.00 (  2.07)\tAcc@5   9.38 ( 11.54)\n"
     ]
    },
    {
     "name": "stdout",
     "output_type": "stream",
     "text": [
      " * Acc@1 2.068 Acc@5 11.543\n",
      "Validation Loss: 0.0015 Acc: 0.0000\n"
     ]
    },
    {
     "name": "stdout",
     "output_type": "stream",
     "text": [
      "Epoch 1/19\n",
      "--------------------\n"
     ]
    },
    {
     "name": "stdout",
     "output_type": "stream",
     "text": [
      "Epoch: [1][   0/5618]\tTime  1.602 ( 1.602)\tData  1.256 ( 1.256)\tLoss 3.8532e+00 (3.8532e+00)\tAcc@1   3.12 (  3.12)\tAcc@5  18.75 ( 18.75)\n"
     ]
    },
    {
     "name": "stdout",
     "output_type": "stream",
     "text": [
      "Epoch: [1][ 200/5618]\tTime  0.336 ( 0.342)\tData  0.000 ( 0.007)\tLoss 3.8244e+00 (3.8621e+00)\tAcc@1   3.12 (  1.96)\tAcc@5   9.38 ( 12.30)\n"
     ]
    },
    {
     "name": "stdout",
     "output_type": "stream",
     "text": [
      "Epoch: [1][ 400/5618]\tTime  0.336 ( 0.339)\tData  0.000 ( 0.003)\tLoss 3.9195e+00 (3.8620e+00)\tAcc@1   0.00 (  1.96)\tAcc@5   6.25 ( 12.05)\n"
     ]
    },
    {
     "name": "stdout",
     "output_type": "stream",
     "text": [
      "Epoch: [1][ 600/5618]\tTime  0.336 ( 0.340)\tData  0.000 ( 0.002)\tLoss 3.8450e+00 (3.8609e+00)\tAcc@1   0.00 (  2.04)\tAcc@5  12.50 ( 12.06)\n"
     ]
    },
    {
     "name": "stdout",
     "output_type": "stream",
     "text": [
      "Epoch: [1][ 800/5618]\tTime  0.336 ( 0.339)\tData  0.000 ( 0.002)\tLoss 3.8914e+00 (3.8622e+00)\tAcc@1   0.00 (  2.07)\tAcc@5   6.25 ( 12.02)\n"
     ]
    },
    {
     "name": "stdout",
     "output_type": "stream",
     "text": [
      "Epoch: [1][1000/5618]\tTime  0.336 ( 0.339)\tData  0.000 ( 0.002)\tLoss 3.8881e+00 (3.8616e+00)\tAcc@1   3.12 (  2.04)\tAcc@5  12.50 ( 12.01)\n"
     ]
    },
    {
     "name": "stdout",
     "output_type": "stream",
     "text": [
      "Epoch: [1][1200/5618]\tTime  0.336 ( 0.338)\tData  0.000 ( 0.001)\tLoss 3.8671e+00 (3.8619e+00)\tAcc@1   3.12 (  2.08)\tAcc@5   9.38 ( 12.05)\n"
     ]
    },
    {
     "name": "stdout",
     "output_type": "stream",
     "text": [
      "Epoch: [1][1400/5618]\tTime  0.336 ( 0.338)\tData  0.000 ( 0.001)\tLoss 3.8925e+00 (3.8616e+00)\tAcc@1   0.00 (  2.10)\tAcc@5  18.75 ( 12.03)\n"
     ]
    },
    {
     "name": "stdout",
     "output_type": "stream",
     "text": [
      "Epoch: [1][1600/5618]\tTime  0.336 ( 0.338)\tData  0.000 ( 0.001)\tLoss 3.8694e+00 (3.8617e+00)\tAcc@1   0.00 (  2.11)\tAcc@5  12.50 ( 12.09)\n"
     ]
    },
    {
     "name": "stdout",
     "output_type": "stream",
     "text": [
      "Epoch: [1][1800/5618]\tTime  0.336 ( 0.338)\tData  0.000 ( 0.001)\tLoss 3.8974e+00 (3.8618e+00)\tAcc@1   3.12 (  2.12)\tAcc@5   9.38 ( 12.13)\n"
     ]
    },
    {
     "name": "stdout",
     "output_type": "stream",
     "text": [
      "Epoch: [1][2000/5618]\tTime  0.336 ( 0.337)\tData  0.000 ( 0.001)\tLoss 3.9128e+00 (3.8617e+00)\tAcc@1   3.12 (  2.11)\tAcc@5  28.12 ( 12.12)\n"
     ]
    },
    {
     "name": "stdout",
     "output_type": "stream",
     "text": [
      "Epoch: [1][2200/5618]\tTime  0.336 ( 0.337)\tData  0.000 ( 0.001)\tLoss 3.8894e+00 (3.8623e+00)\tAcc@1   0.00 (  2.13)\tAcc@5  12.50 ( 12.15)\n"
     ]
    },
    {
     "name": "stdout",
     "output_type": "stream",
     "text": [
      "Epoch: [1][2400/5618]\tTime  0.336 ( 0.337)\tData  0.000 ( 0.001)\tLoss 3.8600e+00 (3.8626e+00)\tAcc@1   0.00 (  2.10)\tAcc@5   3.12 ( 12.14)\n"
     ]
    },
    {
     "name": "stdout",
     "output_type": "stream",
     "text": [
      "Epoch: [1][2600/5618]\tTime  0.336 ( 0.337)\tData  0.000 ( 0.001)\tLoss 3.8912e+00 (3.8625e+00)\tAcc@1   3.12 (  2.10)\tAcc@5   9.38 ( 12.16)\n"
     ]
    },
    {
     "name": "stdout",
     "output_type": "stream",
     "text": [
      "Epoch: [1][2800/5618]\tTime  0.336 ( 0.337)\tData  0.000 ( 0.001)\tLoss 3.9208e+00 (3.8629e+00)\tAcc@1   0.00 (  2.11)\tAcc@5  12.50 ( 12.13)\n"
     ]
    },
    {
     "name": "stdout",
     "output_type": "stream",
     "text": [
      "Epoch: [1][3000/5618]\tTime  0.336 ( 0.337)\tData  0.000 ( 0.001)\tLoss 3.8038e+00 (3.8628e+00)\tAcc@1   3.12 (  2.11)\tAcc@5   9.38 ( 12.10)\n"
     ]
    },
    {
     "name": "stdout",
     "output_type": "stream",
     "text": [
      "Epoch: [1][3200/5618]\tTime  0.336 ( 0.337)\tData  0.000 ( 0.001)\tLoss 3.7974e+00 (3.8627e+00)\tAcc@1   3.12 (  2.11)\tAcc@5  18.75 ( 12.08)\n"
     ]
    },
    {
     "name": "stdout",
     "output_type": "stream",
     "text": [
      "Epoch: [1][3400/5618]\tTime  0.336 ( 0.337)\tData  0.000 ( 0.001)\tLoss 3.9103e+00 (3.8629e+00)\tAcc@1   0.00 (  2.11)\tAcc@5  12.50 ( 12.08)\n"
     ]
    },
    {
     "name": "stdout",
     "output_type": "stream",
     "text": [
      "Epoch: [1][3600/5618]\tTime  0.336 ( 0.337)\tData  0.000 ( 0.001)\tLoss 3.9439e+00 (3.8625e+00)\tAcc@1   3.12 (  2.10)\tAcc@5   9.38 ( 12.10)\n"
     ]
    },
    {
     "name": "stdout",
     "output_type": "stream",
     "text": [
      "Epoch: [1][3800/5618]\tTime  0.336 ( 0.337)\tData  0.000 ( 0.001)\tLoss 3.8240e+00 (3.8622e+00)\tAcc@1   3.12 (  2.10)\tAcc@5  15.62 ( 12.11)\n"
     ]
    },
    {
     "name": "stdout",
     "output_type": "stream",
     "text": [
      "Epoch: [1][4000/5618]\tTime  0.336 ( 0.337)\tData  0.000 ( 0.001)\tLoss 3.8075e+00 (3.8620e+00)\tAcc@1   0.00 (  2.11)\tAcc@5  18.75 ( 12.09)\n"
     ]
    },
    {
     "name": "stdout",
     "output_type": "stream",
     "text": [
      "Epoch: [1][4200/5618]\tTime  0.336 ( 0.337)\tData  0.000 ( 0.001)\tLoss 3.7871e+00 (3.8623e+00)\tAcc@1   0.00 (  2.11)\tAcc@5  15.62 ( 12.04)\n"
     ]
    },
    {
     "name": "stdout",
     "output_type": "stream",
     "text": [
      "Epoch: [1][4400/5618]\tTime  0.336 ( 0.337)\tData  0.000 ( 0.001)\tLoss 3.8536e+00 (3.8622e+00)\tAcc@1   0.00 (  2.12)\tAcc@5   6.25 ( 12.03)\n"
     ]
    },
    {
     "name": "stdout",
     "output_type": "stream",
     "text": [
      "Epoch: [1][4600/5618]\tTime  0.336 ( 0.337)\tData  0.000 ( 0.001)\tLoss 3.8742e+00 (3.8620e+00)\tAcc@1   6.25 (  2.13)\tAcc@5   9.38 ( 12.05)\n"
     ]
    },
    {
     "name": "stdout",
     "output_type": "stream",
     "text": [
      "Epoch: [1][4800/5618]\tTime  0.336 ( 0.337)\tData  0.000 ( 0.001)\tLoss 3.8356e+00 (3.8621e+00)\tAcc@1   6.25 (  2.14)\tAcc@5  21.88 ( 12.08)\n"
     ]
    },
    {
     "name": "stdout",
     "output_type": "stream",
     "text": [
      "Epoch: [1][5000/5618]\tTime  0.336 ( 0.337)\tData  0.000 ( 0.001)\tLoss 3.9154e+00 (3.8619e+00)\tAcc@1   3.12 (  2.14)\tAcc@5   6.25 ( 12.12)\n"
     ]
    },
    {
     "name": "stdout",
     "output_type": "stream",
     "text": [
      "Epoch: [1][5200/5618]\tTime  0.336 ( 0.337)\tData  0.000 ( 0.001)\tLoss 3.8909e+00 (3.8618e+00)\tAcc@1   3.12 (  2.14)\tAcc@5  12.50 ( 12.10)\n"
     ]
    },
    {
     "name": "stdout",
     "output_type": "stream",
     "text": [
      "Epoch: [1][5400/5618]\tTime  0.336 ( 0.337)\tData  0.000 ( 0.000)\tLoss 3.8234e+00 (3.8618e+00)\tAcc@1   0.00 (  2.16)\tAcc@5   9.38 ( 12.13)\n"
     ]
    },
    {
     "name": "stdout",
     "output_type": "stream",
     "text": [
      "Epoch: [1][5600/5618]\tTime  0.336 ( 0.337)\tData  0.000 ( 0.000)\tLoss 3.9068e+00 (3.8617e+00)\tAcc@1   0.00 (  2.16)\tAcc@5   6.25 ( 12.13)\n"
     ]
    },
    {
     "name": "stdout",
     "output_type": "stream",
     "text": [
      "Validation: [   0/1605]\tTime  1.339 ( 1.339)\tLoss 3.8655e+00 (3.8655e+00)\tAcc@1   0.00 (  0.00)\tAcc@5  18.75 ( 18.75)\n"
     ]
    },
    {
     "name": "stdout",
     "output_type": "stream",
     "text": [
      "Validation: [ 200/1605]\tTime  0.194 ( 0.200)\tLoss 3.8831e+00 (3.8642e+00)\tAcc@1   0.00 (  1.96)\tAcc@5   3.12 ( 11.52)\n"
     ]
    },
    {
     "name": "stdout",
     "output_type": "stream",
     "text": [
      "Validation: [ 400/1605]\tTime  0.194 ( 0.197)\tLoss 3.8285e+00 (3.8615e+00)\tAcc@1   6.25 (  1.99)\tAcc@5  15.62 ( 11.40)\n"
     ]
    },
    {
     "name": "stdout",
     "output_type": "stream",
     "text": [
      "Validation: [ 600/1605]\tTime  0.194 ( 0.196)\tLoss 3.9258e+00 (3.8620e+00)\tAcc@1   0.00 (  2.06)\tAcc@5   6.25 ( 11.48)\n"
     ]
    },
    {
     "name": "stdout",
     "output_type": "stream",
     "text": [
      "Validation: [ 800/1605]\tTime  0.194 ( 0.196)\tLoss 3.7775e+00 (3.8619e+00)\tAcc@1   0.00 (  2.06)\tAcc@5  18.75 ( 11.50)\n"
     ]
    },
    {
     "name": "stdout",
     "output_type": "stream",
     "text": [
      "Validation: [1000/1605]\tTime  0.194 ( 0.195)\tLoss 3.8502e+00 (3.8616e+00)\tAcc@1   0.00 (  2.12)\tAcc@5  12.50 ( 11.56)\n"
     ]
    },
    {
     "name": "stdout",
     "output_type": "stream",
     "text": [
      "Validation: [1200/1605]\tTime  0.194 ( 0.195)\tLoss 3.8271e+00 (3.8616e+00)\tAcc@1   3.12 (  2.11)\tAcc@5  15.62 ( 11.59)\n"
     ]
    },
    {
     "name": "stdout",
     "output_type": "stream",
     "text": [
      "Validation: [1400/1605]\tTime  0.194 ( 0.195)\tLoss 3.8249e+00 (3.8621e+00)\tAcc@1   3.12 (  2.13)\tAcc@5   6.25 ( 11.59)\n"
     ]
    },
    {
     "name": "stdout",
     "output_type": "stream",
     "text": [
      "Validation: [1600/1605]\tTime  0.194 ( 0.195)\tLoss 3.7173e+00 (3.8620e+00)\tAcc@1   3.12 (  2.12)\tAcc@5  18.75 ( 11.56)\n"
     ]
    },
    {
     "name": "stdout",
     "output_type": "stream",
     "text": [
      " * Acc@1 2.125 Acc@5 11.576\n",
      "Validation Loss: 0.0015 Acc: 0.0000\n"
     ]
    },
    {
     "name": "stdout",
     "output_type": "stream",
     "text": [
      "Epoch 2/19\n",
      "--------------------\n"
     ]
    },
    {
     "name": "stdout",
     "output_type": "stream",
     "text": [
      "Epoch: [2][   0/5618]\tTime  1.550 ( 1.550)\tData  1.205 ( 1.205)\tLoss 3.7895e+00 (3.7895e+00)\tAcc@1   3.12 (  3.12)\tAcc@5  28.12 ( 28.12)\n"
     ]
    },
    {
     "name": "stdout",
     "output_type": "stream",
     "text": [
      "Epoch: [2][ 200/5618]\tTime  0.336 ( 0.347)\tData  0.000 ( 0.006)\tLoss 3.8087e+00 (3.8572e+00)\tAcc@1   3.12 (  2.05)\tAcc@5  18.75 ( 12.38)\n"
     ]
    },
    {
     "name": "stdout",
     "output_type": "stream",
     "text": [
      "Epoch: [2][ 400/5618]\tTime  0.336 ( 0.341)\tData  0.000 ( 0.003)\tLoss 3.8693e+00 (3.8569e+00)\tAcc@1   0.00 (  2.27)\tAcc@5   9.38 ( 12.66)\n"
     ]
    },
    {
     "name": "stdout",
     "output_type": "stream",
     "text": [
      "Epoch: [2][ 600/5618]\tTime  0.336 ( 0.339)\tData  0.000 ( 0.002)\tLoss 3.7979e+00 (3.8598e+00)\tAcc@1   0.00 (  2.29)\tAcc@5  21.88 ( 12.53)\n"
     ]
    },
    {
     "name": "stdout",
     "output_type": "stream",
     "text": [
      "Epoch: [2][ 800/5618]\tTime  0.336 ( 0.339)\tData  0.000 ( 0.002)\tLoss 3.8460e+00 (3.8600e+00)\tAcc@1   9.38 (  2.28)\tAcc@5  25.00 ( 12.31)\n"
     ]
    },
    {
     "name": "stdout",
     "output_type": "stream",
     "text": [
      "Epoch: [2][1000/5618]\tTime  0.336 ( 0.338)\tData  0.000 ( 0.001)\tLoss 3.9148e+00 (3.8600e+00)\tAcc@1   3.12 (  2.25)\tAcc@5   9.38 ( 12.30)\n"
     ]
    },
    {
     "name": "stdout",
     "output_type": "stream",
     "text": [
      "Epoch: [2][1200/5618]\tTime  0.336 ( 0.338)\tData  0.000 ( 0.001)\tLoss 3.7509e+00 (3.8610e+00)\tAcc@1   3.12 (  2.20)\tAcc@5  18.75 ( 12.22)\n"
     ]
    },
    {
     "name": "stdout",
     "output_type": "stream",
     "text": [
      "Epoch: [2][1400/5618]\tTime  0.336 ( 0.337)\tData  0.000 ( 0.001)\tLoss 3.8733e+00 (3.8617e+00)\tAcc@1   0.00 (  2.17)\tAcc@5  12.50 ( 12.21)\n"
     ]
    },
    {
     "name": "stdout",
     "output_type": "stream",
     "text": [
      "Epoch: [2][1600/5618]\tTime  0.336 ( 0.337)\tData  0.000 ( 0.001)\tLoss 3.9775e+00 (3.8614e+00)\tAcc@1   3.12 (  2.19)\tAcc@5   3.12 ( 12.24)\n"
     ]
    },
    {
     "name": "stdout",
     "output_type": "stream",
     "text": [
      "Epoch: [2][1800/5618]\tTime  0.336 ( 0.337)\tData  0.000 ( 0.001)\tLoss 3.8898e+00 (3.8607e+00)\tAcc@1   0.00 (  2.20)\tAcc@5   3.12 ( 12.25)\n"
     ]
    },
    {
     "name": "stdout",
     "output_type": "stream",
     "text": [
      "Epoch: [2][2000/5618]\tTime  0.336 ( 0.337)\tData  0.000 ( 0.001)\tLoss 3.9183e+00 (3.8610e+00)\tAcc@1   3.12 (  2.20)\tAcc@5   9.38 ( 12.19)\n"
     ]
    },
    {
     "name": "stdout",
     "output_type": "stream",
     "text": [
      "Epoch: [2][2200/5618]\tTime  0.336 ( 0.337)\tData  0.000 ( 0.001)\tLoss 3.8714e+00 (3.8610e+00)\tAcc@1   9.38 (  2.19)\tAcc@5  21.88 ( 12.28)\n"
     ]
    },
    {
     "name": "stdout",
     "output_type": "stream",
     "text": [
      "Epoch: [2][2400/5618]\tTime  0.336 ( 0.337)\tData  0.000 ( 0.001)\tLoss 3.9087e+00 (3.8612e+00)\tAcc@1   6.25 (  2.19)\tAcc@5   6.25 ( 12.27)\n"
     ]
    },
    {
     "name": "stdout",
     "output_type": "stream",
     "text": [
      "Epoch: [2][2600/5618]\tTime  0.336 ( 0.337)\tData  0.000 ( 0.001)\tLoss 3.8474e+00 (3.8608e+00)\tAcc@1   0.00 (  2.19)\tAcc@5  15.62 ( 12.23)\n"
     ]
    },
    {
     "name": "stdout",
     "output_type": "stream",
     "text": [
      "Epoch: [2][2800/5618]\tTime  0.336 ( 0.337)\tData  0.000 ( 0.001)\tLoss 3.8385e+00 (3.8610e+00)\tAcc@1   0.00 (  2.19)\tAcc@5  12.50 ( 12.21)\n"
     ]
    },
    {
     "name": "stdout",
     "output_type": "stream",
     "text": [
      "Epoch: [2][3000/5618]\tTime  0.336 ( 0.337)\tData  0.000 ( 0.001)\tLoss 3.8595e+00 (3.8611e+00)\tAcc@1   0.00 (  2.19)\tAcc@5  12.50 ( 12.19)\n"
     ]
    },
    {
     "name": "stdout",
     "output_type": "stream",
     "text": [
      "Epoch: [2][3200/5618]\tTime  0.336 ( 0.337)\tData  0.000 ( 0.001)\tLoss 3.8647e+00 (3.8611e+00)\tAcc@1   0.00 (  2.20)\tAcc@5   6.25 ( 12.16)\n"
     ]
    },
    {
     "name": "stdout",
     "output_type": "stream",
     "text": [
      "Epoch: [2][3400/5618]\tTime  0.336 ( 0.337)\tData  0.000 ( 0.001)\tLoss 3.9371e+00 (3.8612e+00)\tAcc@1   9.38 (  2.21)\tAcc@5  15.62 ( 12.16)\n"
     ]
    },
    {
     "name": "stdout",
     "output_type": "stream",
     "text": [
      "Epoch: [2][3600/5618]\tTime  0.336 ( 0.337)\tData  0.000 ( 0.001)\tLoss 3.8188e+00 (3.8609e+00)\tAcc@1   9.38 (  2.21)\tAcc@5  18.75 ( 12.17)\n"
     ]
    },
    {
     "name": "stdout",
     "output_type": "stream",
     "text": [
      "Epoch: [2][3800/5618]\tTime  0.336 ( 0.337)\tData  0.000 ( 0.001)\tLoss 3.8229e+00 (3.8610e+00)\tAcc@1   3.12 (  2.20)\tAcc@5  12.50 ( 12.15)\n"
     ]
    },
    {
     "name": "stdout",
     "output_type": "stream",
     "text": [
      "Epoch: [2][4000/5618]\tTime  0.336 ( 0.337)\tData  0.000 ( 0.001)\tLoss 3.9292e+00 (3.8610e+00)\tAcc@1   0.00 (  2.19)\tAcc@5   6.25 ( 12.16)\n"
     ]
    },
    {
     "name": "stdout",
     "output_type": "stream",
     "text": [
      "Epoch: [2][4200/5618]\tTime  0.336 ( 0.337)\tData  0.000 ( 0.001)\tLoss 3.9034e+00 (3.8610e+00)\tAcc@1   0.00 (  2.17)\tAcc@5  12.50 ( 12.18)\n"
     ]
    },
    {
     "name": "stdout",
     "output_type": "stream",
     "text": [
      "Epoch: [2][4400/5618]\tTime  0.336 ( 0.337)\tData  0.000 ( 0.001)\tLoss 3.8675e+00 (3.8613e+00)\tAcc@1   3.12 (  2.17)\tAcc@5   6.25 ( 12.17)\n"
     ]
    },
    {
     "name": "stdout",
     "output_type": "stream",
     "text": [
      "Epoch: [2][4600/5618]\tTime  0.336 ( 0.337)\tData  0.000 ( 0.001)\tLoss 3.9261e+00 (3.8612e+00)\tAcc@1   0.00 (  2.18)\tAcc@5   9.38 ( 12.17)\n"
     ]
    },
    {
     "name": "stdout",
     "output_type": "stream",
     "text": [
      "Epoch: [2][4800/5618]\tTime  0.336 ( 0.337)\tData  0.000 ( 0.001)\tLoss 3.8845e+00 (3.8614e+00)\tAcc@1   0.00 (  2.18)\tAcc@5   9.38 ( 12.18)\n"
     ]
    },
    {
     "name": "stdout",
     "output_type": "stream",
     "text": [
      "Epoch: [2][5000/5618]\tTime  0.336 ( 0.337)\tData  0.000 ( 0.000)\tLoss 3.8235e+00 (3.8613e+00)\tAcc@1   6.25 (  2.20)\tAcc@5  12.50 ( 12.21)\n"
     ]
    },
    {
     "name": "stdout",
     "output_type": "stream",
     "text": [
      "Epoch: [2][5200/5618]\tTime  0.336 ( 0.337)\tData  0.000 ( 0.000)\tLoss 3.8447e+00 (3.8614e+00)\tAcc@1   3.12 (  2.19)\tAcc@5  12.50 ( 12.21)\n"
     ]
    },
    {
     "name": "stdout",
     "output_type": "stream",
     "text": [
      "Epoch: [2][5400/5618]\tTime  0.336 ( 0.337)\tData  0.000 ( 0.000)\tLoss 3.8184e+00 (3.8615e+00)\tAcc@1   9.38 (  2.19)\tAcc@5  21.88 ( 12.19)\n"
     ]
    },
    {
     "name": "stdout",
     "output_type": "stream",
     "text": [
      "Epoch: [2][5600/5618]\tTime  0.336 ( 0.337)\tData  0.000 ( 0.000)\tLoss 3.9028e+00 (3.8613e+00)\tAcc@1   3.12 (  2.20)\tAcc@5   9.38 ( 12.21)\n"
     ]
    },
    {
     "name": "stdout",
     "output_type": "stream",
     "text": [
      "Validation: [   0/1605]\tTime  1.445 ( 1.445)\tLoss 3.9630e+00 (3.9630e+00)\tAcc@1   0.00 (  0.00)\tAcc@5   3.12 (  3.12)\n"
     ]
    },
    {
     "name": "stdout",
     "output_type": "stream",
     "text": [
      "Validation: [ 200/1605]\tTime  0.194 ( 0.200)\tLoss 3.8579e+00 (3.8607e+00)\tAcc@1   0.00 (  2.16)\tAcc@5   9.38 ( 12.45)\n"
     ]
    },
    {
     "name": "stdout",
     "output_type": "stream",
     "text": [
      "Validation: [ 400/1605]\tTime  0.194 ( 0.197)\tLoss 3.9000e+00 (3.8587e+00)\tAcc@1   3.12 (  2.10)\tAcc@5   9.38 ( 11.92)\n"
     ]
    },
    {
     "name": "stdout",
     "output_type": "stream",
     "text": [
      "Validation: [ 600/1605]\tTime  0.194 ( 0.196)\tLoss 3.8529e+00 (3.8596e+00)\tAcc@1   0.00 (  2.15)\tAcc@5   9.38 ( 11.85)\n"
     ]
    },
    {
     "name": "stdout",
     "output_type": "stream",
     "text": [
      "Validation: [ 800/1605]\tTime  0.194 ( 0.196)\tLoss 3.8152e+00 (3.8593e+00)\tAcc@1   3.12 (  2.11)\tAcc@5   9.38 ( 11.70)\n"
     ]
    },
    {
     "name": "stdout",
     "output_type": "stream",
     "text": [
      "Validation: [1000/1605]\tTime  0.194 ( 0.195)\tLoss 3.8681e+00 (3.8604e+00)\tAcc@1   3.12 (  2.06)\tAcc@5   6.25 ( 11.47)\n"
     ]
    },
    {
     "name": "stdout",
     "output_type": "stream",
     "text": [
      "Validation: [1200/1605]\tTime  0.194 ( 0.195)\tLoss 3.8709e+00 (3.8609e+00)\tAcc@1   3.12 (  2.08)\tAcc@5   6.25 ( 11.39)\n"
     ]
    },
    {
     "name": "stdout",
     "output_type": "stream",
     "text": [
      "Validation: [1400/1605]\tTime  0.194 ( 0.195)\tLoss 3.9177e+00 (3.8617e+00)\tAcc@1   3.12 (  2.08)\tAcc@5   6.25 ( 11.47)\n"
     ]
    },
    {
     "name": "stdout",
     "output_type": "stream",
     "text": [
      "Validation: [1600/1605]\tTime  0.194 ( 0.195)\tLoss 3.8910e+00 (3.8621e+00)\tAcc@1   0.00 (  2.07)\tAcc@5  18.75 ( 11.45)\n"
     ]
    },
    {
     "name": "stdout",
     "output_type": "stream",
     "text": [
      " * Acc@1 2.060 Acc@5 11.442\n",
      "Validation Loss: 0.0015 Acc: 0.0000\n"
     ]
    },
    {
     "name": "stdout",
     "output_type": "stream",
     "text": [
      "Epoch 3/19\n",
      "--------------------\n"
     ]
    },
    {
     "name": "stdout",
     "output_type": "stream",
     "text": [
      "Epoch: [3][   0/5618]\tTime  1.600 ( 1.600)\tData  1.257 ( 1.257)\tLoss 3.8715e+00 (3.8715e+00)\tAcc@1   0.00 (  0.00)\tAcc@5   0.00 (  0.00)\n"
     ]
    },
    {
     "name": "stdout",
     "output_type": "stream",
     "text": [
      "Epoch: [3][ 200/5618]\tTime  0.336 ( 0.342)\tData  0.000 ( 0.007)\tLoss 3.9019e+00 (3.8574e+00)\tAcc@1   3.12 (  2.85)\tAcc@5  12.50 ( 12.98)\n"
     ]
    },
    {
     "name": "stdout",
     "output_type": "stream",
     "text": [
      "Epoch: [3][ 400/5618]\tTime  0.336 ( 0.339)\tData  0.000 ( 0.003)\tLoss 3.9075e+00 (3.8601e+00)\tAcc@1   3.12 (  2.53)\tAcc@5   9.38 ( 12.65)\n"
     ]
    },
    {
     "name": "stdout",
     "output_type": "stream",
     "text": [
      "Epoch: [3][ 600/5618]\tTime  0.336 ( 0.338)\tData  0.000 ( 0.002)\tLoss 3.8906e+00 (3.8607e+00)\tAcc@1   0.00 (  2.48)\tAcc@5  18.75 ( 12.39)\n"
     ]
    },
    {
     "name": "stdout",
     "output_type": "stream",
     "text": [
      "Epoch: [3][ 800/5618]\tTime  0.336 ( 0.337)\tData  0.000 ( 0.002)\tLoss 3.9791e+00 (3.8614e+00)\tAcc@1   0.00 (  2.42)\tAcc@5  12.50 ( 12.46)\n"
     ]
    },
    {
     "name": "stdout",
     "output_type": "stream",
     "text": [
      "Epoch: [3][1000/5618]\tTime  0.336 ( 0.338)\tData  0.000 ( 0.002)\tLoss 3.8586e+00 (3.8621e+00)\tAcc@1   0.00 (  2.31)\tAcc@5   9.38 ( 12.35)\n"
     ]
    },
    {
     "name": "stdout",
     "output_type": "stream",
     "text": [
      "Epoch: [3][1200/5618]\tTime  0.336 ( 0.338)\tData  0.000 ( 0.001)\tLoss 3.8362e+00 (3.8616e+00)\tAcc@1   6.25 (  2.30)\tAcc@5   9.38 ( 12.29)\n"
     ]
    },
    {
     "name": "stdout",
     "output_type": "stream",
     "text": [
      "Epoch: [3][1400/5618]\tTime  0.336 ( 0.337)\tData  0.000 ( 0.001)\tLoss 3.7879e+00 (3.8613e+00)\tAcc@1   6.25 (  2.27)\tAcc@5  18.75 ( 12.27)\n"
     ]
    },
    {
     "name": "stdout",
     "output_type": "stream",
     "text": [
      "Epoch: [3][1600/5618]\tTime  0.336 ( 0.337)\tData  0.000 ( 0.001)\tLoss 3.7781e+00 (3.8612e+00)\tAcc@1   9.38 (  2.28)\tAcc@5  21.88 ( 12.27)\n"
     ]
    },
    {
     "name": "stdout",
     "output_type": "stream",
     "text": [
      "Epoch: [3][1800/5618]\tTime  0.336 ( 0.338)\tData  0.000 ( 0.001)\tLoss 3.8383e+00 (3.8606e+00)\tAcc@1   0.00 (  2.30)\tAcc@5   6.25 ( 12.37)\n"
     ]
    },
    {
     "name": "stdout",
     "output_type": "stream",
     "text": [
      "Epoch: [3][2000/5618]\tTime  0.336 ( 0.337)\tData  0.000 ( 0.001)\tLoss 3.8380e+00 (3.8600e+00)\tAcc@1   0.00 (  2.34)\tAcc@5  12.50 ( 12.40)\n"
     ]
    },
    {
     "name": "stdout",
     "output_type": "stream",
     "text": [
      "Epoch: [3][2200/5618]\tTime  0.336 ( 0.337)\tData  0.000 ( 0.001)\tLoss 3.8792e+00 (3.8609e+00)\tAcc@1   3.12 (  2.31)\tAcc@5  12.50 ( 12.29)\n"
     ]
    },
    {
     "name": "stdout",
     "output_type": "stream",
     "text": [
      "Epoch: [3][2400/5618]\tTime  0.336 ( 0.337)\tData  0.000 ( 0.001)\tLoss 3.8160e+00 (3.8610e+00)\tAcc@1   3.12 (  2.28)\tAcc@5  12.50 ( 12.26)\n"
     ]
    },
    {
     "name": "stdout",
     "output_type": "stream",
     "text": [
      "Epoch: [3][2600/5618]\tTime  0.336 ( 0.337)\tData  0.000 ( 0.001)\tLoss 3.9188e+00 (3.8609e+00)\tAcc@1   3.12 (  2.27)\tAcc@5  12.50 ( 12.24)\n"
     ]
    },
    {
     "name": "stdout",
     "output_type": "stream",
     "text": [
      "Epoch: [3][2800/5618]\tTime  0.336 ( 0.338)\tData  0.000 ( 0.001)\tLoss 3.8253e+00 (3.8609e+00)\tAcc@1  12.50 (  2.26)\tAcc@5  25.00 ( 12.25)\n"
     ]
    },
    {
     "name": "stdout",
     "output_type": "stream",
     "text": [
      "Epoch: [3][3000/5618]\tTime  0.336 ( 0.337)\tData  0.000 ( 0.001)\tLoss 3.6984e+00 (3.8606e+00)\tAcc@1   6.25 (  2.24)\tAcc@5  21.88 ( 12.27)\n"
     ]
    },
    {
     "name": "stdout",
     "output_type": "stream",
     "text": [
      "Epoch: [3][3200/5618]\tTime  0.336 ( 0.337)\tData  0.000 ( 0.001)\tLoss 3.9472e+00 (3.8605e+00)\tAcc@1   3.12 (  2.25)\tAcc@5   9.38 ( 12.25)\n"
     ]
    },
    {
     "name": "stdout",
     "output_type": "stream",
     "text": [
      "Epoch: [3][3400/5618]\tTime  0.336 ( 0.337)\tData  0.000 ( 0.001)\tLoss 3.8660e+00 (3.8607e+00)\tAcc@1   0.00 (  2.23)\tAcc@5  15.62 ( 12.22)\n"
     ]
    },
    {
     "name": "stdout",
     "output_type": "stream",
     "text": [
      "Epoch: [3][3600/5618]\tTime  0.336 ( 0.337)\tData  0.000 ( 0.001)\tLoss 3.9048e+00 (3.8607e+00)\tAcc@1   0.00 (  2.25)\tAcc@5   0.00 ( 12.25)\n"
     ]
    },
    {
     "name": "stdout",
     "output_type": "stream",
     "text": [
      "Epoch: [3][3800/5618]\tTime  0.336 ( 0.337)\tData  0.000 ( 0.001)\tLoss 3.8875e+00 (3.8603e+00)\tAcc@1   0.00 (  2.25)\tAcc@5   9.38 ( 12.26)\n"
     ]
    },
    {
     "name": "stdout",
     "output_type": "stream",
     "text": [
      "Epoch: [3][4000/5618]\tTime  0.336 ( 0.337)\tData  0.000 ( 0.001)\tLoss 3.8996e+00 (3.8604e+00)\tAcc@1   3.12 (  2.24)\tAcc@5  12.50 ( 12.26)\n"
     ]
    },
    {
     "name": "stdout",
     "output_type": "stream",
     "text": [
      "Epoch: [3][4200/5618]\tTime  0.336 ( 0.337)\tData  0.000 ( 0.001)\tLoss 3.8955e+00 (3.8604e+00)\tAcc@1   0.00 (  2.23)\tAcc@5  18.75 ( 12.25)\n"
     ]
    },
    {
     "name": "stdout",
     "output_type": "stream",
     "text": [
      "Epoch: [3][4400/5618]\tTime  0.336 ( 0.337)\tData  0.000 ( 0.001)\tLoss 3.7915e+00 (3.8603e+00)\tAcc@1   3.12 (  2.24)\tAcc@5  21.88 ( 12.24)\n"
     ]
    },
    {
     "name": "stdout",
     "output_type": "stream",
     "text": [
      "Epoch: [3][4600/5618]\tTime  0.336 ( 0.337)\tData  0.000 ( 0.001)\tLoss 3.8937e+00 (3.8604e+00)\tAcc@1   0.00 (  2.24)\tAcc@5   6.25 ( 12.20)\n"
     ]
    },
    {
     "name": "stdout",
     "output_type": "stream",
     "text": [
      "Epoch: [3][4800/5618]\tTime  0.336 ( 0.337)\tData  0.000 ( 0.001)\tLoss 3.8843e+00 (3.8607e+00)\tAcc@1   0.00 (  2.24)\tAcc@5  18.75 ( 12.21)\n"
     ]
    },
    {
     "name": "stdout",
     "output_type": "stream",
     "text": [
      "Epoch: [3][5000/5618]\tTime  0.337 ( 0.337)\tData  0.000 ( 0.001)\tLoss 3.9010e+00 (3.8606e+00)\tAcc@1   0.00 (  2.23)\tAcc@5   9.38 ( 12.20)\n"
     ]
    },
    {
     "name": "stdout",
     "output_type": "stream",
     "text": [
      "Epoch: [3][5200/5618]\tTime  0.336 ( 0.337)\tData  0.000 ( 0.000)\tLoss 3.9232e+00 (3.8607e+00)\tAcc@1   0.00 (  2.23)\tAcc@5   6.25 ( 12.20)\n"
     ]
    },
    {
     "name": "stdout",
     "output_type": "stream",
     "text": [
      "Epoch: [3][5400/5618]\tTime  0.336 ( 0.337)\tData  0.000 ( 0.000)\tLoss 3.8146e+00 (3.8606e+00)\tAcc@1   0.00 (  2.22)\tAcc@5  12.50 ( 12.21)\n"
     ]
    },
    {
     "name": "stdout",
     "output_type": "stream",
     "text": [
      "Epoch: [3][5600/5618]\tTime  0.336 ( 0.337)\tData  0.000 ( 0.000)\tLoss 3.8758e+00 (3.8607e+00)\tAcc@1   0.00 (  2.23)\tAcc@5   3.12 ( 12.20)\n"
     ]
    },
    {
     "name": "stdout",
     "output_type": "stream",
     "text": [
      "Validation: [   0/1605]\tTime  1.581 ( 1.581)\tLoss 3.8244e+00 (3.8244e+00)\tAcc@1   3.12 (  3.12)\tAcc@5  15.62 ( 15.62)\n"
     ]
    },
    {
     "name": "stdout",
     "output_type": "stream",
     "text": [
      "Validation: [ 200/1605]\tTime  0.193 ( 0.201)\tLoss 3.8118e+00 (3.8671e+00)\tAcc@1   3.12 (  1.90)\tAcc@5   9.38 ( 11.32)\n"
     ]
    },
    {
     "name": "stdout",
     "output_type": "stream",
     "text": [
      "Validation: [ 400/1605]\tTime  0.194 ( 0.197)\tLoss 3.8949e+00 (3.8628e+00)\tAcc@1   6.25 (  2.15)\tAcc@5  12.50 ( 11.74)\n"
     ]
    },
    {
     "name": "stdout",
     "output_type": "stream",
     "text": [
      "Validation: [ 600/1605]\tTime  0.194 ( 0.196)\tLoss 3.8997e+00 (3.8644e+00)\tAcc@1   0.00 (  2.11)\tAcc@5   9.38 ( 11.45)\n"
     ]
    },
    {
     "name": "stdout",
     "output_type": "stream",
     "text": [
      "Validation: [ 800/1605]\tTime  0.194 ( 0.196)\tLoss 3.9282e+00 (3.8635e+00)\tAcc@1   6.25 (  2.10)\tAcc@5  15.62 ( 11.36)\n"
     ]
    },
    {
     "name": "stdout",
     "output_type": "stream",
     "text": [
      "Validation: [1000/1605]\tTime  0.194 ( 0.195)\tLoss 3.8422e+00 (3.8625e+00)\tAcc@1   3.12 (  2.10)\tAcc@5  18.75 ( 11.49)\n"
     ]
    },
    {
     "name": "stdout",
     "output_type": "stream",
     "text": [
      "Validation: [1200/1605]\tTime  0.194 ( 0.195)\tLoss 3.8089e+00 (3.8625e+00)\tAcc@1   0.00 (  2.11)\tAcc@5  15.62 ( 11.50)\n"
     ]
    },
    {
     "name": "stdout",
     "output_type": "stream",
     "text": [
      "Validation: [1400/1605]\tTime  0.194 ( 0.195)\tLoss 4.0263e+00 (3.8625e+00)\tAcc@1   0.00 (  2.10)\tAcc@5  12.50 ( 11.39)\n"
     ]
    },
    {
     "name": "stdout",
     "output_type": "stream",
     "text": [
      "Validation: [1600/1605]\tTime  0.194 ( 0.195)\tLoss 3.8574e+00 (3.8622e+00)\tAcc@1   3.12 (  2.09)\tAcc@5  18.75 ( 11.34)\n"
     ]
    },
    {
     "name": "stdout",
     "output_type": "stream",
     "text": [
      " * Acc@1 2.094 Acc@5 11.342\n",
      "Validation Loss: 0.0015 Acc: 0.0000\n"
     ]
    },
    {
     "name": "stdout",
     "output_type": "stream",
     "text": [
      "Epoch 4/19\n",
      "--------------------\n"
     ]
    },
    {
     "name": "stdout",
     "output_type": "stream",
     "text": [
      "Epoch: [4][   0/5618]\tTime  1.771 ( 1.771)\tData  1.428 ( 1.428)\tLoss 3.7830e+00 (3.7830e+00)\tAcc@1   3.12 (  3.12)\tAcc@5  12.50 ( 12.50)\n"
     ]
    },
    {
     "name": "stdout",
     "output_type": "stream",
     "text": [
      "Epoch: [4][ 200/5618]\tTime  0.336 ( 0.348)\tData  0.000 ( 0.007)\tLoss 3.9001e+00 (3.8647e+00)\tAcc@1   3.12 (  2.38)\tAcc@5   6.25 ( 11.71)\n"
     ]
    },
    {
     "name": "stdout",
     "output_type": "stream",
     "text": [
      "Epoch: [4][ 400/5618]\tTime  0.336 ( 0.342)\tData  0.000 ( 0.004)\tLoss 3.8409e+00 (3.8617e+00)\tAcc@1   3.12 (  2.33)\tAcc@5  15.62 ( 12.01)\n"
     ]
    },
    {
     "name": "stdout",
     "output_type": "stream",
     "text": [
      "Epoch: [4][ 600/5618]\tTime  0.336 ( 0.341)\tData  0.000 ( 0.003)\tLoss 3.8759e+00 (3.8624e+00)\tAcc@1   0.00 (  2.22)\tAcc@5  18.75 ( 12.07)\n"
     ]
    },
    {
     "name": "stdout",
     "output_type": "stream",
     "text": [
      "Epoch: [4][ 800/5618]\tTime  0.336 ( 0.340)\tData  0.000 ( 0.002)\tLoss 3.9092e+00 (3.8622e+00)\tAcc@1   0.00 (  2.14)\tAcc@5  12.50 ( 12.14)\n"
     ]
    },
    {
     "name": "stdout",
     "output_type": "stream",
     "text": [
      "Epoch: [4][1000/5618]\tTime  0.336 ( 0.339)\tData  0.000 ( 0.002)\tLoss 3.7606e+00 (3.8612e+00)\tAcc@1   3.12 (  2.12)\tAcc@5  15.62 ( 12.11)\n"
     ]
    },
    {
     "name": "stdout",
     "output_type": "stream",
     "text": [
      "Epoch: [4][1200/5618]\tTime  0.336 ( 0.339)\tData  0.000 ( 0.001)\tLoss 3.8709e+00 (3.8603e+00)\tAcc@1   0.00 (  2.09)\tAcc@5  15.62 ( 12.05)\n"
     ]
    },
    {
     "name": "stdout",
     "output_type": "stream",
     "text": [
      "Epoch: [4][1400/5618]\tTime  0.336 ( 0.338)\tData  0.000 ( 0.001)\tLoss 3.8290e+00 (3.8601e+00)\tAcc@1   3.12 (  2.09)\tAcc@5  15.62 ( 12.03)\n"
     ]
    },
    {
     "name": "stdout",
     "output_type": "stream",
     "text": [
      "Epoch: [4][1600/5618]\tTime  0.336 ( 0.338)\tData  0.000 ( 0.001)\tLoss 3.8380e+00 (3.8602e+00)\tAcc@1   3.12 (  2.11)\tAcc@5   9.38 ( 12.11)\n"
     ]
    },
    {
     "name": "stdout",
     "output_type": "stream",
     "text": [
      "Epoch: [4][1800/5618]\tTime  0.336 ( 0.338)\tData  0.000 ( 0.001)\tLoss 3.8786e+00 (3.8607e+00)\tAcc@1   0.00 (  2.10)\tAcc@5   3.12 ( 12.12)\n"
     ]
    },
    {
     "name": "stdout",
     "output_type": "stream",
     "text": [
      "Epoch: [4][2000/5618]\tTime  0.336 ( 0.337)\tData  0.000 ( 0.001)\tLoss 3.9406e+00 (3.8602e+00)\tAcc@1   3.12 (  2.10)\tAcc@5   9.38 ( 12.14)\n"
     ]
    },
    {
     "name": "stdout",
     "output_type": "stream",
     "text": [
      "Epoch: [4][2200/5618]\tTime  0.336 ( 0.338)\tData  0.000 ( 0.001)\tLoss 3.8636e+00 (3.8602e+00)\tAcc@1   0.00 (  2.12)\tAcc@5  12.50 ( 12.14)\n"
     ]
    },
    {
     "name": "stdout",
     "output_type": "stream",
     "text": [
      "Epoch: [4][2400/5618]\tTime  0.336 ( 0.338)\tData  0.000 ( 0.001)\tLoss 3.8162e+00 (3.8607e+00)\tAcc@1   0.00 (  2.15)\tAcc@5   6.25 ( 12.13)\n"
     ]
    },
    {
     "name": "stdout",
     "output_type": "stream",
     "text": [
      "Epoch: [4][2600/5618]\tTime  0.336 ( 0.337)\tData  0.000 ( 0.001)\tLoss 3.7566e+00 (3.8609e+00)\tAcc@1   3.12 (  2.17)\tAcc@5  21.88 ( 12.20)\n"
     ]
    },
    {
     "name": "stdout",
     "output_type": "stream",
     "text": [
      "Epoch: [4][2800/5618]\tTime  0.336 ( 0.337)\tData  0.000 ( 0.001)\tLoss 3.8709e+00 (3.8612e+00)\tAcc@1   6.25 (  2.18)\tAcc@5   9.38 ( 12.17)\n"
     ]
    },
    {
     "name": "stdout",
     "output_type": "stream",
     "text": [
      "Epoch: [4][3000/5618]\tTime  0.336 ( 0.338)\tData  0.000 ( 0.001)\tLoss 3.8281e+00 (3.8613e+00)\tAcc@1   0.00 (  2.19)\tAcc@5   9.38 ( 12.19)\n"
     ]
    },
    {
     "name": "stdout",
     "output_type": "stream",
     "text": [
      "Epoch: [4][3200/5618]\tTime  0.336 ( 0.337)\tData  0.000 ( 0.001)\tLoss 3.9174e+00 (3.8614e+00)\tAcc@1   0.00 (  2.19)\tAcc@5   9.38 ( 12.19)\n"
     ]
    },
    {
     "name": "stdout",
     "output_type": "stream",
     "text": [
      "Epoch: [4][3400/5618]\tTime  0.336 ( 0.337)\tData  0.000 ( 0.001)\tLoss 3.9239e+00 (3.8617e+00)\tAcc@1   3.12 (  2.19)\tAcc@5  12.50 ( 12.16)\n"
     ]
    },
    {
     "name": "stdout",
     "output_type": "stream",
     "text": [
      "Epoch: [4][3600/5618]\tTime  0.336 ( 0.337)\tData  0.000 ( 0.001)\tLoss 3.8405e+00 (3.8616e+00)\tAcc@1   0.00 (  2.19)\tAcc@5   9.38 ( 12.16)\n"
     ]
    },
    {
     "name": "stdout",
     "output_type": "stream",
     "text": [
      "Epoch: [4][3800/5618]\tTime  0.336 ( 0.337)\tData  0.000 ( 0.001)\tLoss 3.8773e+00 (3.8616e+00)\tAcc@1   0.00 (  2.19)\tAcc@5   6.25 ( 12.12)\n"
     ]
    },
    {
     "name": "stdout",
     "output_type": "stream",
     "text": [
      "Epoch: [4][4000/5618]\tTime  0.336 ( 0.338)\tData  0.000 ( 0.001)\tLoss 3.9055e+00 (3.8616e+00)\tAcc@1   0.00 (  2.19)\tAcc@5  12.50 ( 12.14)\n"
     ]
    },
    {
     "name": "stdout",
     "output_type": "stream",
     "text": [
      "Epoch: [4][4200/5618]\tTime  0.336 ( 0.337)\tData  0.000 ( 0.001)\tLoss 3.9011e+00 (3.8617e+00)\tAcc@1   3.12 (  2.18)\tAcc@5  12.50 ( 12.14)\n"
     ]
    },
    {
     "name": "stdout",
     "output_type": "stream",
     "text": [
      "Epoch: [4][4400/5618]\tTime  0.336 ( 0.337)\tData  0.000 ( 0.001)\tLoss 3.8573e+00 (3.8618e+00)\tAcc@1   3.12 (  2.17)\tAcc@5  21.88 ( 12.13)\n"
     ]
    },
    {
     "name": "stdout",
     "output_type": "stream",
     "text": [
      "Epoch: [4][4600/5618]\tTime  0.336 ( 0.337)\tData  0.000 ( 0.001)\tLoss 3.8522e+00 (3.8615e+00)\tAcc@1   9.38 (  2.17)\tAcc@5  15.62 ( 12.14)\n"
     ]
    },
    {
     "name": "stdout",
     "output_type": "stream",
     "text": [
      "Epoch: [4][4800/5618]\tTime  0.336 ( 0.337)\tData  0.000 ( 0.001)\tLoss 3.7903e+00 (3.8610e+00)\tAcc@1   3.12 (  2.17)\tAcc@5   6.25 ( 12.15)\n"
     ]
    },
    {
     "name": "stdout",
     "output_type": "stream",
     "text": [
      "Epoch: [4][5000/5618]\tTime  0.336 ( 0.337)\tData  0.000 ( 0.001)\tLoss 3.8823e+00 (3.8611e+00)\tAcc@1   0.00 (  2.16)\tAcc@5   6.25 ( 12.15)\n"
     ]
    },
    {
     "name": "stdout",
     "output_type": "stream",
     "text": [
      "Epoch: [4][5200/5618]\tTime  0.336 ( 0.337)\tData  0.000 ( 0.001)\tLoss 3.8455e+00 (3.8610e+00)\tAcc@1   0.00 (  2.16)\tAcc@5   6.25 ( 12.13)\n"
     ]
    },
    {
     "name": "stdout",
     "output_type": "stream",
     "text": [
      "Epoch: [4][5400/5618]\tTime  0.336 ( 0.337)\tData  0.000 ( 0.001)\tLoss 3.9091e+00 (3.8610e+00)\tAcc@1   0.00 (  2.16)\tAcc@5  15.62 ( 12.12)\n"
     ]
    },
    {
     "name": "stdout",
     "output_type": "stream",
     "text": [
      "Epoch: [4][5600/5618]\tTime  0.336 ( 0.337)\tData  0.000 ( 0.001)\tLoss 3.8649e+00 (3.8611e+00)\tAcc@1   0.00 (  2.17)\tAcc@5  12.50 ( 12.11)\n"
     ]
    },
    {
     "name": "stdout",
     "output_type": "stream",
     "text": [
      "Validation: [   0/1605]\tTime  1.719 ( 1.719)\tLoss 3.8822e+00 (3.8822e+00)\tAcc@1   3.12 (  3.12)\tAcc@5  15.62 ( 15.62)\n"
     ]
    },
    {
     "name": "stdout",
     "output_type": "stream",
     "text": [
      "Validation: [ 200/1605]\tTime  0.194 ( 0.201)\tLoss 3.8572e+00 (3.8649e+00)\tAcc@1   6.25 (  2.29)\tAcc@5  12.50 ( 11.78)\n"
     ]
    },
    {
     "name": "stdout",
     "output_type": "stream",
     "text": [
      "Validation: [ 400/1605]\tTime  0.194 ( 0.198)\tLoss 3.8002e+00 (3.8648e+00)\tAcc@1   3.12 (  2.09)\tAcc@5  15.62 ( 11.38)\n"
     ]
    },
    {
     "name": "stdout",
     "output_type": "stream",
     "text": [
      "Validation: [ 600/1605]\tTime  0.194 ( 0.196)\tLoss 3.8885e+00 (3.8633e+00)\tAcc@1   3.12 (  2.16)\tAcc@5  15.62 ( 11.83)\n"
     ]
    },
    {
     "name": "stdout",
     "output_type": "stream",
     "text": [
      "Validation: [ 800/1605]\tTime  0.194 ( 0.196)\tLoss 3.8058e+00 (3.8635e+00)\tAcc@1   0.00 (  2.12)\tAcc@5   9.38 ( 11.71)\n"
     ]
    },
    {
     "name": "stdout",
     "output_type": "stream",
     "text": [
      "Validation: [1000/1605]\tTime  0.194 ( 0.195)\tLoss 3.8187e+00 (3.8633e+00)\tAcc@1   6.25 (  2.20)\tAcc@5  21.88 ( 11.72)\n"
     ]
    },
    {
     "name": "stdout",
     "output_type": "stream",
     "text": [
      "Validation: [1200/1605]\tTime  0.194 ( 0.195)\tLoss 3.9262e+00 (3.8633e+00)\tAcc@1   0.00 (  2.21)\tAcc@5  12.50 ( 11.62)\n"
     ]
    },
    {
     "name": "stdout",
     "output_type": "stream",
     "text": [
      "Validation: [1400/1605]\tTime  0.194 ( 0.195)\tLoss 3.8418e+00 (3.8629e+00)\tAcc@1   6.25 (  2.16)\tAcc@5  15.62 ( 11.73)\n"
     ]
    },
    {
     "name": "stdout",
     "output_type": "stream",
     "text": [
      "Validation: [1600/1605]\tTime  0.193 ( 0.195)\tLoss 3.7902e+00 (3.8624e+00)\tAcc@1   0.00 (  2.16)\tAcc@5  12.50 ( 11.72)\n"
     ]
    },
    {
     "name": "stdout",
     "output_type": "stream",
     "text": [
      " * Acc@1 2.154 Acc@5 11.722\n",
      "Validation Loss: 0.0015 Acc: 0.0000\n"
     ]
    },
    {
     "name": "stdout",
     "output_type": "stream",
     "text": [
      "Epoch 5/19\n",
      "--------------------\n"
     ]
    },
    {
     "name": "stdout",
     "output_type": "stream",
     "text": [
      "Epoch: [5][   0/5618]\tTime  1.887 ( 1.887)\tData  1.543 ( 1.543)\tLoss 3.8374e+00 (3.8374e+00)\tAcc@1   6.25 (  6.25)\tAcc@5  18.75 ( 18.75)\n"
     ]
    },
    {
     "name": "stdout",
     "output_type": "stream",
     "text": [
      "Epoch: [5][ 200/5618]\tTime  0.336 ( 0.343)\tData  0.000 ( 0.008)\tLoss 3.8289e+00 (3.8677e+00)\tAcc@1   0.00 (  1.96)\tAcc@5   3.12 ( 11.77)\n"
     ]
    },
    {
     "name": "stdout",
     "output_type": "stream",
     "text": [
      "Epoch: [5][ 400/5618]\tTime  0.336 ( 0.340)\tData  0.000 ( 0.004)\tLoss 3.8360e+00 (3.8661e+00)\tAcc@1   0.00 (  2.00)\tAcc@5   9.38 ( 11.93)\n"
     ]
    },
    {
     "name": "stdout",
     "output_type": "stream",
     "text": [
      "Epoch: [5][ 600/5618]\tTime  0.336 ( 0.338)\tData  0.000 ( 0.003)\tLoss 3.9019e+00 (3.8653e+00)\tAcc@1   3.12 (  2.08)\tAcc@5  15.62 ( 12.12)\n"
     ]
    },
    {
     "name": "stdout",
     "output_type": "stream",
     "text": [
      "Epoch: [5][ 800/5618]\tTime  0.336 ( 0.338)\tData  0.000 ( 0.002)\tLoss 3.7632e+00 (3.8643e+00)\tAcc@1   3.12 (  2.06)\tAcc@5  18.75 ( 12.34)\n"
     ]
    },
    {
     "name": "stdout",
     "output_type": "stream",
     "text": [
      "Epoch: [5][1000/5618]\tTime  0.336 ( 0.337)\tData  0.000 ( 0.002)\tLoss 3.9136e+00 (3.8631e+00)\tAcc@1   0.00 (  2.06)\tAcc@5   3.12 ( 12.24)\n"
     ]
    },
    {
     "name": "stdout",
     "output_type": "stream",
     "text": [
      "Epoch: [5][1200/5618]\tTime  0.336 ( 0.337)\tData  0.000 ( 0.002)\tLoss 3.8314e+00 (3.8625e+00)\tAcc@1   3.12 (  2.12)\tAcc@5  18.75 ( 12.30)\n"
     ]
    },
    {
     "name": "stdout",
     "output_type": "stream",
     "text": [
      "Epoch: [5][1400/5618]\tTime  0.336 ( 0.337)\tData  0.000 ( 0.001)\tLoss 3.9461e+00 (3.8630e+00)\tAcc@1   3.12 (  2.14)\tAcc@5   9.38 ( 12.28)\n"
     ]
    },
    {
     "name": "stdout",
     "output_type": "stream",
     "text": [
      "Epoch: [5][1600/5618]\tTime  0.336 ( 0.337)\tData  0.000 ( 0.001)\tLoss 3.8540e+00 (3.8629e+00)\tAcc@1   6.25 (  2.19)\tAcc@5   6.25 ( 12.24)\n"
     ]
    },
    {
     "name": "stdout",
     "output_type": "stream",
     "text": [
      "Epoch: [5][1800/5618]\tTime  0.336 ( 0.337)\tData  0.000 ( 0.001)\tLoss 3.8699e+00 (3.8622e+00)\tAcc@1   0.00 (  2.21)\tAcc@5   9.38 ( 12.25)\n"
     ]
    },
    {
     "name": "stdout",
     "output_type": "stream",
     "text": [
      "Epoch: [5][2000/5618]\tTime  0.336 ( 0.337)\tData  0.000 ( 0.001)\tLoss 3.9065e+00 (3.8622e+00)\tAcc@1   0.00 (  2.19)\tAcc@5   9.38 ( 12.24)\n"
     ]
    },
    {
     "name": "stdout",
     "output_type": "stream",
     "text": [
      "Epoch: [5][2200/5618]\tTime  0.336 ( 0.337)\tData  0.000 ( 0.001)\tLoss 3.8074e+00 (3.8622e+00)\tAcc@1   0.00 (  2.19)\tAcc@5  15.62 ( 12.24)\n"
     ]
    },
    {
     "name": "stdout",
     "output_type": "stream",
     "text": [
      "Epoch: [5][2400/5618]\tTime  0.336 ( 0.337)\tData  0.000 ( 0.001)\tLoss 3.8323e+00 (3.8620e+00)\tAcc@1   0.00 (  2.19)\tAcc@5  18.75 ( 12.26)\n"
     ]
    },
    {
     "name": "stdout",
     "output_type": "stream",
     "text": [
      "Epoch: [5][2600/5618]\tTime  0.336 ( 0.337)\tData  0.000 ( 0.001)\tLoss 3.8806e+00 (3.8619e+00)\tAcc@1   0.00 (  2.18)\tAcc@5   6.25 ( 12.27)\n"
     ]
    },
    {
     "name": "stdout",
     "output_type": "stream",
     "text": [
      "Epoch: [5][2800/5618]\tTime  0.336 ( 0.337)\tData  0.000 ( 0.001)\tLoss 3.8632e+00 (3.8621e+00)\tAcc@1   9.38 (  2.18)\tAcc@5   9.38 ( 12.25)\n"
     ]
    },
    {
     "name": "stdout",
     "output_type": "stream",
     "text": [
      "Epoch: [5][3000/5618]\tTime  0.336 ( 0.337)\tData  0.000 ( 0.001)\tLoss 3.8657e+00 (3.8623e+00)\tAcc@1   6.25 (  2.17)\tAcc@5  21.88 ( 12.21)\n"
     ]
    },
    {
     "name": "stdout",
     "output_type": "stream",
     "text": [
      "Epoch: [5][3200/5618]\tTime  0.336 ( 0.337)\tData  0.000 ( 0.001)\tLoss 3.8053e+00 (3.8619e+00)\tAcc@1   6.25 (  2.20)\tAcc@5  15.62 ( 12.23)\n"
     ]
    }
   ],
   "source": [
    "%%time\n",
    "for epoch in range(CFG.START_EPOCH, CFG.EPOCHS):\n",
    "    print('Epoch {}/{}'.format(epoch, CFG.EPOCHS - 1))\n",
    "    print('-' * 20)\n",
    "    \n",
    "    wblogdict = {}\n",
    "    # train for one epoch\n",
    "    train(train_loader, model, criterion, optimizer, epoch)\n",
    "\n",
    "    # evaluate on validation set\n",
    "    acc1, acc5 = validate(val_loader, model, criterion)\n",
    "\n",
    "    # remember best acc@1 and save checkpoint\n",
    "    is_best = acc1 > best_acc1\n",
    "    best_acc1 = max(acc1, best_acc1)\n",
    "\n",
    "    save_checkpoint({\n",
    "        'epoch': epoch + 1,\n",
    "        'arch': CFG.ARCH,\n",
    "        'state_dict': model.state_dict(),\n",
    "        'best_acc1': best_acc1,\n",
    "        'acc5': acc5,\n",
    "        'optimizer' : optimizer.state_dict(),\n",
    "    }, is_best)\n",
    "\n",
    "    wblogger.log(wblogdict, step=epoch)\n",
    "    \n",
    "    # scheduler.step(epoch_loss)\n",
    "    # print('lr: ' + str(scheduler.get_last_lr()[0]))\n",
    "    # wandb.log({'lr': scheduler.get_last_lr()[0]})"
   ]
  },
  {
   "cell_type": "code",
   "execution_count": null,
   "id": "e3da7a89",
   "metadata": {
    "papermill": {
     "duration": null,
     "end_time": null,
     "exception": null,
     "start_time": null,
     "status": "pending"
    },
    "tags": []
   },
   "outputs": [],
   "source": []
  }
 ],
 "metadata": {
  "kernelspec": {
   "display_name": "cell-painting",
   "language": "python",
   "name": "python3"
  },
  "language_info": {
   "codemirror_mode": {
    "name": "ipython",
    "version": 3
   },
   "file_extension": ".py",
   "mimetype": "text/x-python",
   "name": "python",
   "nbconvert_exporter": "python",
   "pygments_lexer": "ipython3",
   "version": "3.9.16"
  },
  "papermill": {
   "default_parameters": {},
   "duration": null,
   "end_time": null,
   "environment_variables": {},
   "exception": null,
   "input_path": "from_scratch.ipynb",
   "output_path": "from_scratch_papermill_output.ipynb",
   "parameters": {},
   "start_time": "2023-03-27T01:36:47.198017",
   "version": "2.3.4"
  }
 },
 "nbformat": 4,
 "nbformat_minor": 5
}