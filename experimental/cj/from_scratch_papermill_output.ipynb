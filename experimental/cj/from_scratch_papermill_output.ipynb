{
 "cells": [
  {
   "attachments": {},
   "cell_type": "markdown",
   "id": "8f1b680e",
   "metadata": {
    "papermill": {
     "duration": 0.004093,
     "end_time": "2023-03-26T04:31:42.822719",
     "exception": false,
     "start_time": "2023-03-26T04:31:42.818626",
     "status": "completed"
    },
    "tags": []
   },
   "source": [
    "# init"
   ]
  },
  {
   "cell_type": "code",
   "execution_count": 1,
   "id": "b724ad5d",
   "metadata": {
    "execution": {
     "iopub.execute_input": "2023-03-26T04:31:42.831312Z",
     "iopub.status.busy": "2023-03-26T04:31:42.830680Z",
     "iopub.status.idle": "2023-03-26T04:31:44.507079Z",
     "shell.execute_reply": "2023-03-26T04:31:44.506477Z"
    },
    "papermill": {
     "duration": 1.682303,
     "end_time": "2023-03-26T04:31:44.508625",
     "exception": false,
     "start_time": "2023-03-26T04:31:42.826322",
     "status": "completed"
    },
    "tags": []
   },
   "outputs": [],
   "source": [
    "import os\n",
    "import random\n",
    "import shutil\n",
    "import time\n",
    "import warnings\n",
    "from datetime import date\n",
    "from collections import Counter\n",
    "import numpy as np\n",
    "import gc\n",
    "import wandb\n",
    "import uuid\n",
    "import tempfile\n",
    "\n",
    "import torch\n",
    "import torch.nn as nn\n",
    "import torch.backends.cudnn as cudnn\n",
    "import torch.optim\n",
    "\n",
    "import torch.utils.data\n",
    "# import torchvision\n",
    "import torchvision.transforms as transforms\n",
    "import torchvision.datasets as datasets\n",
    "# import torchvision.models as models\n",
    "from torch.cuda.amp import GradScaler#, autocast\n",
    "\n",
    "import timm\n",
    "from tqdm import tqdm, trange"
   ]
  },
  {
   "cell_type": "code",
   "execution_count": 2,
   "id": "3f7de6eb",
   "metadata": {
    "execution": {
     "iopub.execute_input": "2023-03-26T04:31:44.517644Z",
     "iopub.status.busy": "2023-03-26T04:31:44.517303Z",
     "iopub.status.idle": "2023-03-26T04:31:44.521205Z",
     "shell.execute_reply": "2023-03-26T04:31:44.520769Z"
    },
    "papermill": {
     "duration": 0.009876,
     "end_time": "2023-03-26T04:31:44.522234",
     "exception": false,
     "start_time": "2023-03-26T04:31:44.512358",
     "status": "completed"
    },
    "tags": []
   },
   "outputs": [],
   "source": [
    "GPU=0\n",
    "SEED=1\n",
    "\n",
    "random.seed(SEED)\n",
    "torch.manual_seed(SEED)\n",
    "cudnn.deterministic = True"
   ]
  },
  {
   "cell_type": "code",
   "execution_count": 3,
   "id": "c759c939",
   "metadata": {
    "execution": {
     "iopub.execute_input": "2023-03-26T04:31:44.529828Z",
     "iopub.status.busy": "2023-03-26T04:31:44.529508Z",
     "iopub.status.idle": "2023-03-26T04:31:44.622329Z",
     "shell.execute_reply": "2023-03-26T04:31:44.621786Z"
    },
    "papermill": {
     "duration": 0.097749,
     "end_time": "2023-03-26T04:31:44.623376",
     "exception": false,
     "start_time": "2023-03-26T04:31:44.525627",
     "status": "completed"
    },
    "tags": []
   },
   "outputs": [
    {
     "name": "stdout",
     "output_type": "stream",
     "text": [
      "GPU(s) available: 1\n",
      "Device: cuda:0\n"
     ]
    }
   ],
   "source": [
    "# Print num GPUs available\n",
    "print(f\"GPU(s) available: {torch.cuda.device_count()}\") \n",
    "# Set device\n",
    "device = torch.device(\"cuda:0\" if torch.cuda.is_available() else \"cpu\")\n",
    "print(f\"Device: {device}\")"
   ]
  },
  {
   "attachments": {},
   "cell_type": "markdown",
   "id": "a4ffef35",
   "metadata": {
    "papermill": {
     "duration": 0.00344,
     "end_time": "2023-03-26T04:31:44.630652",
     "exception": false,
     "start_time": "2023-03-26T04:31:44.627212",
     "status": "completed"
    },
    "tags": []
   },
   "source": [
    "## Config"
   ]
  },
  {
   "cell_type": "code",
   "execution_count": 4,
   "id": "9138a156",
   "metadata": {
    "execution": {
     "iopub.execute_input": "2023-03-26T04:31:44.638490Z",
     "iopub.status.busy": "2023-03-26T04:31:44.638179Z",
     "iopub.status.idle": "2023-03-26T04:31:44.642821Z",
     "shell.execute_reply": "2023-03-26T04:31:44.642314Z"
    },
    "papermill": {
     "duration": 0.009741,
     "end_time": "2023-03-26T04:31:44.643807",
     "exception": false,
     "start_time": "2023-03-26T04:31:44.634066",
     "status": "completed"
    },
    "tags": []
   },
   "outputs": [],
   "source": [
    "class CFG:\n",
    "  ARCH = 'maxvit_tiny_224'\n",
    "  START_EPOCH = 0\n",
    "  EPOCHS = 20\n",
    "  LR = 0.1\n",
    "  MOMENTUM = 0.9\n",
    "  WEIGHT_DECAY = 1e-4\n",
    "  ADAM_EPSILON = 1e-7\n",
    "  PRINT_FREQ = 50\n",
    "  TRAIN_BATCH = 64\n",
    "  VAL_BATCH = 64\n",
    "  WORKERS = 4\n",
    "  DATADIR = \"/data/home/ec2-user/broad/training_images/BBBC037/\"\n",
    "  TRAINDIR = DATADIR+\"train\"\n",
    "  VALDIR = DATADIR+\"val\"\n",
    "  TESTDIR = DATADIR+\"test\"\n",
    "\n",
    "  PRETRAINED = False\n",
    "  IMAGE_SIZE = 224\n",
    "  IN_CHANS = 5\n",
    "  NUM_CLASSES = 47\n",
    "\n",
    "  RANDOM_SEED = 42\n",
    "\n",
    "  OUTPUT_DIR = '/home/ubuntu' + '/saved_models/' + str(date.today())\n",
    "  CHECKPOINT_LAST = OUTPUT_DIR + '/' + ARCH + '/checkpoint-last'\n",
    "  CHECKPOINT_BEST = OUTPUT_DIR + '/' + ARCH + '/checkpoint-best'\n",
    "\n",
    "  WANDB_NOTEBOOK_NAME = str(date.today()) + '_' + ARCH + '_cjdonahoe'\n"
   ]
  },
  {
   "attachments": {},
   "cell_type": "markdown",
   "id": "76993900",
   "metadata": {
    "papermill": {
     "duration": 0.003411,
     "end_time": "2023-03-26T04:31:44.650674",
     "exception": false,
     "start_time": "2023-03-26T04:31:44.647263",
     "status": "completed"
    },
    "tags": []
   },
   "source": [
    "## W&B"
   ]
  },
  {
   "cell_type": "code",
   "execution_count": 5,
   "id": "eed44160",
   "metadata": {
    "execution": {
     "iopub.execute_input": "2023-03-26T04:31:44.658592Z",
     "iopub.status.busy": "2023-03-26T04:31:44.658234Z",
     "iopub.status.idle": "2023-03-26T04:31:49.122515Z",
     "shell.execute_reply": "2023-03-26T04:31:49.121921Z"
    },
    "papermill": {
     "duration": 4.469697,
     "end_time": "2023-03-26T04:31:49.123825",
     "exception": false,
     "start_time": "2023-03-26T04:31:44.654128",
     "status": "completed"
    },
    "tags": []
   },
   "outputs": [
    {
     "name": "stderr",
     "output_type": "stream",
     "text": [
      "Failed to detect the name of this notebook, you can set it manually with the WANDB_NOTEBOOK_NAME environment variable to enable code saving.\n"
     ]
    },
    {
     "name": "stderr",
     "output_type": "stream",
     "text": [
      "\u001b[34m\u001b[1mwandb\u001b[0m: Currently logged in as: \u001b[33mcjdonahoe\u001b[0m (\u001b[33mcellvit\u001b[0m). Use \u001b[1m`wandb login --relogin`\u001b[0m to force relogin\n"
     ]
    },
    {
     "data": {
      "text/html": [
       "Tracking run with wandb version 0.14.0"
      ],
      "text/plain": [
       "<IPython.core.display.HTML object>"
      ]
     },
     "metadata": {},
     "output_type": "display_data"
    },
    {
     "data": {
      "text/html": [
       "Run data is saved locally in <code>/tmp/tmpkzshwqb2/wandb/run-20230326_043145-02c0395d292c4d489c3f99e5fbe8411b</code>"
      ],
      "text/plain": [
       "<IPython.core.display.HTML object>"
      ]
     },
     "metadata": {},
     "output_type": "display_data"
    },
    {
     "data": {
      "text/html": [
       "Syncing run <strong><a href='https://wandb.ai/cellvit/cjdonahoe--cellvit/runs/02c0395d292c4d489c3f99e5fbe8411b' target=\"_blank\">02c0395d292c4d489c3f99e5fbe8411b</a></strong> to <a href='https://wandb.ai/cellvit/cjdonahoe--cellvit' target=\"_blank\">Weights & Biases</a> (<a href='https://wandb.me/run' target=\"_blank\">docs</a>)<br/>"
      ],
      "text/plain": [
       "<IPython.core.display.HTML object>"
      ]
     },
     "metadata": {},
     "output_type": "display_data"
    },
    {
     "data": {
      "text/html": [
       " View project at <a href='https://wandb.ai/cellvit/cjdonahoe--cellvit' target=\"_blank\">https://wandb.ai/cellvit/cjdonahoe--cellvit</a>"
      ],
      "text/plain": [
       "<IPython.core.display.HTML object>"
      ]
     },
     "metadata": {},
     "output_type": "display_data"
    },
    {
     "data": {
      "text/html": [
       " View run at <a href='https://wandb.ai/cellvit/cjdonahoe--cellvit/runs/02c0395d292c4d489c3f99e5fbe8411b' target=\"_blank\">https://wandb.ai/cellvit/cjdonahoe--cellvit/runs/02c0395d292c4d489c3f99e5fbe8411b</a>"
      ],
      "text/plain": [
       "<IPython.core.display.HTML object>"
      ]
     },
     "metadata": {},
     "output_type": "display_data"
    }
   ],
   "source": [
    "os.environ['WANDB_API_KEY']='e2b77d7240d4c1ceee8264dbfbea27d2f30d5331'\n",
    "\n",
    "class WandBLogger(object):\n",
    "    def __init__(self, variant, project, prefix=''):\n",
    "      \"\"\"\n",
    "      Args:\n",
    "        variant: dictionary of hyperparameters\n",
    "        project: name of project\n",
    "      \"\"\"\n",
    "      log_dir = tempfile.mkdtemp()\n",
    "      if prefix != '':\n",
    "          project = '{}--{}'.format(prefix, project)\n",
    "\n",
    "      wandb.init(\n",
    "          config=variant,\n",
    "          project=project,\n",
    "          dir=log_dir,\n",
    "          id=uuid.uuid4().hex,\n",
    "      )\n",
    "\n",
    "    def log(self, *args, **kwargs):\n",
    "      wandb.log(*args, **kwargs)\n",
    "\n",
    "wblogger = WandBLogger(\n",
    "    variant={\n",
    "      'initial_learning_rate': CFG.LR,\n",
    "      'adam_epsilon': CFG.ADAM_EPSILON,\n",
    "      'num_epochs': CFG.EPOCHS,\n",
    "      'batch_size': CFG.TRAIN_BATCH,\n",
    "      'weight_decay': CFG.WEIGHT_DECAY,\n",
    "      'architecture': CFG.ARCH,\n",
    "    },\n",
    "    project=f'cellvit',\n",
    "    prefix='cjdonahoe'\n",
    ")\n"
   ]
  },
  {
   "attachments": {},
   "cell_type": "markdown",
   "id": "9eb88f21",
   "metadata": {
    "papermill": {
     "duration": 0.004069,
     "end_time": "2023-03-26T04:31:49.132338",
     "exception": false,
     "start_time": "2023-03-26T04:31:49.128269",
     "status": "completed"
    },
    "tags": []
   },
   "source": [
    "# Functions"
   ]
  },
  {
   "cell_type": "code",
   "execution_count": 6,
   "id": "0fcc4768",
   "metadata": {
    "execution": {
     "iopub.execute_input": "2023-03-26T04:31:49.141745Z",
     "iopub.status.busy": "2023-03-26T04:31:49.141286Z",
     "iopub.status.idle": "2023-03-26T04:31:49.145918Z",
     "shell.execute_reply": "2023-03-26T04:31:49.145051Z"
    },
    "papermill": {
     "duration": 0.010701,
     "end_time": "2023-03-26T04:31:49.147125",
     "exception": false,
     "start_time": "2023-03-26T04:31:49.136424",
     "status": "completed"
    },
    "tags": []
   },
   "outputs": [],
   "source": [
    "def save_checkpoint(state, is_best, filename='checkpoint.pth.tar'):\n",
    "    torch.save(state, filename)\n",
    "    if is_best:\n",
    "        shutil.copyfile(filename, 'model_best.pth.tar')"
   ]
  },
  {
   "cell_type": "code",
   "execution_count": 7,
   "id": "6660f704",
   "metadata": {
    "execution": {
     "iopub.execute_input": "2023-03-26T04:31:49.156099Z",
     "iopub.status.busy": "2023-03-26T04:31:49.155887Z",
     "iopub.status.idle": "2023-03-26T04:31:49.161102Z",
     "shell.execute_reply": "2023-03-26T04:31:49.160511Z"
    },
    "papermill": {
     "duration": 0.011048,
     "end_time": "2023-03-26T04:31:49.162302",
     "exception": false,
     "start_time": "2023-03-26T04:31:49.151254",
     "status": "completed"
    },
    "tags": []
   },
   "outputs": [],
   "source": [
    "class AverageMeter(object):\n",
    "    \"\"\"Computes and stores the average and current value\"\"\"\n",
    "    def __init__(self, name, fmt=':f'):\n",
    "        self.name = name\n",
    "        self.fmt = fmt\n",
    "        self.reset()\n",
    "\n",
    "    def reset(self):\n",
    "        self.val = 0\n",
    "        self.avg = 0\n",
    "        self.sum = 0\n",
    "        self.count = 0\n",
    "\n",
    "    def update(self, val, n=1):\n",
    "        self.val = val\n",
    "        self.sum += val * n\n",
    "        self.count += n\n",
    "        self.avg = self.sum / self.count\n",
    "\n",
    "    def __str__(self):\n",
    "        fmtstr = '{name} {val' + self.fmt + '} ({avg' + self.fmt + '})'\n",
    "        return fmtstr.format(**self.__dict__)"
   ]
  },
  {
   "cell_type": "code",
   "execution_count": 8,
   "id": "a156c2be",
   "metadata": {
    "execution": {
     "iopub.execute_input": "2023-03-26T04:31:49.171633Z",
     "iopub.status.busy": "2023-03-26T04:31:49.171120Z",
     "iopub.status.idle": "2023-03-26T04:31:49.176414Z",
     "shell.execute_reply": "2023-03-26T04:31:49.175957Z"
    },
    "papermill": {
     "duration": 0.011151,
     "end_time": "2023-03-26T04:31:49.177592",
     "exception": false,
     "start_time": "2023-03-26T04:31:49.166441",
     "status": "completed"
    },
    "tags": []
   },
   "outputs": [],
   "source": [
    "class ProgressMeter(object):\n",
    "    def __init__(self, num_batches, meters, prefix=\"\"):\n",
    "        self.batch_fmtstr = self._get_batch_fmtstr(num_batches)\n",
    "        self.meters = meters\n",
    "        self.prefix = prefix\n",
    "\n",
    "    def display(self, batch):\n",
    "        entries = [self.prefix + self.batch_fmtstr.format(batch)]\n",
    "        entries += [str(meter) for meter in self.meters]\n",
    "        print('\\t'.join(entries))\n",
    "\n",
    "    def _get_batch_fmtstr(self, num_batches):\n",
    "        num_digits = len(str(num_batches // 1))\n",
    "        fmt = '{:' + str(num_digits) + 'd}'\n",
    "        return '[' + fmt + '/' + fmt.format(num_batches) + ']'"
   ]
  },
  {
   "cell_type": "code",
   "execution_count": 9,
   "id": "3743e51d",
   "metadata": {
    "execution": {
     "iopub.execute_input": "2023-03-26T04:31:49.186499Z",
     "iopub.status.busy": "2023-03-26T04:31:49.186172Z",
     "iopub.status.idle": "2023-03-26T04:31:49.190584Z",
     "shell.execute_reply": "2023-03-26T04:31:49.190132Z"
    },
    "papermill": {
     "duration": 0.010048,
     "end_time": "2023-03-26T04:31:49.191662",
     "exception": false,
     "start_time": "2023-03-26T04:31:49.181614",
     "status": "completed"
    },
    "tags": []
   },
   "outputs": [],
   "source": [
    "def accuracy(output, target, topk=(1,)):\n",
    "    \"\"\"Computes the accuracy over the k top predictions for the specified values of k\"\"\"\n",
    "    with torch.no_grad():\n",
    "        maxk = max(topk)\n",
    "        batch_size = target.size(0)\n",
    "\n",
    "        _, pred = output.topk(maxk, 1, True, True)\n",
    "        pred = pred.t()\n",
    "        correct = pred.eq(target.view(1, -1).expand_as(pred))\n",
    "\n",
    "        res = []\n",
    "        for k in topk:\n",
    "            correct_k = correct[:k].reshape(-1).float().sum(0, keepdim=True)\n",
    "            res.append(correct_k.mul_(100.0 / batch_size))\n",
    "        return res"
   ]
  },
  {
   "cell_type": "code",
   "execution_count": 10,
   "id": "298f0eb3",
   "metadata": {
    "execution": {
     "iopub.execute_input": "2023-03-26T04:31:49.200561Z",
     "iopub.status.busy": "2023-03-26T04:31:49.200307Z",
     "iopub.status.idle": "2023-03-26T04:31:49.204522Z",
     "shell.execute_reply": "2023-03-26T04:31:49.204043Z"
    },
    "papermill": {
     "duration": 0.009889,
     "end_time": "2023-03-26T04:31:49.205609",
     "exception": false,
     "start_time": "2023-03-26T04:31:49.195720",
     "status": "completed"
    },
    "tags": []
   },
   "outputs": [],
   "source": [
    "def get_class_weights(dataset):\n",
    "    ''' Get class weights for a dataset\n",
    "    Args:\n",
    "        dataset: torch.utils.data.Dataset\n",
    "    Returns:\n",
    "        class_weights: torch.FloatTensor\n",
    "    '''\n",
    "    \n",
    "    class_counts = Counter(dataset.targets)\n",
    "    total_count = len(dataset.targets)\n",
    "    class_weights = list({class_id: class_counts/total_count for class_id, class_counts in class_counts.items()}.values())\n",
    "    class_weights = torch.FloatTensor(class_weights).cuda()\n",
    "    return class_weights"
   ]
  },
  {
   "cell_type": "code",
   "execution_count": 11,
   "id": "a907df56",
   "metadata": {
    "execution": {
     "iopub.execute_input": "2023-03-26T04:31:49.214801Z",
     "iopub.status.busy": "2023-03-26T04:31:49.214469Z",
     "iopub.status.idle": "2023-03-26T04:31:49.218471Z",
     "shell.execute_reply": "2023-03-26T04:31:49.218013Z"
    },
    "papermill": {
     "duration": 0.00969,
     "end_time": "2023-03-26T04:31:49.219494",
     "exception": false,
     "start_time": "2023-03-26T04:31:49.209804",
     "status": "completed"
    },
    "tags": []
   },
   "outputs": [],
   "source": [
    "class SplitTensorToFiveChannels(object):\n",
    "    \"\"\"Convert images in Pytorch Dataset to Tensors with one channel\n",
    "    for each discrete fluerecent image in a Cell Painting sample.\"\"\"\n",
    "\n",
    "    def __call__(self, img):\n",
    "        # select the first channel since the image is grayscale\n",
    "        img = img[0,:,:]\n",
    "        # split the image into the 6 channels and remove the last channel\n",
    "        img = torch.tensor_split(img,6,dim=1)[:-1]\n",
    "        # concatenate the 5 channels into a single tensor\n",
    "        img = torch.stack(img, dim=0)\n",
    "        return img\n"
   ]
  },
  {
   "attachments": {},
   "cell_type": "markdown",
   "id": "8460ae77",
   "metadata": {
    "papermill": {
     "duration": 0.004021,
     "end_time": "2023-03-26T04:31:49.227736",
     "exception": false,
     "start_time": "2023-03-26T04:31:49.223715",
     "status": "completed"
    },
    "tags": []
   },
   "source": [
    "## MaxVitClassifier"
   ]
  },
  {
   "cell_type": "code",
   "execution_count": 12,
   "id": "0d3232a8",
   "metadata": {
    "execution": {
     "iopub.execute_input": "2023-03-26T04:31:49.237533Z",
     "iopub.status.busy": "2023-03-26T04:31:49.236991Z",
     "iopub.status.idle": "2023-03-26T04:31:49.244148Z",
     "shell.execute_reply": "2023-03-26T04:31:49.243446Z"
    },
    "papermill": {
     "duration": 0.013301,
     "end_time": "2023-03-26T04:31:49.245264",
     "exception": false,
     "start_time": "2023-03-26T04:31:49.231963",
     "status": "completed"
    },
    "tags": []
   },
   "outputs": [],
   "source": [
    "class MaxVitClassifier(nn.Module):\n",
    "    def __init__(self, checkpoint=None):\n",
    "        super().__init__()\n",
    "        self.model_name = CFG.ARCH\n",
    "        self.model = timm.create_model(\n",
    "            CFG.ARCH,\n",
    "            in_chans=CFG.IN_CHANS,\n",
    "            pretrained=CFG.PRETRAINED, \n",
    "            num_classes=CFG.NUM_CLASSES)\n",
    "        # n_features = self.model.head.in_features\n",
    "        # self.model.head = nn.Linear(n_features, num_classes)\n",
    "        # self.model.fc = nn.Linear(n_features, num_classes)\n",
    "        # if checkpoint:\n",
    "        #   self.model.load_state_dict(torch.load(checkpoint), strict=False)\n",
    "\n",
    "    def forward(self, x):\n",
    "        x = self.model(x)\n",
    "        return x\n",
    "    \n",
    "    def freeze(self):\n",
    "        # To freeze the residual layers\n",
    "        for param in self.model.parameters():\n",
    "            param.requires_grad = False\n",
    "\n",
    "        for param in self.model.head.parameters():\n",
    "            param.requires_grad = True\n",
    "    \n",
    "    def unfreeze(self):\n",
    "        # Unfreeze all layers\n",
    "        for param in self.model.parameters():\n",
    "            param.requires_grad = True"
   ]
  },
  {
   "attachments": {},
   "cell_type": "markdown",
   "id": "7f597183",
   "metadata": {
    "papermill": {
     "duration": 0.004022,
     "end_time": "2023-03-26T04:31:49.253659",
     "exception": false,
     "start_time": "2023-03-26T04:31:49.249637",
     "status": "completed"
    },
    "tags": []
   },
   "source": [
    "# Train & Validation Functions"
   ]
  },
  {
   "cell_type": "code",
   "execution_count": 13,
   "id": "9963a69c",
   "metadata": {
    "execution": {
     "iopub.execute_input": "2023-03-26T04:31:49.262805Z",
     "iopub.status.busy": "2023-03-26T04:31:49.262363Z",
     "iopub.status.idle": "2023-03-26T04:31:49.272489Z",
     "shell.execute_reply": "2023-03-26T04:31:49.272003Z"
    },
    "papermill": {
     "duration": 0.015996,
     "end_time": "2023-03-26T04:31:49.273668",
     "exception": false,
     "start_time": "2023-03-26T04:31:49.257672",
     "status": "completed"
    },
    "tags": []
   },
   "outputs": [],
   "source": [
    "def train(train_loader, model, criterion, optimizer, epoch):\n",
    "    batch_time = AverageMeter('Time', ':6.3f')\n",
    "    data_time = AverageMeter('Data', ':6.3f')\n",
    "    losses = AverageMeter('Loss', ':.4e')\n",
    "    top1 = AverageMeter('Acc@1', ':6.2f')\n",
    "    top5 = AverageMeter('Acc@5', ':6.2f')\n",
    "    progress = ProgressMeter(\n",
    "        len(train_loader),\n",
    "        [batch_time, data_time, losses, top1, top5],\n",
    "        prefix=\"Epoch: [{}]\".format(epoch))\n",
    "\n",
    "    # Grad Scaler\n",
    "    scaler = GradScaler()\n",
    "    # switch to train mode\n",
    "    model.train()\n",
    "\n",
    "    running_loss = 0.0\n",
    "    running_corrects = 0\n",
    "\n",
    "    end = time.time()\n",
    "    for i, (images, target) in enumerate(train_loader):\n",
    "        # measure data loading time\n",
    "        data_time.update(time.time() - end)\n",
    "\n",
    "        # move data to GPU\n",
    "        if GPU is not None:\n",
    "            images = images.cuda(GPU, non_blocking=True)\n",
    "        if torch.cuda.is_available():\n",
    "            target = target.cuda(GPU, non_blocking=True)\n",
    "\n",
    "        # compute output\n",
    "        with torch.autocast(device_type='cuda'):\n",
    "            output = model(images)\n",
    "            loss = criterion(output, target)\n",
    "\n",
    "            _, preds = torch.max(output, 1)\n",
    "        \n",
    "        running_loss += loss.item() * images.size(0)\n",
    "        running_corrects += torch.sum(preds == target.data)\n",
    "\n",
    "        # measure accuracy and record loss\n",
    "        acc1, acc5 = accuracy(output, target, topk=(1, 5))\n",
    "        losses.update(loss.item(), images.size(0))\n",
    "        top1.update(acc1[0], images.size(0))\n",
    "        top5.update(acc5[0], images.size(0))\n",
    "        \n",
    "        # compute gradient and do SGD step\n",
    "        # use the scaler\n",
    "        scaler.scale(loss).backward()\n",
    "        scaler.step(optimizer)\n",
    "        scaler.update()\n",
    "\n",
    "        # measure elapsed time\n",
    "        batch_time.update(time.time() - end)\n",
    "        end = time.time()\n",
    "        wandb.log({\"Loss/train\": loss, 'acc1/train': top1.avg, 'acc5/train': top5.avg})\n",
    "\n",
    "        if i % CFG.PRINT_FREQ == 0:\n",
    "            progress.display(i)\n",
    "\n",
    "    epoch_loss = running_loss / len(train_loader.dataset)\n",
    "    epoch_acc = running_corrects.double() / len(train_loader.dataset)\n",
    "    \n",
    "    print('{} Loss: {:.4f} Acc: {:.4f}'.format(\"train\", epoch_loss, epoch_acc))\n",
    "\n",
    "    wblogdict[f'{\"train\"}/loss'] = np.round(epoch_loss, 4)\n",
    "    wblogdict[f'{\"train\"}/acc'] = np.round(epoch_acc.cpu(), 3)"
   ]
  },
  {
   "cell_type": "code",
   "execution_count": 14,
   "id": "dede3812",
   "metadata": {
    "execution": {
     "iopub.execute_input": "2023-03-26T04:31:49.283061Z",
     "iopub.status.busy": "2023-03-26T04:31:49.282790Z",
     "iopub.status.idle": "2023-03-26T04:31:49.290791Z",
     "shell.execute_reply": "2023-03-26T04:31:49.290356Z"
    },
    "papermill": {
     "duration": 0.013781,
     "end_time": "2023-03-26T04:31:49.291790",
     "exception": false,
     "start_time": "2023-03-26T04:31:49.278009",
     "status": "completed"
    },
    "tags": []
   },
   "outputs": [],
   "source": [
    "def validate(val_loader, model, criterion):\n",
    "    batch_time = AverageMeter('Time', ':6.3f')\n",
    "    losses = AverageMeter('Loss', ':.4e')\n",
    "    top1 = AverageMeter('Acc@1', ':6.2f')\n",
    "    top5 = AverageMeter('Acc@5', ':6.2f')\n",
    "    progress = ProgressMeter(\n",
    "        len(val_loader),\n",
    "        [batch_time, losses, top1, top5],\n",
    "        prefix='Validation: ')\n",
    "\n",
    "    # switch to evaluate mode\n",
    "    model.eval()\n",
    "\n",
    "    running_loss = 0.0\n",
    "    running_corrects = 0\n",
    "\n",
    "    with torch.no_grad():\n",
    "        end = time.time()\n",
    "        for i, (images, target) in enumerate(val_loader):\n",
    "            if GPU is not None:\n",
    "                images = images.cuda(GPU, non_blocking=True)\n",
    "            if torch.cuda.is_available():\n",
    "                target = target.cuda(GPU, non_blocking=True)\n",
    "\n",
    "            # compute output\n",
    "            output = model(images)\n",
    "            loss = criterion(output, target)\n",
    "\n",
    "            _, preds = torch.max(output, 1)\n",
    "\n",
    "            # measure accuracy and record loss\n",
    "            acc1, acc5 = accuracy(output, target, topk=(1, 5))\n",
    "            losses.update(loss.item(), images.size(0))\n",
    "            top1.update(acc1[0], images.size(0))\n",
    "            top5.update(acc5[0], images.size(0))\n",
    "\n",
    "            # measure elapsed time\n",
    "            batch_time.update(time.time() - end)\n",
    "            end = time.time()\n",
    "\n",
    "            if i % CFG.PRINT_FREQ == 0:\n",
    "                progress.display(i)\n",
    "\n",
    "        # TODO: this should also be done with the ProgressMeter\n",
    "        print(' * Acc@1 {top1.avg:.3f} Acc@5 {top5.avg:.3f}'\n",
    "              .format(top1=top1, top5=top5))\n",
    "        \n",
    "        running_loss += loss.item() * images.size(0)\n",
    "        running_corrects += torch.sum(preds == target.data)\n",
    "\n",
    "    epoch_loss = running_loss / len(val_loader.dataset)\n",
    "    epoch_acc = running_corrects.double() / len(val_loader.dataset)\n",
    "    \n",
    "    print('{} Loss: {:.4f} Acc: {:.4f}'.format(\"Validation\", epoch_loss, epoch_acc))\n",
    "\n",
    "    wblogdict[f'{\"val\"}/loss'] = np.round(epoch_loss, 4)\n",
    "    wblogdict[f'{\"val\"}/acc'] = np.round(epoch_acc.cpu(), 3)\n",
    "\n",
    "    wandb.log({\"Loss/val\": losses.avg, 'acc1/val': top1.avg, 'acc5/val': top5.avg})\n",
    "    return top1.avg, top5.avg"
   ]
  },
  {
   "attachments": {},
   "cell_type": "markdown",
   "id": "77d2bfa9",
   "metadata": {
    "papermill": {
     "duration": 0.004139,
     "end_time": "2023-03-26T04:31:49.300183",
     "exception": false,
     "start_time": "2023-03-26T04:31:49.296044",
     "status": "completed"
    },
    "tags": []
   },
   "source": [
    "# Transformations, Datasets, & Dataloaders"
   ]
  },
  {
   "cell_type": "code",
   "execution_count": 15,
   "id": "5f2a6fc7",
   "metadata": {
    "execution": {
     "iopub.execute_input": "2023-03-26T04:31:49.309420Z",
     "iopub.status.busy": "2023-03-26T04:31:49.309091Z",
     "iopub.status.idle": "2023-03-26T04:31:49.312703Z",
     "shell.execute_reply": "2023-03-26T04:31:49.312257Z"
    },
    "papermill": {
     "duration": 0.009416,
     "end_time": "2023-03-26T04:31:49.313716",
     "exception": false,
     "start_time": "2023-03-26T04:31:49.304300",
     "status": "completed"
    },
    "tags": []
   },
   "outputs": [],
   "source": [
    "transform_train = transforms.Compose([\n",
    "    transforms.RandomHorizontalFlip(),\n",
    "    transforms.Resize(CFG.IMAGE_SIZE),\n",
    "    transforms.ToTensor(),\n",
    "    SplitTensorToFiveChannels(),\n",
    "])\n",
    "\n",
    "transform_val = transforms.Compose([\n",
    "    transforms.Resize(CFG.IMAGE_SIZE),\n",
    "    transforms.ToTensor(),\n",
    "    SplitTensorToFiveChannels(),\n",
    "])\n"
   ]
  },
  {
   "cell_type": "code",
   "execution_count": 16,
   "id": "4b5d9667",
   "metadata": {
    "execution": {
     "iopub.execute_input": "2023-03-26T04:31:49.324060Z",
     "iopub.status.busy": "2023-03-26T04:31:49.323529Z",
     "iopub.status.idle": "2023-03-26T04:31:49.796212Z",
     "shell.execute_reply": "2023-03-26T04:31:49.795529Z"
    },
    "papermill": {
     "duration": 0.479144,
     "end_time": "2023-03-26T04:31:49.797719",
     "exception": false,
     "start_time": "2023-03-26T04:31:49.318575",
     "status": "completed"
    },
    "tags": []
   },
   "outputs": [],
   "source": [
    "train_dataset = datasets.ImageFolder(\n",
    "    CFG.TRAINDIR, transform=transform_train)\n",
    "\n",
    "val_dataset = datasets.ImageFolder(\n",
    "    CFG.VALDIR, transform=transform_val)"
   ]
  },
  {
   "cell_type": "code",
   "execution_count": 17,
   "id": "feab2c10",
   "metadata": {
    "execution": {
     "iopub.execute_input": "2023-03-26T04:31:49.832464Z",
     "iopub.status.busy": "2023-03-26T04:31:49.832112Z",
     "iopub.status.idle": "2023-03-26T04:31:49.836233Z",
     "shell.execute_reply": "2023-03-26T04:31:49.835622Z"
    },
    "papermill": {
     "duration": 0.010417,
     "end_time": "2023-03-26T04:31:49.837334",
     "exception": false,
     "start_time": "2023-03-26T04:31:49.826917",
     "status": "completed"
    },
    "tags": []
   },
   "outputs": [],
   "source": [
    "train_loader = torch.utils.data.DataLoader(\n",
    "        train_dataset, batch_size=CFG.TRAIN_BATCH, shuffle=True,\n",
    "        num_workers=CFG.WORKERS, pin_memory=True, sampler=None)"
   ]
  },
  {
   "cell_type": "code",
   "execution_count": 18,
   "id": "460059f8",
   "metadata": {
    "execution": {
     "iopub.execute_input": "2023-03-26T04:31:49.846694Z",
     "iopub.status.busy": "2023-03-26T04:31:49.846519Z",
     "iopub.status.idle": "2023-03-26T04:31:49.850222Z",
     "shell.execute_reply": "2023-03-26T04:31:49.849653Z"
    },
    "papermill": {
     "duration": 0.009557,
     "end_time": "2023-03-26T04:31:49.851288",
     "exception": false,
     "start_time": "2023-03-26T04:31:49.841731",
     "status": "completed"
    },
    "tags": []
   },
   "outputs": [],
   "source": [
    "val_loader = torch.utils.data.DataLoader(\n",
    "        val_dataset, batch_size=CFG.VAL_BATCH, shuffle=False,\n",
    "        num_workers=CFG.WORKERS, pin_memory=True, sampler=None) "
   ]
  },
  {
   "attachments": {},
   "cell_type": "markdown",
   "id": "f1250ad4",
   "metadata": {
    "papermill": {
     "duration": 0.004202,
     "end_time": "2023-03-26T04:31:49.859792",
     "exception": false,
     "start_time": "2023-03-26T04:31:49.855590",
     "status": "completed"
    },
    "tags": []
   },
   "source": [
    "# Training Loop"
   ]
  },
  {
   "cell_type": "code",
   "execution_count": 19,
   "id": "748b22db",
   "metadata": {
    "execution": {
     "iopub.execute_input": "2023-03-26T04:31:49.869139Z",
     "iopub.status.busy": "2023-03-26T04:31:49.868805Z",
     "iopub.status.idle": "2023-03-26T04:31:51.558843Z",
     "shell.execute_reply": "2023-03-26T04:31:51.557629Z"
    },
    "papermill": {
     "duration": 1.697332,
     "end_time": "2023-03-26T04:31:51.561370",
     "exception": false,
     "start_time": "2023-03-26T04:31:49.864038",
     "status": "completed"
    },
    "tags": []
   },
   "outputs": [
    {
     "name": "stderr",
     "output_type": "stream",
     "text": [
      "/opt/conda/envs/torch/lib/python3.9/site-packages/torch/functional.py:504: UserWarning: torch.meshgrid: in an upcoming release, it will be required to pass the indexing argument. (Triggered internally at /opt/conda/conda-bld/pytorch_1678402374358/work/aten/src/ATen/native/TensorShape.cpp:3483.)\n",
      "  return _VF.meshgrid(tensors, **kwargs)  # type: ignore[attr-defined]\n"
     ]
    }
   ],
   "source": [
    "model = torch.compile(MaxVitClassifier(CFG))\n",
    "model = model.cuda(GPU)\n"
   ]
  },
  {
   "cell_type": "code",
   "execution_count": 20,
   "id": "c86330f0",
   "metadata": {
    "execution": {
     "iopub.execute_input": "2023-03-26T04:31:51.576293Z",
     "iopub.status.busy": "2023-03-26T04:31:51.575502Z",
     "iopub.status.idle": "2023-03-26T04:31:51.589842Z",
     "shell.execute_reply": "2023-03-26T04:31:51.588862Z"
    },
    "papermill": {
     "duration": 0.02309,
     "end_time": "2023-03-26T04:31:51.591626",
     "exception": false,
     "start_time": "2023-03-26T04:31:51.568536",
     "status": "completed"
    },
    "tags": []
   },
   "outputs": [],
   "source": [
    "# define loss function (criterion) and optimizer\n",
    "# get the class weights from the validation set\n",
    "criterion = nn.CrossEntropyLoss(weight=get_class_weights(val_dataset)).cuda(GPU)\n",
    "\n",
    "optimizer = torch.optim.Adam(\n",
    "  model.parameters(), \n",
    "  lr=CFG.LR, \n",
    "  # momentum=MOMENTUM, \n",
    "  weight_decay=CFG.WEIGHT_DECAY\n",
    "  )\n",
    "\n",
    "scheduler = torch.optim.lr_scheduler.CosineAnnealingLR(optimizer, T_max=CFG.EPOCHS)"
   ]
  },
  {
   "cell_type": "code",
   "execution_count": 21,
   "id": "08a086d8",
   "metadata": {
    "execution": {
     "iopub.execute_input": "2023-03-26T04:31:51.603377Z",
     "iopub.status.busy": "2023-03-26T04:31:51.603018Z",
     "iopub.status.idle": "2023-03-26T04:31:51.607161Z",
     "shell.execute_reply": "2023-03-26T04:31:51.606592Z"
    },
    "papermill": {
     "duration": 0.011662,
     "end_time": "2023-03-26T04:31:51.608687",
     "exception": false,
     "start_time": "2023-03-26T04:31:51.597025",
     "status": "completed"
    },
    "tags": []
   },
   "outputs": [],
   "source": [
    "best_acc1 = 0"
   ]
  },
  {
   "cell_type": "code",
   "execution_count": 22,
   "id": "e0a2159f",
   "metadata": {
    "execution": {
     "iopub.execute_input": "2023-03-26T04:31:51.619941Z",
     "iopub.status.busy": "2023-03-26T04:31:51.619724Z"
    },
    "papermill": {
     "duration": null,
     "end_time": null,
     "exception": false,
     "start_time": "2023-03-26T04:31:51.613868",
     "status": "running"
    },
    "tags": [
     "parameters"
    ]
   },
   "outputs": [
    {
     "name": "stdout",
     "output_type": "stream",
     "text": [
      "Epoch 0/19\n",
      "----------\n"
     ]
    },
    {
     "name": "stdout",
     "output_type": "stream",
     "text": [
      "Epoch: [0][   0/2809]\tTime 61.611 (61.611)\tData  1.793 ( 1.793)\tLoss 3.0994e+00 (3.0994e+00)\tAcc@1  17.19 ( 17.19)\tAcc@5  45.31 ( 45.31)\n"
     ]
    },
    {
     "name": "stdout",
     "output_type": "stream",
     "text": [
      "Epoch: [0][  50/2809]\tTime  0.252 ( 1.501)\tData  0.038 ( 0.118)\tLoss 3.1402e+00 (3.0929e+00)\tAcc@1   7.81 ( 17.80)\tAcc@5  34.38 ( 40.38)\n"
     ]
    },
    {
     "name": "stdout",
     "output_type": "stream",
     "text": [
      "Epoch: [0][ 100/2809]\tTime  0.233 ( 0.929)\tData  0.018 ( 0.124)\tLoss 3.0729e+00 (3.0884e+00)\tAcc@1  35.94 ( 18.04)\tAcc@5  50.00 ( 40.98)\n"
     ]
    },
    {
     "name": "stdout",
     "output_type": "stream",
     "text": [
      "Epoch: [0][ 150/2809]\tTime  0.250 ( 0.732)\tData  0.036 ( 0.123)\tLoss 3.0886e+00 (3.0893e+00)\tAcc@1  17.19 ( 17.66)\tAcc@5  45.31 ( 40.76)\n"
     ]
    },
    {
     "name": "stdout",
     "output_type": "stream",
     "text": [
      "Epoch: [0][ 200/2809]\tTime  0.246 ( 0.635)\tData  0.031 ( 0.124)\tLoss 3.1214e+00 (3.0884e+00)\tAcc@1  20.31 ( 17.68)\tAcc@5  46.88 ( 41.12)\n"
     ]
    },
    {
     "name": "stdout",
     "output_type": "stream",
     "text": [
      "Epoch: [0][ 250/2809]\tTime  0.232 ( 0.576)\tData  0.018 ( 0.124)\tLoss 2.9982e+00 (3.0899e+00)\tAcc@1  23.44 ( 17.56)\tAcc@5  50.00 ( 41.02)\n"
     ]
    },
    {
     "name": "stdout",
     "output_type": "stream",
     "text": [
      "Epoch: [0][ 300/2809]\tTime  0.243 ( 0.538)\tData  0.028 ( 0.125)\tLoss 3.1157e+00 (3.0902e+00)\tAcc@1  21.88 ( 17.67)\tAcc@5  45.31 ( 41.11)\n"
     ]
    },
    {
     "name": "stdout",
     "output_type": "stream",
     "text": [
      "Epoch: [0][ 350/2809]\tTime  0.216 ( 0.509)\tData  0.001 ( 0.124)\tLoss 3.0421e+00 (3.0901e+00)\tAcc@1  18.75 ( 17.73)\tAcc@5  40.62 ( 41.12)\n"
     ]
    },
    {
     "name": "stdout",
     "output_type": "stream",
     "text": [
      "Epoch: [0][ 400/2809]\tTime  0.250 ( 0.489)\tData  0.035 ( 0.125)\tLoss 3.1306e+00 (3.0890e+00)\tAcc@1  14.06 ( 17.78)\tAcc@5  35.94 ( 41.29)\n"
     ]
    },
    {
     "name": "stdout",
     "output_type": "stream",
     "text": [
      "Epoch: [0][ 450/2809]\tTime  0.217 ( 0.471)\tData  0.001 ( 0.124)\tLoss 3.0356e+00 (3.0884e+00)\tAcc@1  20.31 ( 17.83)\tAcc@5  42.19 ( 41.28)\n"
     ]
    },
    {
     "name": "stdout",
     "output_type": "stream",
     "text": [
      "Epoch: [0][ 500/2809]\tTime  0.233 ( 0.459)\tData  0.018 ( 0.125)\tLoss 3.0621e+00 (3.0886e+00)\tAcc@1  20.31 ( 17.85)\tAcc@5  31.25 ( 41.31)\n"
     ]
    },
    {
     "name": "stdout",
     "output_type": "stream",
     "text": [
      "Epoch: [0][ 550/2809]\tTime  0.216 ( 0.448)\tData  0.001 ( 0.125)\tLoss 3.0865e+00 (3.0883e+00)\tAcc@1  20.31 ( 17.90)\tAcc@5  40.62 ( 41.36)\n"
     ]
    },
    {
     "name": "stdout",
     "output_type": "stream",
     "text": [
      "Epoch: [0][ 600/2809]\tTime  0.217 ( 0.439)\tData  0.001 ( 0.125)\tLoss 3.0457e+00 (3.0892e+00)\tAcc@1  23.44 ( 17.87)\tAcc@5  42.19 ( 41.37)\n"
     ]
    },
    {
     "name": "stdout",
     "output_type": "stream",
     "text": [
      "Epoch: [0][ 650/2809]\tTime  0.215 ( 0.431)\tData  0.001 ( 0.125)\tLoss 3.0733e+00 (3.0890e+00)\tAcc@1  14.06 ( 17.86)\tAcc@5  40.62 ( 41.42)\n"
     ]
    },
    {
     "name": "stdout",
     "output_type": "stream",
     "text": [
      "Epoch: [0][ 700/2809]\tTime  0.217 ( 0.425)\tData  0.002 ( 0.125)\tLoss 3.0526e+00 (3.0886e+00)\tAcc@1  25.00 ( 17.92)\tAcc@5  46.88 ( 41.45)\n"
     ]
    },
    {
     "name": "stdout",
     "output_type": "stream",
     "text": [
      "Epoch: [0][ 750/2809]\tTime  0.216 ( 0.419)\tData  0.001 ( 0.125)\tLoss 3.1389e+00 (3.0883e+00)\tAcc@1  20.31 ( 17.95)\tAcc@5  40.62 ( 41.40)\n"
     ]
    },
    {
     "name": "stdout",
     "output_type": "stream",
     "text": [
      "Epoch: [0][ 800/2809]\tTime  0.216 ( 0.415)\tData  0.001 ( 0.125)\tLoss 3.0341e+00 (3.0885e+00)\tAcc@1  26.56 ( 17.91)\tAcc@5  48.44 ( 41.43)\n"
     ]
    },
    {
     "name": "stdout",
     "output_type": "stream",
     "text": [
      "Epoch: [0][ 850/2809]\tTime  0.216 ( 0.410)\tData  0.001 ( 0.125)\tLoss 3.0897e+00 (3.0886e+00)\tAcc@1  21.88 ( 17.89)\tAcc@5  43.75 ( 41.43)\n"
     ]
    },
    {
     "name": "stdout",
     "output_type": "stream",
     "text": [
      "Epoch: [0][ 900/2809]\tTime  0.216 ( 0.407)\tData  0.001 ( 0.125)\tLoss 3.1314e+00 (3.0887e+00)\tAcc@1  14.06 ( 17.86)\tAcc@5  39.06 ( 41.41)\n"
     ]
    },
    {
     "name": "stdout",
     "output_type": "stream",
     "text": [
      "Epoch: [0][ 950/2809]\tTime  0.215 ( 0.403)\tData  0.001 ( 0.125)\tLoss 3.0706e+00 (3.0892e+00)\tAcc@1  17.19 ( 17.85)\tAcc@5  48.44 ( 41.41)\n"
     ]
    },
    {
     "name": "stdout",
     "output_type": "stream",
     "text": [
      "Epoch: [0][1000/2809]\tTime  0.218 ( 0.400)\tData  0.001 ( 0.125)\tLoss 3.1646e+00 (3.0891e+00)\tAcc@1  10.94 ( 17.84)\tAcc@5  37.50 ( 41.43)\n"
     ]
    },
    {
     "name": "stdout",
     "output_type": "stream",
     "text": [
      "Epoch: [0][1050/2809]\tTime  0.215 ( 0.397)\tData  0.001 ( 0.125)\tLoss 3.1461e+00 (3.0887e+00)\tAcc@1  17.19 ( 17.88)\tAcc@5  39.06 ( 41.34)\n"
     ]
    },
    {
     "name": "stdout",
     "output_type": "stream",
     "text": [
      "Epoch: [0][1100/2809]\tTime  0.216 ( 0.395)\tData  0.001 ( 0.125)\tLoss 3.0660e+00 (3.0890e+00)\tAcc@1  15.62 ( 17.83)\tAcc@5  46.88 ( 41.36)\n"
     ]
    },
    {
     "name": "stdout",
     "output_type": "stream",
     "text": [
      "Epoch: [0][1150/2809]\tTime  0.215 ( 0.392)\tData  0.001 ( 0.125)\tLoss 3.1192e+00 (3.0888e+00)\tAcc@1  21.88 ( 17.83)\tAcc@5  46.88 ( 41.39)\n"
     ]
    },
    {
     "name": "stdout",
     "output_type": "stream",
     "text": [
      "Epoch: [0][1200/2809]\tTime  0.216 ( 0.390)\tData  0.001 ( 0.126)\tLoss 3.0883e+00 (3.0891e+00)\tAcc@1  18.75 ( 17.80)\tAcc@5  35.94 ( 41.39)\n"
     ]
    },
    {
     "name": "stdout",
     "output_type": "stream",
     "text": [
      "Epoch: [0][1250/2809]\tTime  0.216 ( 0.388)\tData  0.001 ( 0.125)\tLoss 3.1223e+00 (3.0890e+00)\tAcc@1  18.75 ( 17.79)\tAcc@5  42.19 ( 41.37)\n"
     ]
    },
    {
     "name": "stdout",
     "output_type": "stream",
     "text": [
      "Epoch: [0][1300/2809]\tTime  0.216 ( 0.386)\tData  0.001 ( 0.126)\tLoss 3.0945e+00 (3.0890e+00)\tAcc@1  20.31 ( 17.81)\tAcc@5  37.50 ( 41.38)\n"
     ]
    }
   ],
   "source": [
    "%%time\n",
    "for epoch in range(CFG.START_EPOCH, CFG.EPOCHS):\n",
    "    print('Epoch {}/{}'.format(epoch, CFG.EPOCHS - 1))\n",
    "    print('-' * 10)\n",
    "    \n",
    "    wblogdict = {}\n",
    "    # train for one epoch\n",
    "    train(train_loader, model, criterion, optimizer, epoch)\n",
    "\n",
    "    # evaluate on validation set\n",
    "    acc1, acc5 = validate(val_loader, model, criterion)\n",
    "\n",
    "    # remember best acc@1 and save checkpoint\n",
    "    is_best = acc1 > best_acc1\n",
    "    best_acc1 = max(acc1, best_acc1)\n",
    "\n",
    "    save_checkpoint({\n",
    "        'epoch': epoch + 1,\n",
    "        'arch': CFG.ARCH,\n",
    "        'state_dict': model.state_dict(),\n",
    "        'best_acc1': best_acc1,\n",
    "        'acc5': acc5,\n",
    "        'optimizer' : optimizer.state_dict(),\n",
    "    }, is_best)\n",
    "\n",
    "    wblogger.log(wblogdict, step=epoch)\n",
    "    \n",
    "    scheduler.step()\n",
    "    print('lr: ' + str(scheduler.get_last_lr()[0]))\n",
    "    # wandb.log({'lr': scheduler.get_last_lr()[0]})"
   ]
  }
 ],
 "metadata": {
  "kernelspec": {
   "display_name": "cell-painting",
   "language": "python",
   "name": "python3"
  },
  "language_info": {
   "codemirror_mode": {
    "name": "ipython",
    "version": 3
   },
   "file_extension": ".py",
   "mimetype": "text/x-python",
   "name": "python",
   "nbconvert_exporter": "python",
   "pygments_lexer": "ipython3",
   "version": "3.9.16"
  },
  "papermill": {
   "default_parameters": {},
   "duration": null,
   "end_time": null,
   "environment_variables": {},
   "exception": null,
   "input_path": "from_scratch.ipynb",
   "output_path": "from_scratch_papermill_output.ipynb",
   "parameters": {},
   "start_time": "2023-03-26T04:31:41.760531",
   "version": "2.3.4"
  }
 },
 "nbformat": 4,
 "nbformat_minor": 5
}